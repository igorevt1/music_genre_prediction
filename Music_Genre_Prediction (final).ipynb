{
 "cells": [
  {
   "cell_type": "markdown",
   "id": "ccbdf891",
   "metadata": {},
   "source": [
    "# Вводная часть\n",
    "\n",
    "<b>Задача:</b>\n",
    "Разработать модель, позволяющую классифицировать музыкальные произведения по жанрам.\n",
    "\n",
    "<b>Метрика:</b> F1 (micro).\n",
    "\n",
    "<b>Данные:</b>\n",
    "- `train.csv` - информация (40000) музыкальных треках, которые будут использоваться в качестве обучающих данных.\n",
    "- `test.csv` - информация (10000) музыкальных треках, которые будут использоваться в качестве тестовых данных.\n",
    "\n",
    "<b>Описание полей данных:</b>\n",
    "\n",
    "- `instance_id` -Уникальный идентификатор трека\n",
    "- `track_name` - Название трека\n",
    "- `popularity` - Популярность трека\n",
    "- `acousticness` - Мера уверенности от 0,0 до 1,0 в том, что трек является акустическим. 1,0 означает высокую степень уверенности в том, что трек является акустическим.\n",
    "- `danceability` - Танцевальность описывает, насколько трек подходит для танцев, основываясь на сочетании музыкальных элементов, включая темп, стабильность ритма, силу ударов и общую регулярность. Значение 0,0 означает наименьшую танцевальность, а 1,0 - наибольшую танцевальность.\n",
    "- `duration_ms` - Продолжительность трека в миллисекундах.\n",
    "- `energy` - Энергия это показатель от 0,0 до 1,0, представляющий собой меру интенсивности и активности. Как правило, энергичные композиции ощущаются как быстрые, громкие и шумные. Например, дэт-метал обладает высокой энергией, в то время как прелюдия Баха имеет низкую оценку этого параметра\n",
    "- `instrumentalness` - Определяет, содержит ли трек вокал. Звуки \"Ooh\" и \"aah\" в данном контексте рассматриваются как инструментальные. Рэп или разговорные треки явно являются \"вокальными\". Чем ближе значение инструментальности к 1,0, тем больше вероятность того, что трек не содержит вокала\n",
    "- `key` - базовый ключ (нота) произведения\n",
    "- `liveness` - Определяет присутствие аудитории в записи. Более высокие значения liveness означают увеличение вероятности того, что трек был исполнен вживую. Значение выше 0,8 обеспечивает высокую вероятность того, что трек исполняется вживую\n",
    "- `loudness` - Общая громкость трека в децибелах (дБ)\n",
    "- `mode` - Указывает на модальность (мажорную или минорную) трека\n",
    "- `speechiness` - Речевой характер определяет наличие в треке разговорной речи. Чем более исключительно речевой характер носит запись (например, ток-шоу, аудиокнига, поэзия), тем ближе значение атрибута к 1,0. Значения выше 0,66 характеризуют треки, которые, вероятно, полностью состоят из разговорной речи. Значения от 0,33 до 0,66 характеризуют треки, которые могут содержать как музыку, так и речь, как в виде фрагментов, так и в виде слоев, включая такие случаи, как рэп-музыка. Значения ниже 0,33, скорее всего, представляют музыку и другие неречевые треки.\n",
    "- `tempo` - Темп трека в ударах в минуту (BPM). В музыкальной терминологии темп представляет собой скорость или темп данного произведения и напрямую зависит от средней продолжительности тактов\n",
    "- `obtained_date` - дата загрузки в сервис\n",
    "- `valence` - Показатель от 0,0 до 1,0, характеризующий музыкальный позитив, передаваемый треком. Композиции с высокой валентностью звучат более позитивно (например, радостно, весело, эйфорично), а композиции с низкой валентностью - более негативно (например, грустно, депрессивно, сердито)\n",
    "- `music_genre` - Музыкальный жанр трека"
   ]
  },
  {
   "cell_type": "markdown",
   "id": "e3e4c87f",
   "metadata": {},
   "source": [
    "# План\n",
    "* загрузка и ознакомление с данными\n",
    "* предварительная обработка\n",
    "* полноценный разведочный анализ,\n",
    "* разработка новых синтетических признаков,\n",
    "* проверка на мультиколлинеарность,\n",
    "* отбор финального набора обучающих признаков,\n",
    "* выбор и обучение моделей,\n",
    "* итоговая оценка качества предсказания лучшей модели,\n",
    "* анализ важности ее признаков."
   ]
  },
  {
   "cell_type": "markdown",
   "id": "1a171a93",
   "metadata": {},
   "source": [
    "# Библиотеки"
   ]
  },
  {
   "cell_type": "code",
   "execution_count": 1,
   "id": "6daee945",
   "metadata": {},
   "outputs": [],
   "source": [
    "import warnings\n",
    "warnings.filterwarnings('ignore')\n",
    "# библиотеки\n",
    "import pandas as pd\n",
    "import matplotlib.pyplot as plt\n",
    "from sklearn.model_selection import train_test_split\n",
    "from sklearn.preprocessing import OneHotEncoder, StandardScaler\n",
    "from sklearn.ensemble import RandomForestClassifier\n",
    "from sklearn.tree import DecisionTreeClassifier\n",
    "from catboost import CatBoostClassifier\n",
    "from sklearn.linear_model import LogisticRegression\n",
    "from sklearn.metrics import f1_score\n",
    "from sklearn.pipeline import Pipeline\n",
    "from sklearn.compose import ColumnTransformer\n",
    "from sklearn.model_selection import GridSearchCV\n",
    "import phik\n",
    "from phik import resources, report\n",
    "from sklearn.feature_selection import SelectKBest#, chi2\n",
    "import numpy as np"
   ]
  },
  {
   "cell_type": "markdown",
   "id": "203b81d2",
   "metadata": {},
   "source": [
    "# Этап 1. Загрузка и проверка данных."
   ]
  },
  {
   "cell_type": "markdown",
   "id": "787d4d98",
   "metadata": {},
   "source": [
    "Загрузка данных из файлов."
   ]
  },
  {
   "cell_type": "code",
   "execution_count": 2,
   "id": "33f13603",
   "metadata": {},
   "outputs": [],
   "source": [
    "df_train = pd.read_csv('./music-genre-prediction-m127ds/train.csv')\n",
    "df_test = pd.read_csv('./music-genre-prediction-m127ds/test.csv')"
   ]
  },
  {
   "cell_type": "markdown",
   "id": "6557007e",
   "metadata": {},
   "source": [
    "Обзор данных train."
   ]
  },
  {
   "cell_type": "code",
   "execution_count": 3,
   "id": "794a2cc9",
   "metadata": {
    "scrolled": true
   },
   "outputs": [
    {
     "data": {
      "text/html": [
       "<div>\n",
       "<style scoped>\n",
       "    .dataframe tbody tr th:only-of-type {\n",
       "        vertical-align: middle;\n",
       "    }\n",
       "\n",
       "    .dataframe tbody tr th {\n",
       "        vertical-align: top;\n",
       "    }\n",
       "\n",
       "    .dataframe thead th {\n",
       "        text-align: right;\n",
       "    }\n",
       "</style>\n",
       "<table border=\"1\" class=\"dataframe\">\n",
       "  <thead>\n",
       "    <tr style=\"text-align: right;\">\n",
       "      <th></th>\n",
       "      <th>instance_id</th>\n",
       "      <th>track_name</th>\n",
       "      <th>popularity</th>\n",
       "      <th>acousticness</th>\n",
       "      <th>danceability</th>\n",
       "      <th>duration_ms</th>\n",
       "      <th>energy</th>\n",
       "      <th>instrumentalness</th>\n",
       "      <th>key</th>\n",
       "      <th>liveness</th>\n",
       "      <th>loudness</th>\n",
       "      <th>mode</th>\n",
       "      <th>speechiness</th>\n",
       "      <th>tempo</th>\n",
       "      <th>obtained_date</th>\n",
       "      <th>valence</th>\n",
       "      <th>music_genre</th>\n",
       "    </tr>\n",
       "  </thead>\n",
       "  <tbody>\n",
       "    <tr>\n",
       "      <th>0</th>\n",
       "      <td>4919</td>\n",
       "      <td>By Your Side</td>\n",
       "      <td>33.0</td>\n",
       "      <td>0.000718</td>\n",
       "      <td>0.501</td>\n",
       "      <td>-1.0</td>\n",
       "      <td>0.935</td>\n",
       "      <td>0.020100</td>\n",
       "      <td>G#</td>\n",
       "      <td>0.0831</td>\n",
       "      <td>-5.566</td>\n",
       "      <td>Minor</td>\n",
       "      <td>0.1570</td>\n",
       "      <td>144.922</td>\n",
       "      <td>4-Apr</td>\n",
       "      <td>0.1880</td>\n",
       "      <td>Electronic</td>\n",
       "    </tr>\n",
       "    <tr>\n",
       "      <th>1</th>\n",
       "      <td>16096</td>\n",
       "      <td>NaN</td>\n",
       "      <td>55.0</td>\n",
       "      <td>0.064700</td>\n",
       "      <td>0.282</td>\n",
       "      <td>288333.0</td>\n",
       "      <td>0.738</td>\n",
       "      <td>0.014200</td>\n",
       "      <td>C</td>\n",
       "      <td>0.2900</td>\n",
       "      <td>-5.566</td>\n",
       "      <td>Major</td>\n",
       "      <td>0.0324</td>\n",
       "      <td>126.914</td>\n",
       "      <td>NaN</td>\n",
       "      <td>0.2110</td>\n",
       "      <td>Alternative</td>\n",
       "    </tr>\n",
       "    <tr>\n",
       "      <th>2</th>\n",
       "      <td>43825</td>\n",
       "      <td>Symphony No. 6: VI. Allegro</td>\n",
       "      <td>39.0</td>\n",
       "      <td>0.931000</td>\n",
       "      <td>0.364</td>\n",
       "      <td>115240.0</td>\n",
       "      <td>0.349</td>\n",
       "      <td>0.940000</td>\n",
       "      <td>NaN</td>\n",
       "      <td>0.1100</td>\n",
       "      <td>-13.279</td>\n",
       "      <td>NaN</td>\n",
       "      <td>0.0321</td>\n",
       "      <td>65.42699999999999</td>\n",
       "      <td>4-Apr</td>\n",
       "      <td>0.0891</td>\n",
       "      <td>Classical</td>\n",
       "    </tr>\n",
       "    <tr>\n",
       "      <th>3</th>\n",
       "      <td>4331</td>\n",
       "      <td>NaN</td>\n",
       "      <td>56.0</td>\n",
       "      <td>0.012300</td>\n",
       "      <td>0.332</td>\n",
       "      <td>234638.0</td>\n",
       "      <td>0.847</td>\n",
       "      <td>0.000027</td>\n",
       "      <td>B</td>\n",
       "      <td>0.2970</td>\n",
       "      <td>-4.513</td>\n",
       "      <td>Minor</td>\n",
       "      <td>0.0910</td>\n",
       "      <td>67.23</td>\n",
       "      <td>5-Apr</td>\n",
       "      <td>0.3920</td>\n",
       "      <td>Electronic</td>\n",
       "    </tr>\n",
       "    <tr>\n",
       "      <th>4</th>\n",
       "      <td>21371</td>\n",
       "      <td>Shoe Shopping</td>\n",
       "      <td>52.0</td>\n",
       "      <td>0.580000</td>\n",
       "      <td>0.716</td>\n",
       "      <td>221640.0</td>\n",
       "      <td>0.614</td>\n",
       "      <td>0.000014</td>\n",
       "      <td>G</td>\n",
       "      <td>0.1600</td>\n",
       "      <td>-7.099</td>\n",
       "      <td>Major</td>\n",
       "      <td>0.0360</td>\n",
       "      <td>88.006</td>\n",
       "      <td>4-Apr</td>\n",
       "      <td>0.6800</td>\n",
       "      <td>Country</td>\n",
       "    </tr>\n",
       "  </tbody>\n",
       "</table>\n",
       "</div>"
      ],
      "text/plain": [
       "   instance_id                   track_name  popularity  acousticness  \\\n",
       "0         4919                 By Your Side        33.0      0.000718   \n",
       "1        16096                          NaN        55.0      0.064700   \n",
       "2        43825  Symphony No. 6: VI. Allegro        39.0      0.931000   \n",
       "3         4331                          NaN        56.0      0.012300   \n",
       "4        21371                Shoe Shopping        52.0      0.580000   \n",
       "\n",
       "   danceability  duration_ms  energy  instrumentalness  key  liveness  \\\n",
       "0         0.501         -1.0   0.935          0.020100   G#    0.0831   \n",
       "1         0.282     288333.0   0.738          0.014200    C    0.2900   \n",
       "2         0.364     115240.0   0.349          0.940000  NaN    0.1100   \n",
       "3         0.332     234638.0   0.847          0.000027    B    0.2970   \n",
       "4         0.716     221640.0   0.614          0.000014    G    0.1600   \n",
       "\n",
       "   loudness   mode  speechiness              tempo obtained_date  valence  \\\n",
       "0    -5.566  Minor       0.1570            144.922         4-Apr   0.1880   \n",
       "1    -5.566  Major       0.0324            126.914           NaN   0.2110   \n",
       "2   -13.279    NaN       0.0321  65.42699999999999         4-Apr   0.0891   \n",
       "3    -4.513  Minor       0.0910              67.23         5-Apr   0.3920   \n",
       "4    -7.099  Major       0.0360             88.006         4-Apr   0.6800   \n",
       "\n",
       "   music_genre  \n",
       "0   Electronic  \n",
       "1  Alternative  \n",
       "2    Classical  \n",
       "3   Electronic  \n",
       "4      Country  "
      ]
     },
     "execution_count": 3,
     "metadata": {},
     "output_type": "execute_result"
    }
   ],
   "source": [
    "df_train.head()"
   ]
  },
  {
   "cell_type": "markdown",
   "id": "2ea31111",
   "metadata": {},
   "source": [
    "Обзор данных test."
   ]
  },
  {
   "cell_type": "code",
   "execution_count": 4,
   "id": "066d271b",
   "metadata": {},
   "outputs": [
    {
     "data": {
      "text/html": [
       "<div>\n",
       "<style scoped>\n",
       "    .dataframe tbody tr th:only-of-type {\n",
       "        vertical-align: middle;\n",
       "    }\n",
       "\n",
       "    .dataframe tbody tr th {\n",
       "        vertical-align: top;\n",
       "    }\n",
       "\n",
       "    .dataframe thead th {\n",
       "        text-align: right;\n",
       "    }\n",
       "</style>\n",
       "<table border=\"1\" class=\"dataframe\">\n",
       "  <thead>\n",
       "    <tr style=\"text-align: right;\">\n",
       "      <th></th>\n",
       "      <th>instance_id</th>\n",
       "      <th>track_name</th>\n",
       "      <th>popularity</th>\n",
       "      <th>acousticness</th>\n",
       "      <th>danceability</th>\n",
       "      <th>duration_ms</th>\n",
       "      <th>energy</th>\n",
       "      <th>instrumentalness</th>\n",
       "      <th>key</th>\n",
       "      <th>liveness</th>\n",
       "      <th>loudness</th>\n",
       "      <th>mode</th>\n",
       "      <th>speechiness</th>\n",
       "      <th>tempo</th>\n",
       "      <th>obtained_date</th>\n",
       "      <th>valence</th>\n",
       "    </tr>\n",
       "  </thead>\n",
       "  <tbody>\n",
       "    <tr>\n",
       "      <th>0</th>\n",
       "      <td>20514</td>\n",
       "      <td>Bullet Proof ... I Wish I Was</td>\n",
       "      <td>49.0</td>\n",
       "      <td>0.7800</td>\n",
       "      <td>0.448</td>\n",
       "      <td>208733.0</td>\n",
       "      <td>0.359</td>\n",
       "      <td>0.671000</td>\n",
       "      <td>G</td>\n",
       "      <td>0.0753</td>\n",
       "      <td>-13.559</td>\n",
       "      <td>Major</td>\n",
       "      <td>0.0288</td>\n",
       "      <td>80.91199999999999</td>\n",
       "      <td>4-Apr</td>\n",
       "      <td>0.0773</td>\n",
       "    </tr>\n",
       "    <tr>\n",
       "      <th>1</th>\n",
       "      <td>46957</td>\n",
       "      <td>Does It</td>\n",
       "      <td>48.0</td>\n",
       "      <td>0.2120</td>\n",
       "      <td>0.651</td>\n",
       "      <td>262547.0</td>\n",
       "      <td>0.655</td>\n",
       "      <td>0.000198</td>\n",
       "      <td>A</td>\n",
       "      <td>0.2060</td>\n",
       "      <td>-9.430</td>\n",
       "      <td>NaN</td>\n",
       "      <td>0.1650</td>\n",
       "      <td>120.10799999999999</td>\n",
       "      <td>4-Apr</td>\n",
       "      <td>0.2710</td>\n",
       "    </tr>\n",
       "    <tr>\n",
       "      <th>2</th>\n",
       "      <td>5488</td>\n",
       "      <td>NaN</td>\n",
       "      <td>34.0</td>\n",
       "      <td>0.1630</td>\n",
       "      <td>0.595</td>\n",
       "      <td>270733.0</td>\n",
       "      <td>0.277</td>\n",
       "      <td>0.677000</td>\n",
       "      <td>C#</td>\n",
       "      <td>0.1310</td>\n",
       "      <td>-14.141</td>\n",
       "      <td>Major</td>\n",
       "      <td>0.0391</td>\n",
       "      <td>153.464</td>\n",
       "      <td>3-Apr</td>\n",
       "      <td>0.1450</td>\n",
       "    </tr>\n",
       "    <tr>\n",
       "      <th>3</th>\n",
       "      <td>18150</td>\n",
       "      <td>Breaking Inside (feat. Lzzy Hale of Halestorm)</td>\n",
       "      <td>41.0</td>\n",
       "      <td>0.0684</td>\n",
       "      <td>0.466</td>\n",
       "      <td>227467.0</td>\n",
       "      <td>0.912</td>\n",
       "      <td>0.000000</td>\n",
       "      <td>D</td>\n",
       "      <td>0.0892</td>\n",
       "      <td>-3.423</td>\n",
       "      <td>Minor</td>\n",
       "      <td>0.0474</td>\n",
       "      <td>151.977</td>\n",
       "      <td>4-Apr</td>\n",
       "      <td>0.4160</td>\n",
       "    </tr>\n",
       "    <tr>\n",
       "      <th>4</th>\n",
       "      <td>20148</td>\n",
       "      <td>NaN</td>\n",
       "      <td>47.0</td>\n",
       "      <td>0.0012</td>\n",
       "      <td>0.345</td>\n",
       "      <td>298813.0</td>\n",
       "      <td>0.974</td>\n",
       "      <td>0.000030</td>\n",
       "      <td>D</td>\n",
       "      <td>0.3620</td>\n",
       "      <td>-3.221</td>\n",
       "      <td>Minor</td>\n",
       "      <td>0.0607</td>\n",
       "      <td>175.02700000000002</td>\n",
       "      <td>4-Apr</td>\n",
       "      <td>0.5710</td>\n",
       "    </tr>\n",
       "  </tbody>\n",
       "</table>\n",
       "</div>"
      ],
      "text/plain": [
       "   instance_id                                      track_name  popularity  \\\n",
       "0        20514                   Bullet Proof ... I Wish I Was        49.0   \n",
       "1        46957                                         Does It        48.0   \n",
       "2         5488                                             NaN        34.0   \n",
       "3        18150  Breaking Inside (feat. Lzzy Hale of Halestorm)        41.0   \n",
       "4        20148                                             NaN        47.0   \n",
       "\n",
       "   acousticness  danceability  duration_ms  energy  instrumentalness key  \\\n",
       "0        0.7800         0.448     208733.0   0.359          0.671000   G   \n",
       "1        0.2120         0.651     262547.0   0.655          0.000198   A   \n",
       "2        0.1630         0.595     270733.0   0.277          0.677000  C#   \n",
       "3        0.0684         0.466     227467.0   0.912          0.000000   D   \n",
       "4        0.0012         0.345     298813.0   0.974          0.000030   D   \n",
       "\n",
       "   liveness  loudness   mode  speechiness               tempo obtained_date  \\\n",
       "0    0.0753   -13.559  Major       0.0288   80.91199999999999         4-Apr   \n",
       "1    0.2060    -9.430    NaN       0.1650  120.10799999999999         4-Apr   \n",
       "2    0.1310   -14.141  Major       0.0391             153.464         3-Apr   \n",
       "3    0.0892    -3.423  Minor       0.0474             151.977         4-Apr   \n",
       "4    0.3620    -3.221  Minor       0.0607  175.02700000000002         4-Apr   \n",
       "\n",
       "   valence  \n",
       "0   0.0773  \n",
       "1   0.2710  \n",
       "2   0.1450  \n",
       "3   0.4160  \n",
       "4   0.5710  "
      ]
     },
     "execution_count": 4,
     "metadata": {},
     "output_type": "execute_result"
    }
   ],
   "source": [
    "df_test.head()"
   ]
  },
  {
   "cell_type": "markdown",
   "id": "8fc85e16",
   "metadata": {},
   "source": [
    "Изучение датафрейма train методом .info()"
   ]
  },
  {
   "cell_type": "code",
   "execution_count": 5,
   "id": "602a6893",
   "metadata": {},
   "outputs": [
    {
     "name": "stdout",
     "output_type": "stream",
     "text": [
      "<class 'pandas.core.frame.DataFrame'>\n",
      "RangeIndex: 40000 entries, 0 to 39999\n",
      "Data columns (total 17 columns):\n",
      " #   Column            Non-Null Count  Dtype  \n",
      "---  ------            --------------  -----  \n",
      " 0   instance_id       40000 non-null  int64  \n",
      " 1   track_name        29262 non-null  object \n",
      " 2   popularity        36078 non-null  float64\n",
      " 3   acousticness      40000 non-null  float64\n",
      " 4   danceability      37963 non-null  float64\n",
      " 5   duration_ms       40000 non-null  float64\n",
      " 6   energy            40000 non-null  float64\n",
      " 7   instrumentalness  40000 non-null  float64\n",
      " 8   key               38577 non-null  object \n",
      " 9   liveness          40000 non-null  float64\n",
      " 10  loudness          40000 non-null  float64\n",
      " 11  mode              38147 non-null  object \n",
      " 12  speechiness       40000 non-null  float64\n",
      " 13  tempo             40000 non-null  object \n",
      " 14  obtained_date     33781 non-null  object \n",
      " 15  valence           40000 non-null  float64\n",
      " 16  music_genre       40000 non-null  object \n",
      "dtypes: float64(10), int64(1), object(6)\n",
      "memory usage: 5.2+ MB\n"
     ]
    }
   ],
   "source": [
    "df_train.info()"
   ]
  },
  {
   "cell_type": "markdown",
   "id": "22d1d442",
   "metadata": {},
   "source": [
    "Изучение датафрейма test методом .info()"
   ]
  },
  {
   "cell_type": "code",
   "execution_count": 6,
   "id": "cc8ec5c3",
   "metadata": {},
   "outputs": [
    {
     "name": "stdout",
     "output_type": "stream",
     "text": [
      "<class 'pandas.core.frame.DataFrame'>\n",
      "RangeIndex: 10000 entries, 0 to 9999\n",
      "Data columns (total 16 columns):\n",
      " #   Column            Non-Null Count  Dtype  \n",
      "---  ------            --------------  -----  \n",
      " 0   instance_id       10000 non-null  int64  \n",
      " 1   track_name        7388 non-null   object \n",
      " 2   popularity        8987 non-null   float64\n",
      " 3   acousticness      10000 non-null  float64\n",
      " 4   danceability      9477 non-null   float64\n",
      " 5   duration_ms       10000 non-null  float64\n",
      " 6   energy            10000 non-null  float64\n",
      " 7   instrumentalness  10000 non-null  float64\n",
      " 8   key               9673 non-null   object \n",
      " 9   liveness          10000 non-null  float64\n",
      " 10  loudness          10000 non-null  float64\n",
      " 11  mode              9518 non-null   object \n",
      " 12  speechiness       10000 non-null  float64\n",
      " 13  tempo             10000 non-null  object \n",
      " 14  obtained_date     8419 non-null   object \n",
      " 15  valence           10000 non-null  float64\n",
      "dtypes: float64(10), int64(1), object(5)\n",
      "memory usage: 1.2+ MB\n"
     ]
    }
   ],
   "source": [
    "df_test.info()"
   ]
  },
  {
   "cell_type": "markdown",
   "id": "35ae9e3d",
   "metadata": {},
   "source": [
    "describe таблицы df_train: только числовые признаки."
   ]
  },
  {
   "cell_type": "code",
   "execution_count": 7,
   "id": "f62d1c70",
   "metadata": {
    "scrolled": true
   },
   "outputs": [
    {
     "data": {
      "text/html": [
       "<div>\n",
       "<style scoped>\n",
       "    .dataframe tbody tr th:only-of-type {\n",
       "        vertical-align: middle;\n",
       "    }\n",
       "\n",
       "    .dataframe tbody tr th {\n",
       "        vertical-align: top;\n",
       "    }\n",
       "\n",
       "    .dataframe thead th {\n",
       "        text-align: right;\n",
       "    }\n",
       "</style>\n",
       "<table border=\"1\" class=\"dataframe\">\n",
       "  <thead>\n",
       "    <tr style=\"text-align: right;\">\n",
       "      <th></th>\n",
       "      <th>popularity</th>\n",
       "      <th>acousticness</th>\n",
       "      <th>danceability</th>\n",
       "      <th>duration_ms</th>\n",
       "      <th>energy</th>\n",
       "      <th>instrumentalness</th>\n",
       "      <th>liveness</th>\n",
       "      <th>loudness</th>\n",
       "      <th>speechiness</th>\n",
       "      <th>valence</th>\n",
       "    </tr>\n",
       "  </thead>\n",
       "  <tbody>\n",
       "    <tr>\n",
       "      <th>count</th>\n",
       "      <td>36078.000000</td>\n",
       "      <td>40000.000000</td>\n",
       "      <td>37963.000000</td>\n",
       "      <td>4.000000e+04</td>\n",
       "      <td>40000.000000</td>\n",
       "      <td>40000.000000</td>\n",
       "      <td>40000.000000</td>\n",
       "      <td>40000.000000</td>\n",
       "      <td>40000.000000</td>\n",
       "      <td>40000.000000</td>\n",
       "    </tr>\n",
       "    <tr>\n",
       "      <th>mean</th>\n",
       "      <td>44.180969</td>\n",
       "      <td>0.307544</td>\n",
       "      <td>0.558330</td>\n",
       "      <td>2.213221e+05</td>\n",
       "      <td>0.598456</td>\n",
       "      <td>0.182680</td>\n",
       "      <td>0.193490</td>\n",
       "      <td>-11.682016</td>\n",
       "      <td>0.129375</td>\n",
       "      <td>0.456093</td>\n",
       "    </tr>\n",
       "    <tr>\n",
       "      <th>std</th>\n",
       "      <td>15.550792</td>\n",
       "      <td>0.342142</td>\n",
       "      <td>0.179047</td>\n",
       "      <td>1.297367e+05</td>\n",
       "      <td>0.265156</td>\n",
       "      <td>0.326242</td>\n",
       "      <td>0.161448</td>\n",
       "      <td>14.426354</td>\n",
       "      <td>0.212147</td>\n",
       "      <td>0.247108</td>\n",
       "    </tr>\n",
       "    <tr>\n",
       "      <th>min</th>\n",
       "      <td>0.000000</td>\n",
       "      <td>0.000000</td>\n",
       "      <td>0.060000</td>\n",
       "      <td>-1.000000e+00</td>\n",
       "      <td>0.000795</td>\n",
       "      <td>0.000000</td>\n",
       "      <td>0.009670</td>\n",
       "      <td>-110.951000</td>\n",
       "      <td>0.022300</td>\n",
       "      <td>0.000000</td>\n",
       "    </tr>\n",
       "    <tr>\n",
       "      <th>25%</th>\n",
       "      <td>34.000000</td>\n",
       "      <td>0.020300</td>\n",
       "      <td>0.442000</td>\n",
       "      <td>1.748498e+05</td>\n",
       "      <td>0.430000</td>\n",
       "      <td>0.000000</td>\n",
       "      <td>0.096800</td>\n",
       "      <td>-11.617250</td>\n",
       "      <td>0.036400</td>\n",
       "      <td>0.257000</td>\n",
       "    </tr>\n",
       "    <tr>\n",
       "      <th>50%</th>\n",
       "      <td>45.000000</td>\n",
       "      <td>0.145000</td>\n",
       "      <td>0.569000</td>\n",
       "      <td>2.193200e+05</td>\n",
       "      <td>0.641000</td>\n",
       "      <td>0.000163</td>\n",
       "      <td>0.126000</td>\n",
       "      <td>-7.480000</td>\n",
       "      <td>0.050100</td>\n",
       "      <td>0.447000</td>\n",
       "    </tr>\n",
       "    <tr>\n",
       "      <th>75%</th>\n",
       "      <td>56.000000</td>\n",
       "      <td>0.554000</td>\n",
       "      <td>0.687000</td>\n",
       "      <td>2.686670e+05</td>\n",
       "      <td>0.815000</td>\n",
       "      <td>0.159000</td>\n",
       "      <td>0.242000</td>\n",
       "      <td>-5.258000</td>\n",
       "      <td>0.113000</td>\n",
       "      <td>0.648000</td>\n",
       "    </tr>\n",
       "    <tr>\n",
       "      <th>max</th>\n",
       "      <td>99.000000</td>\n",
       "      <td>0.996000</td>\n",
       "      <td>0.980000</td>\n",
       "      <td>4.830606e+06</td>\n",
       "      <td>0.999000</td>\n",
       "      <td>0.993000</td>\n",
       "      <td>1.000000</td>\n",
       "      <td>3.744000</td>\n",
       "      <td>1.820000</td>\n",
       "      <td>0.992000</td>\n",
       "    </tr>\n",
       "  </tbody>\n",
       "</table>\n",
       "</div>"
      ],
      "text/plain": [
       "         popularity  acousticness  danceability   duration_ms        energy  \\\n",
       "count  36078.000000  40000.000000  37963.000000  4.000000e+04  40000.000000   \n",
       "mean      44.180969      0.307544      0.558330  2.213221e+05      0.598456   \n",
       "std       15.550792      0.342142      0.179047  1.297367e+05      0.265156   \n",
       "min        0.000000      0.000000      0.060000 -1.000000e+00      0.000795   \n",
       "25%       34.000000      0.020300      0.442000  1.748498e+05      0.430000   \n",
       "50%       45.000000      0.145000      0.569000  2.193200e+05      0.641000   \n",
       "75%       56.000000      0.554000      0.687000  2.686670e+05      0.815000   \n",
       "max       99.000000      0.996000      0.980000  4.830606e+06      0.999000   \n",
       "\n",
       "       instrumentalness      liveness      loudness   speechiness  \\\n",
       "count      40000.000000  40000.000000  40000.000000  40000.000000   \n",
       "mean           0.182680      0.193490    -11.682016      0.129375   \n",
       "std            0.326242      0.161448     14.426354      0.212147   \n",
       "min            0.000000      0.009670   -110.951000      0.022300   \n",
       "25%            0.000000      0.096800    -11.617250      0.036400   \n",
       "50%            0.000163      0.126000     -7.480000      0.050100   \n",
       "75%            0.159000      0.242000     -5.258000      0.113000   \n",
       "max            0.993000      1.000000      3.744000      1.820000   \n",
       "\n",
       "            valence  \n",
       "count  40000.000000  \n",
       "mean       0.456093  \n",
       "std        0.247108  \n",
       "min        0.000000  \n",
       "25%        0.257000  \n",
       "50%        0.447000  \n",
       "75%        0.648000  \n",
       "max        0.992000  "
      ]
     },
     "execution_count": 7,
     "metadata": {},
     "output_type": "execute_result"
    }
   ],
   "source": [
    "df_train.drop(columns=['instance_id']).describe()"
   ]
  },
  {
   "cell_type": "markdown",
   "id": "8acbb169",
   "metadata": {},
   "source": [
    "describe таблицы df_train: только категориальные признаки."
   ]
  },
  {
   "cell_type": "code",
   "execution_count": 8,
   "id": "ef5d567b",
   "metadata": {},
   "outputs": [
    {
     "data": {
      "text/html": [
       "<div>\n",
       "<style scoped>\n",
       "    .dataframe tbody tr th:only-of-type {\n",
       "        vertical-align: middle;\n",
       "    }\n",
       "\n",
       "    .dataframe tbody tr th {\n",
       "        vertical-align: top;\n",
       "    }\n",
       "\n",
       "    .dataframe thead th {\n",
       "        text-align: right;\n",
       "    }\n",
       "</style>\n",
       "<table border=\"1\" class=\"dataframe\">\n",
       "  <thead>\n",
       "    <tr style=\"text-align: right;\">\n",
       "      <th></th>\n",
       "      <th>track_name</th>\n",
       "      <th>key</th>\n",
       "      <th>mode</th>\n",
       "      <th>tempo</th>\n",
       "      <th>obtained_date</th>\n",
       "      <th>music_genre</th>\n",
       "    </tr>\n",
       "  </thead>\n",
       "  <tbody>\n",
       "    <tr>\n",
       "      <th>count</th>\n",
       "      <td>29262</td>\n",
       "      <td>38577</td>\n",
       "      <td>38147</td>\n",
       "      <td>40000</td>\n",
       "      <td>33781</td>\n",
       "      <td>40000</td>\n",
       "    </tr>\n",
       "    <tr>\n",
       "      <th>unique</th>\n",
       "      <td>26018</td>\n",
       "      <td>12</td>\n",
       "      <td>2</td>\n",
       "      <td>25110</td>\n",
       "      <td>5</td>\n",
       "      <td>10</td>\n",
       "    </tr>\n",
       "    <tr>\n",
       "      <th>top</th>\n",
       "      <td>Home</td>\n",
       "      <td>G</td>\n",
       "      <td>Major</td>\n",
       "      <td>?</td>\n",
       "      <td>4-Apr</td>\n",
       "      <td>Rock</td>\n",
       "    </tr>\n",
       "    <tr>\n",
       "      <th>freq</th>\n",
       "      <td>11</td>\n",
       "      <td>4404</td>\n",
       "      <td>24593</td>\n",
       "      <td>3979</td>\n",
       "      <td>30243</td>\n",
       "      <td>4055</td>\n",
       "    </tr>\n",
       "  </tbody>\n",
       "</table>\n",
       "</div>"
      ],
      "text/plain": [
       "       track_name    key   mode  tempo obtained_date music_genre\n",
       "count       29262  38577  38147  40000         33781       40000\n",
       "unique      26018     12      2  25110             5          10\n",
       "top          Home      G  Major      ?         4-Apr        Rock\n",
       "freq           11   4404  24593   3979         30243        4055"
      ]
     },
     "execution_count": 8,
     "metadata": {},
     "output_type": "execute_result"
    }
   ],
   "source": [
    "df_train.describe(include = 'object')"
   ]
  },
  {
   "cell_type": "markdown",
   "id": "7f111d03",
   "metadata": {},
   "source": [
    "Гистограммы по всем числовым признакам."
   ]
  },
  {
   "cell_type": "code",
   "execution_count": 9,
   "id": "2a0c5184",
   "metadata": {},
   "outputs": [
    {
     "data": {
      "image/png": "[encoded data removed]",
      "text/plain": [
       "<Figure size 1080x1440 with 12 Axes>"
      ]
     },
     "metadata": {
      "needs_background": "light"
     },
     "output_type": "display_data"
    }
   ],
   "source": [
    "ax = df_train.drop(columns=['instance_id']).hist(figsize=(15,20))\n",
    "plt.show()"
   ]
  },
  {
   "cell_type": "markdown",
   "id": "fa87e7f8",
   "metadata": {},
   "source": [
    "<b>Выводы по этапу:</b>\n",
    "* Есть NA значения в столбцах `track_name`, `popularity`, `danceability`, `key`, `mode`, `obtained_date` в датафреймах df_train и df_test (по выводу info).\n",
    "* Столбцы `tempo`и `obtained_date` имею тип object, хотя содержат количественные значения и дату (по выводу info).\n",
    "* В столбце `tempo` самое часто встречающееся значение \"?\". Возможно, так заполнены пропуски (по выводу describe).\n",
    "* В столбце `obtained_date` часто встречающееся значение \"4-Apr\". 3/4 песен в df_train залита в одно время? (по выводу describe).\n",
    "* В столбце `duration_ms` есть значение -1.\n",
    "* В столце `loudness` стоят отрицательные значения, хотя признак содержит громкость в дБ (по гистограмме).\n",
    "* В столбце `speechiness` значения > 1, что возможно противоречит описанию данных: \"Чем более исключительно речевой характер носит запись (например, ток-шоу, аудиокнига, поэзия), тем ближе значение атрибута к 1,0.\", хотя в явном виде ограничение сверху не накладывается.\n",
    "* Признак `speechiness` противоречит признаку `instrumentalness`, т.к. последний указывает на то, что вокальных треков большинство, а `speechiness`, наоборот, указывает, что большинство треков без слов или с небольшим количеством слов.\n"
   ]
  },
  {
   "cell_type": "markdown",
   "id": "611d3627",
   "metadata": {},
   "source": [
    "# Этап 2. Предобработка."
   ]
  },
  {
   "cell_type": "markdown",
   "id": "c6be3914",
   "metadata": {},
   "source": [
    "Фиксация размера датафрейма до предобработки и создание словаря с причинами и количеством удаленных строк."
   ]
  },
  {
   "cell_type": "code",
   "execution_count": 10,
   "id": "02aa4c8a",
   "metadata": {},
   "outputs": [],
   "source": [
    "df_train_before_count = df_train.shape\n",
    "delete_rows_reasons = {}"
   ]
  },
  {
   "cell_type": "markdown",
   "id": "b6c77b18",
   "metadata": {},
   "source": [
    " Проверка на явные дубликаты."
   ]
  },
  {
   "cell_type": "code",
   "execution_count": 11,
   "id": "32907356",
   "metadata": {},
   "outputs": [
    {
     "data": {
      "text/plain": [
       "0"
      ]
     },
     "execution_count": 11,
     "metadata": {},
     "output_type": "execute_result"
    }
   ],
   "source": [
    "df_train.duplicated().sum()"
   ]
  },
  {
   "cell_type": "markdown",
   "id": "fab6f7c9",
   "metadata": {},
   "source": [
    "Проверка на неявные дубликаты. Выделяю строки, у которых есть неявные дупликаты и сами эти строки. Предполагается, что `acousticness`,`speechiness`,`instrumentalness`,`duration_ms`,`loudness` определяют песню однозначно. Эти признаки не содержат NA и являются количетвенными."
   ]
  },
  {
   "cell_type": "code",
   "execution_count": 12,
   "id": "de807d34",
   "metadata": {},
   "outputs": [
    {
     "data": {
      "text/plain": [
       "3844"
      ]
     },
     "execution_count": 12,
     "metadata": {},
     "output_type": "execute_result"
    }
   ],
   "source": [
    "df_train[['acousticness','speechiness','instrumentalness','duration_ms','loudness']].duplicated(keep\n",
    " =False).sum()"
   ]
  },
  {
   "cell_type": "markdown",
   "id": "15086f9f",
   "metadata": {},
   "source": [
    "Таких строк 3844. Рассмотрим несколько:"
   ]
  },
  {
   "cell_type": "code",
   "execution_count": 13,
   "id": "45f9e5a3",
   "metadata": {},
   "outputs": [
    {
     "data": {
      "text/html": [
       "<div>\n",
       "<style scoped>\n",
       "    .dataframe tbody tr th:only-of-type {\n",
       "        vertical-align: middle;\n",
       "    }\n",
       "\n",
       "    .dataframe tbody tr th {\n",
       "        vertical-align: top;\n",
       "    }\n",
       "\n",
       "    .dataframe thead th {\n",
       "        text-align: right;\n",
       "    }\n",
       "</style>\n",
       "<table border=\"1\" class=\"dataframe\">\n",
       "  <thead>\n",
       "    <tr style=\"text-align: right;\">\n",
       "      <th></th>\n",
       "      <th>instance_id</th>\n",
       "      <th>track_name</th>\n",
       "      <th>popularity</th>\n",
       "      <th>acousticness</th>\n",
       "      <th>danceability</th>\n",
       "      <th>duration_ms</th>\n",
       "      <th>energy</th>\n",
       "      <th>instrumentalness</th>\n",
       "      <th>key</th>\n",
       "      <th>liveness</th>\n",
       "      <th>loudness</th>\n",
       "      <th>mode</th>\n",
       "      <th>speechiness</th>\n",
       "      <th>tempo</th>\n",
       "      <th>obtained_date</th>\n",
       "      <th>valence</th>\n",
       "      <th>music_genre</th>\n",
       "    </tr>\n",
       "  </thead>\n",
       "  <tbody>\n",
       "    <tr>\n",
       "      <th>67</th>\n",
       "      <td>30433</td>\n",
       "      <td>I'm Real - Murder Remix</td>\n",
       "      <td>53.0</td>\n",
       "      <td>0.4120</td>\n",
       "      <td>0.706</td>\n",
       "      <td>252933.0</td>\n",
       "      <td>0.624</td>\n",
       "      <td>0.0</td>\n",
       "      <td>B</td>\n",
       "      <td>0.139</td>\n",
       "      <td>-5.978</td>\n",
       "      <td>Minor</td>\n",
       "      <td>0.1300</td>\n",
       "      <td>83.506</td>\n",
       "      <td>4-Apr</td>\n",
       "      <td>0.563</td>\n",
       "      <td>Rap</td>\n",
       "    </tr>\n",
       "    <tr>\n",
       "      <th>69</th>\n",
       "      <td>28660</td>\n",
       "      <td>Poetic Justice</td>\n",
       "      <td>69.0</td>\n",
       "      <td>0.1570</td>\n",
       "      <td>0.779</td>\n",
       "      <td>300160.0</td>\n",
       "      <td>0.572</td>\n",
       "      <td>0.0</td>\n",
       "      <td>F#</td>\n",
       "      <td>0.246</td>\n",
       "      <td>-9.985</td>\n",
       "      <td>Minor</td>\n",
       "      <td>0.3780</td>\n",
       "      <td>135.95600000000002</td>\n",
       "      <td>4-Apr</td>\n",
       "      <td>0.647</td>\n",
       "      <td>Rap</td>\n",
       "    </tr>\n",
       "    <tr>\n",
       "      <th>53</th>\n",
       "      <td>38169</td>\n",
       "      <td>Somebody's Got Me</td>\n",
       "      <td>54.0</td>\n",
       "      <td>0.0306</td>\n",
       "      <td>0.638</td>\n",
       "      <td>204498.0</td>\n",
       "      <td>0.729</td>\n",
       "      <td>0.0</td>\n",
       "      <td>A#</td>\n",
       "      <td>0.124</td>\n",
       "      <td>-4.366</td>\n",
       "      <td>Major</td>\n",
       "      <td>0.0353</td>\n",
       "      <td>143.963</td>\n",
       "      <td>NaN</td>\n",
       "      <td>0.589</td>\n",
       "      <td>Rock</td>\n",
       "    </tr>\n",
       "    <tr>\n",
       "      <th>45</th>\n",
       "      <td>40551</td>\n",
       "      <td>The Devil Went Down to Georgia</td>\n",
       "      <td>63.0</td>\n",
       "      <td>0.1310</td>\n",
       "      <td>0.517</td>\n",
       "      <td>215067.0</td>\n",
       "      <td>0.535</td>\n",
       "      <td>0.0</td>\n",
       "      <td>C</td>\n",
       "      <td>0.085</td>\n",
       "      <td>-12.027</td>\n",
       "      <td>Major</td>\n",
       "      <td>0.0494</td>\n",
       "      <td>135.08700000000002</td>\n",
       "      <td>4-Apr</td>\n",
       "      <td>0.933</td>\n",
       "      <td>Rock</td>\n",
       "    </tr>\n",
       "    <tr>\n",
       "      <th>64</th>\n",
       "      <td>48639</td>\n",
       "      <td>NaN</td>\n",
       "      <td>53.0</td>\n",
       "      <td>0.1080</td>\n",
       "      <td>0.752</td>\n",
       "      <td>222653.0</td>\n",
       "      <td>0.856</td>\n",
       "      <td>0.0</td>\n",
       "      <td>D</td>\n",
       "      <td>0.745</td>\n",
       "      <td>-5.833</td>\n",
       "      <td>Major</td>\n",
       "      <td>0.2330</td>\n",
       "      <td>103.741</td>\n",
       "      <td>4-Apr</td>\n",
       "      <td>0.403</td>\n",
       "      <td>Hip-Hop</td>\n",
       "    </tr>\n",
       "  </tbody>\n",
       "</table>\n",
       "</div>"
      ],
      "text/plain": [
       "    instance_id                      track_name  popularity  acousticness  \\\n",
       "67        30433         I'm Real - Murder Remix        53.0        0.4120   \n",
       "69        28660                  Poetic Justice        69.0        0.1570   \n",
       "53        38169               Somebody's Got Me        54.0        0.0306   \n",
       "45        40551  The Devil Went Down to Georgia        63.0        0.1310   \n",
       "64        48639                             NaN        53.0        0.1080   \n",
       "\n",
       "    danceability  duration_ms  energy  instrumentalness key  liveness  \\\n",
       "67         0.706     252933.0   0.624               0.0   B     0.139   \n",
       "69         0.779     300160.0   0.572               0.0  F#     0.246   \n",
       "53         0.638     204498.0   0.729               0.0  A#     0.124   \n",
       "45         0.517     215067.0   0.535               0.0   C     0.085   \n",
       "64         0.752     222653.0   0.856               0.0   D     0.745   \n",
       "\n",
       "    loudness   mode  speechiness               tempo obtained_date  valence  \\\n",
       "67    -5.978  Minor       0.1300              83.506         4-Apr    0.563   \n",
       "69    -9.985  Minor       0.3780  135.95600000000002         4-Apr    0.647   \n",
       "53    -4.366  Major       0.0353             143.963           NaN    0.589   \n",
       "45   -12.027  Major       0.0494  135.08700000000002         4-Apr    0.933   \n",
       "64    -5.833  Major       0.2330             103.741         4-Apr    0.403   \n",
       "\n",
       "   music_genre  \n",
       "67         Rap  \n",
       "69         Rap  \n",
       "53        Rock  \n",
       "45        Rock  \n",
       "64     Hip-Hop  "
      ]
     },
     "execution_count": 13,
     "metadata": {},
     "output_type": "execute_result"
    }
   ],
   "source": [
    "# отбор\n",
    "idx_to_drop = df_train[['acousticness','speechiness','instrumentalness','duration_ms','loudness']].duplicated(keep\n",
    " =False)\n",
    "# вывод\n",
    "df_train[idx_to_drop][5:10].sort_values(by='track_name')"
   ]
  },
  {
   "cell_type": "markdown",
   "id": "096f56f4",
   "metadata": {},
   "source": [
    "У песни с одними и теми же параметрами разные жанры. Это будет путать модель. Удалим эти строки."
   ]
  },
  {
   "cell_type": "code",
   "execution_count": 14,
   "id": "0e003dd7",
   "metadata": {},
   "outputs": [],
   "source": [
    "df_train = df_train[~idx_to_drop]\n",
    "delete_rows_reasons['Удаление неявных дупликатов'] = idx_to_drop.sum()"
   ]
  },
  {
   "cell_type": "markdown",
   "id": "8e8a518e",
   "metadata": {},
   "source": [
    "Проврека."
   ]
  },
  {
   "cell_type": "code",
   "execution_count": 15,
   "id": "85c80074",
   "metadata": {},
   "outputs": [
    {
     "name": "stdout",
     "output_type": "stream",
     "text": [
      "запись :\n"
     ]
    },
    {
     "data": {
      "text/plain": [
       "{'Удаление неявных дупликатов': 3844}"
      ]
     },
     "metadata": {},
     "output_type": "display_data"
    },
    {
     "name": "stdout",
     "output_type": "stream",
     "text": [
      "info : \n",
      "\n",
      "<class 'pandas.core.frame.DataFrame'>\n",
      "Int64Index: 36156 entries, 0 to 39999\n",
      "Data columns (total 17 columns):\n",
      " #   Column            Non-Null Count  Dtype  \n",
      "---  ------            --------------  -----  \n",
      " 0   instance_id       36156 non-null  int64  \n",
      " 1   track_name        26501 non-null  object \n",
      " 2   popularity        32597 non-null  float64\n",
      " 3   acousticness      36156 non-null  float64\n",
      " 4   danceability      34310 non-null  float64\n",
      " 5   duration_ms       36156 non-null  float64\n",
      " 6   energy            36156 non-null  float64\n",
      " 7   instrumentalness  36156 non-null  float64\n",
      " 8   key               34878 non-null  object \n",
      " 9   liveness          36156 non-null  float64\n",
      " 10  loudness          36156 non-null  float64\n",
      " 11  mode              34473 non-null  object \n",
      " 12  speechiness       36156 non-null  float64\n",
      " 13  tempo             36156 non-null  object \n",
      " 14  obtained_date     30565 non-null  object \n",
      " 15  valence           36156 non-null  float64\n",
      " 16  music_genre       36156 non-null  object \n",
      "dtypes: float64(10), int64(1), object(6)\n",
      "memory usage: 5.0+ MB\n"
     ]
    }
   ],
   "source": [
    "# проверка записи\n",
    "print('запись :')\n",
    "display(delete_rows_reasons)\n",
    "print('info : \\n')\n",
    "# проверка изменения\n",
    "df_train.info()\n"
   ]
  },
  {
   "cell_type": "markdown",
   "id": "11cfda5c",
   "metadata": {},
   "source": [
    "Обработаем столбец `tempo`, который имеет тип object, хотя содержит количетвенную информацию и символ \"?\".\n",
    "Количество строк с сисволом \"?\":"
   ]
  },
  {
   "cell_type": "code",
   "execution_count": 16,
   "id": "b6658d49",
   "metadata": {},
   "outputs": [
    {
     "data": {
      "text/plain": [
       "tempo    3615\n",
       "dtype: int64"
      ]
     },
     "metadata": {},
     "output_type": "display_data"
    },
    {
     "data": {
      "text/plain": [
       "tempo    1001\n",
       "dtype: int64"
      ]
     },
     "execution_count": 16,
     "metadata": {},
     "output_type": "execute_result"
    }
   ],
   "source": [
    "display(df_train.loc[df_train['tempo'] == '?',['tempo']].count())\n",
    "df_test.loc[df_test['tempo'] == '?',['tempo']].count()"
   ]
  },
  {
   "cell_type": "markdown",
   "id": "b2eca56c",
   "metadata": {},
   "source": [
    "Преобразование столбца в \"float64\". Дублируем действия сразу и в train, и в test. Это будет делаться по умолчанию и далее (кроме удаления строк)."
   ]
  },
  {
   "cell_type": "code",
   "execution_count": 17,
   "id": "b1d958ce",
   "metadata": {},
   "outputs": [],
   "source": [
    "# train\n",
    "df_train['tempo'] = pd.to_numeric(df_train['tempo'], errors='coerce')\n",
    "# test\n",
    "df_test['tempo'] = pd.to_numeric(df_test['tempo'], errors='coerce')"
   ]
  },
  {
   "cell_type": "code",
   "execution_count": 18,
   "id": "2db0ef67",
   "metadata": {},
   "outputs": [
    {
     "data": {
      "text/plain": [
       "dtype('float64')"
      ]
     },
     "metadata": {},
     "output_type": "display_data"
    },
    {
     "data": {
      "text/plain": [
       "dtype('float64')"
      ]
     },
     "execution_count": 18,
     "metadata": {},
     "output_type": "execute_result"
    }
   ],
   "source": [
    "# проверка типов\n",
    "display(df_train['tempo'].dtype)\n",
    "df_test['tempo'].dtype"
   ]
  },
  {
   "cell_type": "markdown",
   "id": "1807dd97",
   "metadata": {},
   "source": [
    "Проверка количества NA в поле (должно совпасть с числом \"?\" до изменений)."
   ]
  },
  {
   "cell_type": "code",
   "execution_count": 19,
   "id": "a2109bd7",
   "metadata": {},
   "outputs": [
    {
     "data": {
      "text/plain": [
       "3615"
      ]
     },
     "metadata": {},
     "output_type": "display_data"
    },
    {
     "data": {
      "text/plain": [
       "1001"
      ]
     },
     "execution_count": 19,
     "metadata": {},
     "output_type": "execute_result"
    }
   ],
   "source": [
    "display(df_train['tempo'].isna().sum())\n",
    "df_test['tempo'].isna().sum()"
   ]
  },
  {
   "cell_type": "markdown",
   "id": "450d2ec8",
   "metadata": {},
   "source": [
    "Небольшая часть данных идет со значением loudness > 0, остальная со значением < 0."
   ]
  },
  {
   "cell_type": "code",
   "execution_count": 20,
   "id": "7dd02c84",
   "metadata": {},
   "outputs": [
    {
     "data": {
      "text/plain": [
       "37"
      ]
     },
     "metadata": {},
     "output_type": "display_data"
    },
    {
     "data": {
      "text/plain": [
       "36119"
      ]
     },
     "execution_count": 20,
     "metadata": {},
     "output_type": "execute_result"
    }
   ],
   "source": [
    "# >=0\n",
    "display(df_train[df_train['loudness']>=0].shape[0])\n",
    "# <0\n",
    "df_train[df_train['loudness']<0].shape[0]"
   ]
  },
  {
   "cell_type": "markdown",
   "id": "4736f10c",
   "metadata": {},
   "source": [
    "Исправим значение громкости на положительное для всех треков."
   ]
  },
  {
   "cell_type": "code",
   "execution_count": 21,
   "id": "962c108e",
   "metadata": {},
   "outputs": [],
   "source": [
    "# train\n",
    "df_train['loudness'] = abs(df_train['loudness'])\n",
    "# test\n",
    "df_test['loudness'] = abs(df_test['loudness'])"
   ]
  },
  {
   "cell_type": "markdown",
   "id": "18fe7789",
   "metadata": {},
   "source": [
    "Проверка."
   ]
  },
  {
   "cell_type": "code",
   "execution_count": 22,
   "id": "c25e27db",
   "metadata": {},
   "outputs": [
    {
     "data": {
      "text/plain": [
       "0.0"
      ]
     },
     "execution_count": 22,
     "metadata": {},
     "output_type": "execute_result"
    }
   ],
   "source": [
    "df_train['loudness'].min()"
   ]
  },
  {
   "cell_type": "markdown",
   "id": "3996facd",
   "metadata": {},
   "source": [
    "Проверка столбцов key и mode с типом данных object."
   ]
  },
  {
   "cell_type": "code",
   "execution_count": 23,
   "id": "91a0c323",
   "metadata": {},
   "outputs": [
    {
     "name": "stdout",
     "output_type": "stream",
     "text": [
      "Различные значения в key\n"
     ]
    },
    {
     "data": {
      "text/plain": [
       "array(['G#', 'C', nan, 'B', 'G', 'D', 'E', 'C#', 'A', 'F', 'A#', 'F#',\n",
       "       'D#'], dtype=object)"
      ]
     },
     "execution_count": 23,
     "metadata": {},
     "output_type": "execute_result"
    }
   ],
   "source": [
    "print('Различные значения в key')\n",
    "df_train['key'].unique()"
   ]
  },
  {
   "cell_type": "markdown",
   "id": "94130184",
   "metadata": {},
   "source": [
    "Количество NaN в столбце."
   ]
  },
  {
   "cell_type": "code",
   "execution_count": 24,
   "id": "47ac3d12",
   "metadata": {},
   "outputs": [
    {
     "data": {
      "text/plain": [
       "1278"
      ]
     },
     "execution_count": 24,
     "metadata": {},
     "output_type": "execute_result"
    }
   ],
   "source": [
    "df_train['key'].isna().sum()"
   ]
  },
  {
   "cell_type": "code",
   "execution_count": 25,
   "id": "ba0fa2b8",
   "metadata": {},
   "outputs": [
    {
     "name": "stdout",
     "output_type": "stream",
     "text": [
      "Различные значения в mode\n"
     ]
    },
    {
     "data": {
      "text/plain": [
       "array(['Minor', 'Major', nan], dtype=object)"
      ]
     },
     "execution_count": 25,
     "metadata": {},
     "output_type": "execute_result"
    }
   ],
   "source": [
    "print('Различные значения в mode')\n",
    "df_train['mode'].unique()"
   ]
  },
  {
   "cell_type": "markdown",
   "id": "5731e413",
   "metadata": {},
   "source": [
    "Количество NaN в столбце."
   ]
  },
  {
   "cell_type": "code",
   "execution_count": 26,
   "id": "bbcbab75",
   "metadata": {},
   "outputs": [
    {
     "data": {
      "text/plain": [
       "1683"
      ]
     },
     "execution_count": 26,
     "metadata": {},
     "output_type": "execute_result"
    }
   ],
   "source": [
    "df_train['mode'].isna().sum()"
   ]
  },
  {
   "cell_type": "markdown",
   "id": "e6da1e72",
   "metadata": {},
   "source": [
    "В ходе анализа не удалось установить зависимость заполнения полей `mode` и `key` от других столбцов. Решено заполнить пропуски значением \"noinfo\" - нет данных, добавив таким образом новое значение в каждый столбец."
   ]
  },
  {
   "cell_type": "code",
   "execution_count": 27,
   "id": "9331197d",
   "metadata": {},
   "outputs": [],
   "source": [
    "# train\n",
    "df_train['mode'] = df_train['mode'].fillna('noinfo')\n",
    "df_train['key'] = df_train['key'].fillna('noinfo')\n",
    "# test\n",
    "df_test['mode'] = df_test['mode'].fillna('noinfo')\n",
    "df_test['key'] = df_test['key'].fillna('noinfo')"
   ]
  },
  {
   "cell_type": "markdown",
   "id": "09f5ad0f",
   "metadata": {},
   "source": [
    "Проверка"
   ]
  },
  {
   "cell_type": "code",
   "execution_count": 28,
   "id": "dcbbd93d",
   "metadata": {},
   "outputs": [
    {
     "data": {
      "text/plain": [
       "Major     22267\n",
       "Minor     12206\n",
       "noinfo     1683\n",
       "Name: mode, dtype: int64"
      ]
     },
     "execution_count": 28,
     "metadata": {},
     "output_type": "execute_result"
    }
   ],
   "source": [
    "df_train['mode'].value_counts()"
   ]
  },
  {
   "cell_type": "code",
   "execution_count": 29,
   "id": "5b1fc2ad",
   "metadata": {},
   "outputs": [
    {
     "data": {
      "text/plain": [
       "0"
      ]
     },
     "execution_count": 29,
     "metadata": {},
     "output_type": "execute_result"
    }
   ],
   "source": [
    "df_train['mode'].isna().sum()"
   ]
  },
  {
   "cell_type": "code",
   "execution_count": 30,
   "id": "2bb220db",
   "metadata": {},
   "outputs": [
    {
     "data": {
      "text/plain": [
       "G         4046\n",
       "C         3897\n",
       "C#        3664\n",
       "D         3656\n",
       "A         3398\n",
       "F         3049\n",
       "E         2638\n",
       "B         2637\n",
       "G#        2322\n",
       "A#        2299\n",
       "F#        2176\n",
       "noinfo    1278\n",
       "D#        1096\n",
       "Name: key, dtype: int64"
      ]
     },
     "execution_count": 30,
     "metadata": {},
     "output_type": "execute_result"
    }
   ],
   "source": [
    "df_train['key'].value_counts()"
   ]
  },
  {
   "cell_type": "code",
   "execution_count": 31,
   "id": "651084d4",
   "metadata": {},
   "outputs": [
    {
     "data": {
      "text/plain": [
       "0"
      ]
     },
     "execution_count": 31,
     "metadata": {},
     "output_type": "execute_result"
    }
   ],
   "source": [
    "df_train['key'].isna().sum()"
   ]
  },
  {
   "cell_type": "markdown",
   "id": "0e6662f4",
   "metadata": {},
   "source": [
    "<b>Выводы по этапу:</b>\n",
    "* Явные дубли не обнаружены.\n",
    "* Выявлены неявные дубликаты. Т.к. у дублей разные значения жанров, то принято решение удалить как дубли, так и оригинальные строки, т.к. отличить одно от другого технически сложно).\n",
    "* Столбец `tempo` преобразован в тип float64, значения \"?\" преобразованы в NaN.\n",
    "* В столбце `loudness` отрицательные значения преобразованы в положительные.\n",
    "* В столбцах `mode` и `key` пропуски заменены на значения noinfo, т.к. установить взаимосвязть с другими параметрами не удается.\n",
    "* Количественные признаки с пропусками `tempo` и `danceability` будут исправлены в процессе EDA, т.к. для их заполнения требуется дополнительный анализ.\n",
    "* Признак `speechiness` будет исследован на корректность в процессе EDA. Значения > 1 могут быть скорректированы на том же этапе.\n",
    "* Признаки `instance_id`, `track_name`,`obtained_date` не исследовались и не корректировались, т.к. не будут участвовать в обучении модели. Они будут удалены в процессе подготовки данных к обучению."
   ]
  },
  {
   "cell_type": "code",
   "execution_count": 32,
   "id": "c8e9a411",
   "metadata": {},
   "outputs": [
    {
     "name": "stdout",
     "output_type": "stream",
     "text": [
      "Число строк до предобработки в train:  40000\n",
      "Число строк после предобработкии\\ в train:  36156\n",
      "Доля потерянных данных:  9.61%\n",
      "Причины удаления данных:\n",
      "{'Удаление неявных дупликатов': 3844}\n"
     ]
    }
   ],
   "source": [
    "# итого корректировки \n",
    "print('Число строк до предобработки в train: ', df_train_before_count[0])\n",
    "print('Число строк после предобработкии\\ в train: ', df_train.shape[0])\n",
    "print(f'Доля потерянных данных:  {1-df_train.shape[0]/df_train_before_count[0]:.2%}')\n",
    "print('Причины удаления данных:')\n",
    "print(delete_rows_reasons)"
   ]
  },
  {
   "cell_type": "markdown",
   "id": "d8de9722",
   "metadata": {},
   "source": [
    "# Этап 3. EDA и заполнение пропусков."
   ]
  },
  {
   "cell_type": "markdown",
   "id": "94ecfa2b",
   "metadata": {},
   "source": [
    "### Целевой признак `music_genre`:"
   ]
  },
  {
   "cell_type": "markdown",
   "id": "250d5ef0",
   "metadata": {},
   "source": [
    "Построим гистограмму распределения признака."
   ]
  },
  {
   "cell_type": "code",
   "execution_count": 33,
   "id": "96b69a29",
   "metadata": {},
   "outputs": [
    {
     "data": {
      "image/png": "[encoded data removed]",
      "text/plain": [
       "<Figure size 720x360 with 1 Axes>"
      ]
     },
     "metadata": {
      "needs_background": "light"
     },
     "output_type": "display_data"
    }
   ],
   "source": [
    "(\n",
    "df_train['music_genre']\n",
    "    .value_counts(normalize=True)\n",
    "    .plot(kind='bar', figsize=(10,5),\n",
    "          title='Распределение данных по жанрам (классам)',\n",
    "          xlabel='Жанр (класс)', ylabel='Частота')\n",
    ")\n",
    "plt.show()"
   ]
  },
  {
   "cell_type": "markdown",
   "id": "b90e010d",
   "metadata": {},
   "source": [
    "Всего 10 классов. В данных нет дисбаланса: доля каждого класса от 8% до 11%. Методы для борьбы с дисбалансом применять не нужно."
   ]
  },
  {
   "cell_type": "markdown",
   "id": "a0ce5b22",
   "metadata": {},
   "source": [
    "### Признак `popularity`:"
   ]
  },
  {
   "cell_type": "markdown",
   "id": "d582aa56",
   "metadata": {},
   "source": [
    "Построим гистограмму распределения признака."
   ]
  },
  {
   "cell_type": "code",
   "execution_count": 34,
   "id": "13bcd895",
   "metadata": {},
   "outputs": [
    {
     "data": {
      "image/png": "[encoded data removed]",
      "text/plain": [
       "<Figure size 720x360 with 1 Axes>"
      ]
     },
     "metadata": {
      "needs_background": "light"
     },
     "output_type": "display_data"
    }
   ],
   "source": [
    "\n",
    "ax = (df_train['popularity']\n",
    "    .plot(kind='hist', bins=20, figsize=(10,5),\n",
    "          title='Гистограмма распределения признака \"popularity\"',\n",
    "          grid=True)\n",
    ")\n",
    "ax.set_xlabel('Значение признака')\n",
    "ax.set_ylabel('Частота')\n",
    "plt.show()"
   ]
  },
  {
   "cell_type": "markdown",
   "id": "8bc0c72a",
   "metadata": {},
   "source": [
    "Видно, что ближе к 0 есть столбец с 600 треками. Рассмотрим их жанры:"
   ]
  },
  {
   "cell_type": "code",
   "execution_count": 35,
   "id": "77c2d264",
   "metadata": {},
   "outputs": [
    {
     "data": {
      "text/plain": [
       "Classical      458\n",
       "Jazz            51\n",
       "Blues           29\n",
       "Country         28\n",
       "Anime           26\n",
       "Electronic      23\n",
       "Rock             4\n",
       "Alternative      3\n",
       "Name: music_genre, dtype: int64"
      ]
     },
     "execution_count": 35,
     "metadata": {},
     "output_type": "execute_result"
    }
   ],
   "source": [
    "df_train.loc[df_train['popularity']<5,'music_genre'].value_counts()"
   ]
  },
  {
   "cell_type": "markdown",
   "id": "ad61492a",
   "metadata": {},
   "source": [
    "По большей части это классическая музыка. Чуть шире интервал:"
   ]
  },
  {
   "cell_type": "code",
   "execution_count": 36,
   "id": "ff5af663",
   "metadata": {},
   "outputs": [
    {
     "data": {
      "text/plain": [
       "Anime          1308\n",
       "Classical       619\n",
       "Jazz             73\n",
       "Blues            48\n",
       "Country          30\n",
       "Electronic       25\n",
       "Rock              6\n",
       "Alternative       6\n",
       "Rap               2\n",
       "Hip-Hop           1\n",
       "Name: music_genre, dtype: int64"
      ]
     },
     "execution_count": 36,
     "metadata": {},
     "output_type": "execute_result"
    }
   ],
   "source": [
    "df_train.loc[df_train['popularity']<20,'music_genre'].value_counts()"
   ]
  },
  {
   "cell_type": "markdown",
   "id": "cec72e1a",
   "metadata": {},
   "source": [
    "Добавляется музыка в жанре аниме. Для треков со значением популярности выше 70 распределение такое:"
   ]
  },
  {
   "cell_type": "code",
   "execution_count": 37,
   "id": "a5ffa4ee",
   "metadata": {},
   "outputs": [
    {
     "data": {
      "text/plain": [
       "Rap            411\n",
       "Rock           315\n",
       "Hip-Hop        264\n",
       "Country         48\n",
       "Alternative     37\n",
       "Electronic      11\n",
       "Blues            6\n",
       "Jazz             3\n",
       "Name: music_genre, dtype: int64"
      ]
     },
     "execution_count": 37,
     "metadata": {},
     "output_type": "execute_result"
    }
   ],
   "source": [
    "df_train.loc[df_train['popularity']>=70,'music_genre'].value_counts()"
   ]
  },
  {
   "cell_type": "markdown",
   "id": "0f37b1b1",
   "metadata": {},
   "source": [
    "Преобладает рэп и хип хоп. Признак будет полезен в дальнейшем."
   ]
  },
  {
   "cell_type": "markdown",
   "id": "cf23488e",
   "metadata": {},
   "source": [
    "! Странно, что популярность так влияет, т.к. это очень субъективная вещь. Но почему-то он показывается высокую корреляию с целевой переменной (далее)."
   ]
  },
  {
   "cell_type": "markdown",
   "id": "4fcc06c0",
   "metadata": {},
   "source": [
    "В признаке есть пропуски. Заполнение пропусков будет выполнено в конце исследования после изучения прочих признаков."
   ]
  },
  {
   "cell_type": "markdown",
   "id": "26fb9368",
   "metadata": {},
   "source": [
    "### Признак `acousticness`:"
   ]
  },
  {
   "cell_type": "markdown",
   "id": "74841ea4",
   "metadata": {},
   "source": [
    "Построим гистограмму распределения признака."
   ]
  },
  {
   "cell_type": "code",
   "execution_count": 38,
   "id": "92ad9bc7",
   "metadata": {},
   "outputs": [
    {
     "data": {
      "image/png": "[encoded data removed]",
      "text/plain": [
       "<Figure size 720x360 with 1 Axes>"
      ]
     },
     "metadata": {
      "needs_background": "light"
     },
     "output_type": "display_data"
    }
   ],
   "source": [
    "\n",
    "ax = (df_train['acousticness']\n",
    "    .plot(kind='hist', bins=20, figsize=(10,5),\n",
    "          title='Гистограмма распределения признака \"acousticness\"',\n",
    "          grid=True)\n",
    ")\n",
    "ax.set_xlabel('Значение признака')\n",
    "ax.set_ylabel('Частота')\n",
    "plt.show()"
   ]
  },
  {
   "cell_type": "markdown",
   "id": "8bd1e88c",
   "metadata": {},
   "source": [
    "На гистограмме следует отметить следующее:\n",
    "* примерно 1/3 треков имеет значение этого признака от 0 до 0.05, т.е. вероятность их аккустичности не более 5 процентов;\n",
    "* примерно 9% треков имеют высокую вероятность акустичности - группа от 0.95 до 1.\n",
    "\n",
    "Рассмотрим эт две группы подробнее:"
   ]
  },
  {
   "cell_type": "code",
   "execution_count": 39,
   "id": "c736d206",
   "metadata": {},
   "outputs": [
    {
     "data": {
      "text/plain": [
       "music_genre\n",
       "Classical      2429\n",
       "Anime           367\n",
       "Jazz            339\n",
       "Blues            95\n",
       "Rock             19\n",
       "Country          13\n",
       "Electronic       13\n",
       "Alternative       7\n",
       "Hip-Hop           4\n",
       "dtype: int64"
      ]
     },
     "execution_count": 39,
     "metadata": {},
     "output_type": "execute_result"
    }
   ],
   "source": [
    "df_train[df_train['acousticness']>0.95].value_counts(subset=['music_genre'])"
   ]
  },
  {
   "cell_type": "markdown",
   "id": "66a03d55",
   "metadata": {},
   "source": [
    "Большая часть треков со значением признака > 0.95 в категории \"Классическая музыка\"."
   ]
  },
  {
   "cell_type": "code",
   "execution_count": 40,
   "id": "f1245c51",
   "metadata": {},
   "outputs": [
    {
     "data": {
      "text/plain": [
       "music_genre\n",
       "Electronic     2380\n",
       "Anime          1853\n",
       "Alternative    1810\n",
       "Rock           1524\n",
       "Blues          1048\n",
       "Rap            1031\n",
       "Country         978\n",
       "Hip-Hop         964\n",
       "Jazz            521\n",
       "Classical       250\n",
       "dtype: int64"
      ]
     },
     "execution_count": 40,
     "metadata": {},
     "output_type": "execute_result"
    }
   ],
   "source": [
    "df_train[df_train['acousticness']<=0.05].value_counts(subset=['music_genre'])"
   ]
  },
  {
   "cell_type": "markdown",
   "id": "27766fb9",
   "metadata": {},
   "source": [
    "Большая часть треков со значением <=0.05 в категории \"Электронная музыка\". Звук скорее всего генерируется искуственно, а не записывается вживую. Немного странным выглядит наличие классической музыки в этом списке."
   ]
  },
  {
   "cell_type": "markdown",
   "id": "7b954cc6",
   "metadata": {},
   "source": [
    "<ins>Вывод</ins>: признак acousticness вполне адекватно себя ведет в привязке к жанрам. Его стоит использовать в модели."
   ]
  },
  {
   "cell_type": "markdown",
   "id": "084a75a3",
   "metadata": {},
   "source": [
    "### Признак `danceability`:"
   ]
  },
  {
   "cell_type": "markdown",
   "id": "924a87ae",
   "metadata": {},
   "source": [
    "Построим гистограмму распределения признака."
   ]
  },
  {
   "cell_type": "code",
   "execution_count": 41,
   "id": "9aafaa72",
   "metadata": {},
   "outputs": [
    {
     "data": {
      "image/png": "[encoded data removed]",
      "text/plain": [
       "<Figure size 720x360 with 1 Axes>"
      ]
     },
     "metadata": {
      "needs_background": "light"
     },
     "output_type": "display_data"
    }
   ],
   "source": [
    "ax =(df_train['danceability']\n",
    "     .plot(kind='hist', bins=20,figsize=(10,5),\n",
    "           title='Гистограмма распределения признака \"danceability\"',\n",
    "           grid=True)\n",
    ")\n",
    "ax.set_xlabel('Значение признака')\n",
    "ax.set_ylabel('Частота')\n",
    "plt.show()\n",
    "plt.show()"
   ]
  },
  {
   "cell_type": "markdown",
   "id": "6f8410b5",
   "metadata": {},
   "source": [
    "Распределение признака имеет форму, близкую к нормальному, с небольшим скосом влево. В столбце есть пропуски, которые необходимо устранить. Проверим признак на адекватность."
   ]
  },
  {
   "cell_type": "code",
   "execution_count": 42,
   "id": "b7ca0c31",
   "metadata": {},
   "outputs": [
    {
     "data": {
      "text/plain": [
       "music_genre\n",
       "Classical      192\n",
       "Anime           24\n",
       "Alternative      1\n",
       "Electronic       1\n",
       "Jazz             1\n",
       "Rock             1\n",
       "dtype: int64"
      ]
     },
     "execution_count": 42,
     "metadata": {},
     "output_type": "execute_result"
    }
   ],
   "source": [
    "df_train[df_train['danceability']<0.1].value_counts(subset=['music_genre'])"
   ]
  },
  {
   "cell_type": "markdown",
   "id": "2b324c6b",
   "metadata": {},
   "source": [
    "Классическая музыка не считается танцевальной. В этой части признак адекватен."
   ]
  },
  {
   "cell_type": "code",
   "execution_count": 43,
   "id": "2d839712",
   "metadata": {},
   "outputs": [
    {
     "data": {
      "text/plain": [
       "music_genre\n",
       "Rap            139\n",
       "Hip-Hop        138\n",
       "Electronic      46\n",
       "Jazz            27\n",
       "Alternative     14\n",
       "Blues           11\n",
       "Country          6\n",
       "Anime            1\n",
       "Rock             1\n",
       "dtype: int64"
      ]
     },
     "execution_count": 43,
     "metadata": {},
     "output_type": "execute_result"
    }
   ],
   "source": [
    "df_train[df_train['danceability']>0.9].value_counts(subset=['music_genre'])"
   ]
  },
  {
   "cell_type": "markdown",
   "id": "e45c9cd0",
   "metadata": {},
   "source": [
    "Hip-hop и Rap вполне ритмичная музыка. В этой части признак адекватен."
   ]
  },
  {
   "cell_type": "markdown",
   "id": "223add41",
   "metadata": {},
   "source": [
    "### Признак `duration_ms`:"
   ]
  },
  {
   "cell_type": "markdown",
   "id": "b49dec78",
   "metadata": {},
   "source": [
    "Построим гистограмму распределения признака."
   ]
  },
  {
   "cell_type": "code",
   "execution_count": 44,
   "id": "0b0483cf",
   "metadata": {},
   "outputs": [
    {
     "data": {
      "image/png": "[encoded data removed]",
      "text/plain": [
       "<Figure size 720x360 with 1 Axes>"
      ]
     },
     "metadata": {
      "needs_background": "light"
     },
     "output_type": "display_data"
    }
   ],
   "source": [
    "ax =(df_train['duration_ms']\n",
    "     .plot(kind='hist', bins=20,figsize=(10,5),\n",
    "           title='Гистограмма распределения признака \"duration_ms\"',\n",
    "           grid=True)\n",
    ")\n",
    "ax.set_xlabel('Значение признака')\n",
    "ax.set_ylabel('Частота')\n",
    "plt.show()\n",
    "plt.show()   "
   ]
  },
  {
   "cell_type": "markdown",
   "id": "a8487f4c",
   "metadata": {},
   "source": [
    "Шкала по оси x получилась очень вытянутая, возможны выбросы. Рассмотрим boxplot с ограничением до 1 млн.м.с., т.к. при построении графика без ограничений основные показатели boxplot просто не видны:"
   ]
  },
  {
   "cell_type": "code",
   "execution_count": 45,
   "id": "896941b6",
   "metadata": {},
   "outputs": [
    {
     "data": {
      "image/png": "[encoded data removed]",
      "text/plain": [
       "<Figure size 720x360 with 1 Axes>"
      ]
     },
     "metadata": {
      "needs_background": "light"
     },
     "output_type": "display_data"
    }
   ],
   "source": [
    "ax =(df_train.query('duration_ms < 1_000_000')['duration_ms']\n",
    "     .plot(kind='box',figsize=(10,5),\n",
    "           title='Гистограмма распределения признака \"duration_ms\"',\n",
    "           grid=True)\n",
    ")\n",
    "ax.set_ylabel('Значение признака')\n",
    "plt.show()"
   ]
  },
  {
   "cell_type": "markdown",
   "id": "6488b0b4",
   "metadata": {},
   "source": [
    "Здесь стоит выделить те участки, которые отмечены как выбросы: значения, близкие к 0, и значения свыше 400 000 м.с. (примерно 6.5 минут)."
   ]
  },
  {
   "cell_type": "markdown",
   "id": "b408f654",
   "metadata": {},
   "source": [
    "Рассмотрим часть треков с продолжительностью с продолжительность >= 400 000 миллисекунд:"
   ]
  },
  {
   "cell_type": "markdown",
   "id": "db461f12",
   "metadata": {},
   "source": [
    "Количество:"
   ]
  },
  {
   "cell_type": "code",
   "execution_count": 46,
   "id": "078bf9a8",
   "metadata": {},
   "outputs": [
    {
     "data": {
      "text/plain": [
       "1947"
      ]
     },
     "execution_count": 46,
     "metadata": {},
     "output_type": "execute_result"
    }
   ],
   "source": [
    "df_train.query('duration_ms >= 400_000')['instance_id'].count()"
   ]
  },
  {
   "cell_type": "markdown",
   "id": "75875f3e",
   "metadata": {},
   "source": [
    "Гистограмма:"
   ]
  },
  {
   "cell_type": "code",
   "execution_count": 47,
   "id": "d8dbd227",
   "metadata": {},
   "outputs": [
    {
     "data": {
      "image/png": "[encoded data removed]",
      "text/plain": [
       "<Figure size 720x360 with 1 Axes>"
      ]
     },
     "metadata": {
      "needs_background": "light"
     },
     "output_type": "display_data"
    }
   ],
   "source": [
    "ax =(df_train.query('duration_ms >= 400_000')['duration_ms']\n",
    "     .plot(kind='hist', bins=20,figsize=(10,5),\n",
    "           title='Гистограмма распределения признака \"duration_ms\"',\n",
    "           grid=True)\n",
    ")\n",
    "ax.set_xlabel('Значение признака')\n",
    "ax.set_ylabel('Частота')\n",
    "plt.show()\n",
    "plt.show()   "
   ]
  },
  {
   "cell_type": "markdown",
   "id": "66e1de03",
   "metadata": {},
   "source": [
    "Таких треков достаточно много - прмиерно 2000 или 5% датасета. Сдвинем границу чуть вверх до 600 000 м.с. (примерно 10 минут)."
   ]
  },
  {
   "cell_type": "code",
   "execution_count": 48,
   "id": "b8a9f27d",
   "metadata": {},
   "outputs": [
    {
     "data": {
      "text/plain": [
       "386"
      ]
     },
     "execution_count": 48,
     "metadata": {},
     "output_type": "execute_result"
    }
   ],
   "source": [
    "df_train.query('duration_ms >= 600_000')['instance_id'].count()"
   ]
  },
  {
   "cell_type": "markdown",
   "id": "52c3b23b",
   "metadata": {},
   "source": [
    "Таких треков 386 или примерно 1%. 10 минут разумное время для большинства треков. Остальная часть обучающей выборки может искажать результат. Удалим ее:"
   ]
  },
  {
   "cell_type": "code",
   "execution_count": 49,
   "id": "0e1ef508",
   "metadata": {},
   "outputs": [],
   "source": [
    "# запись в словарь\n",
    "delete_rows_reasons['Удаление выбросов в признаке duration_ms'] = df_train.query('duration_ms >= 600_000')['instance_id'].count()\n",
    "# удаление\n",
    "df_train = df_train.loc[df_train['duration_ms'] < 600000]"
   ]
  },
  {
   "cell_type": "markdown",
   "id": "dac7fb9c",
   "metadata": {},
   "source": [
    "Новая гистограмма:"
   ]
  },
  {
   "cell_type": "code",
   "execution_count": 50,
   "id": "54970d93",
   "metadata": {},
   "outputs": [
    {
     "data": {
      "image/png": "[encoded data removed]",
      "text/plain": [
       "<Figure size 720x360 with 1 Axes>"
      ]
     },
     "metadata": {
      "needs_background": "light"
     },
     "output_type": "display_data"
    }
   ],
   "source": [
    "ax =(df_train['duration_ms']\n",
    "     .plot(kind='hist', bins=20,figsize=(10,5),\n",
    "           title='Гистограмма распределения признака \"duration_ms\"',\n",
    "           grid=True)\n",
    ")\n",
    "ax.set_xlabel('Значение признака')\n",
    "ax.set_ylabel('Частота')\n",
    "plt.show()\n",
    "plt.show()   "
   ]
  },
  {
   "cell_type": "markdown",
   "id": "dfb2813c",
   "metadata": {},
   "source": [
    "Столбец в районе 0 стало выделяться еще сильнее. Рассмотрим его:"
   ]
  },
  {
   "cell_type": "code",
   "execution_count": 51,
   "id": "ad5d42d5",
   "metadata": {},
   "outputs": [
    {
     "data": {
      "text/html": [
       "<div>\n",
       "<style scoped>\n",
       "    .dataframe tbody tr th:only-of-type {\n",
       "        vertical-align: middle;\n",
       "    }\n",
       "\n",
       "    .dataframe tbody tr th {\n",
       "        vertical-align: top;\n",
       "    }\n",
       "\n",
       "    .dataframe thead th {\n",
       "        text-align: right;\n",
       "    }\n",
       "</style>\n",
       "<table border=\"1\" class=\"dataframe\">\n",
       "  <thead>\n",
       "    <tr style=\"text-align: right;\">\n",
       "      <th></th>\n",
       "      <th>instance_id</th>\n",
       "      <th>track_name</th>\n",
       "      <th>popularity</th>\n",
       "      <th>acousticness</th>\n",
       "      <th>danceability</th>\n",
       "      <th>duration_ms</th>\n",
       "      <th>energy</th>\n",
       "      <th>instrumentalness</th>\n",
       "      <th>key</th>\n",
       "      <th>liveness</th>\n",
       "      <th>loudness</th>\n",
       "      <th>mode</th>\n",
       "      <th>speechiness</th>\n",
       "      <th>tempo</th>\n",
       "      <th>obtained_date</th>\n",
       "      <th>valence</th>\n",
       "      <th>music_genre</th>\n",
       "    </tr>\n",
       "  </thead>\n",
       "  <tbody>\n",
       "    <tr>\n",
       "      <th>0</th>\n",
       "      <td>4919</td>\n",
       "      <td>By Your Side</td>\n",
       "      <td>33.0</td>\n",
       "      <td>0.000718</td>\n",
       "      <td>0.501</td>\n",
       "      <td>-1.0</td>\n",
       "      <td>0.935</td>\n",
       "      <td>0.020100</td>\n",
       "      <td>G#</td>\n",
       "      <td>0.0831</td>\n",
       "      <td>5.566</td>\n",
       "      <td>Minor</td>\n",
       "      <td>0.1570</td>\n",
       "      <td>144.922</td>\n",
       "      <td>4-Apr</td>\n",
       "      <td>0.188</td>\n",
       "      <td>Electronic</td>\n",
       "    </tr>\n",
       "    <tr>\n",
       "      <th>19</th>\n",
       "      <td>12491</td>\n",
       "      <td>NaN</td>\n",
       "      <td>33.0</td>\n",
       "      <td>0.269000</td>\n",
       "      <td>0.580</td>\n",
       "      <td>-1.0</td>\n",
       "      <td>0.748</td>\n",
       "      <td>0.866000</td>\n",
       "      <td>C#</td>\n",
       "      <td>0.0777</td>\n",
       "      <td>7.736</td>\n",
       "      <td>Major</td>\n",
       "      <td>0.0307</td>\n",
       "      <td>97.258</td>\n",
       "      <td>4-Apr</td>\n",
       "      <td>0.762</td>\n",
       "      <td>Jazz</td>\n",
       "    </tr>\n",
       "    <tr>\n",
       "      <th>25</th>\n",
       "      <td>46065</td>\n",
       "      <td>Dreams</td>\n",
       "      <td>NaN</td>\n",
       "      <td>0.394000</td>\n",
       "      <td>0.490</td>\n",
       "      <td>-1.0</td>\n",
       "      <td>0.351</td>\n",
       "      <td>0.000008</td>\n",
       "      <td>B</td>\n",
       "      <td>0.1110</td>\n",
       "      <td>12.918</td>\n",
       "      <td>Minor</td>\n",
       "      <td>0.1940</td>\n",
       "      <td>82.127</td>\n",
       "      <td>1-Apr</td>\n",
       "      <td>0.316</td>\n",
       "      <td>Hip-Hop</td>\n",
       "    </tr>\n",
       "    <tr>\n",
       "      <th>27</th>\n",
       "      <td>48579</td>\n",
       "      <td>Sorry</td>\n",
       "      <td>55.0</td>\n",
       "      <td>0.428000</td>\n",
       "      <td>0.870</td>\n",
       "      <td>-1.0</td>\n",
       "      <td>0.531</td>\n",
       "      <td>0.000000</td>\n",
       "      <td>F</td>\n",
       "      <td>0.0798</td>\n",
       "      <td>6.471</td>\n",
       "      <td>Major</td>\n",
       "      <td>0.0992</td>\n",
       "      <td>NaN</td>\n",
       "      <td>NaN</td>\n",
       "      <td>0.315</td>\n",
       "      <td>Hip-Hop</td>\n",
       "    </tr>\n",
       "    <tr>\n",
       "      <th>31</th>\n",
       "      <td>19239</td>\n",
       "      <td>Dead Leaves And The Dirty Ground</td>\n",
       "      <td>46.0</td>\n",
       "      <td>0.471000</td>\n",
       "      <td>0.363</td>\n",
       "      <td>-1.0</td>\n",
       "      <td>0.611</td>\n",
       "      <td>0.000003</td>\n",
       "      <td>B</td>\n",
       "      <td>0.0735</td>\n",
       "      <td>4.215</td>\n",
       "      <td>Minor</td>\n",
       "      <td>0.0330</td>\n",
       "      <td>NaN</td>\n",
       "      <td>4-Apr</td>\n",
       "      <td>0.460</td>\n",
       "      <td>Alternative</td>\n",
       "    </tr>\n",
       "  </tbody>\n",
       "</table>\n",
       "</div>"
      ],
      "text/plain": [
       "    instance_id                        track_name  popularity  acousticness  \\\n",
       "0          4919                      By Your Side        33.0      0.000718   \n",
       "19        12491                               NaN        33.0      0.269000   \n",
       "25        46065                            Dreams         NaN      0.394000   \n",
       "27        48579                             Sorry        55.0      0.428000   \n",
       "31        19239  Dead Leaves And The Dirty Ground        46.0      0.471000   \n",
       "\n",
       "    danceability  duration_ms  energy  instrumentalness key  liveness  \\\n",
       "0          0.501         -1.0   0.935          0.020100  G#    0.0831   \n",
       "19         0.580         -1.0   0.748          0.866000  C#    0.0777   \n",
       "25         0.490         -1.0   0.351          0.000008   B    0.1110   \n",
       "27         0.870         -1.0   0.531          0.000000   F    0.0798   \n",
       "31         0.363         -1.0   0.611          0.000003   B    0.0735   \n",
       "\n",
       "    loudness   mode  speechiness    tempo obtained_date  valence  music_genre  \n",
       "0      5.566  Minor       0.1570  144.922         4-Apr    0.188   Electronic  \n",
       "19     7.736  Major       0.0307   97.258         4-Apr    0.762         Jazz  \n",
       "25    12.918  Minor       0.1940   82.127         1-Apr    0.316      Hip-Hop  \n",
       "27     6.471  Major       0.0992      NaN           NaN    0.315      Hip-Hop  \n",
       "31     4.215  Minor       0.0330      NaN         4-Apr    0.460  Alternative  "
      ]
     },
     "execution_count": 51,
     "metadata": {},
     "output_type": "execute_result"
    }
   ],
   "source": [
    "df_train.query('duration_ms <= 0').head()"
   ]
  },
  {
   "cell_type": "markdown",
   "id": "f743c4fe",
   "metadata": {},
   "source": [
    "Наличие 10% треков со значением признака -1 может быть проблемой при обучении. Есть несколько вариантов:\n",
    "- придумать алгоритм расчета времени из имеющихся данных;\n",
    "- удалить данные;\n",
    "- заменить значения средним по какому-то параметру (например, tempo или любому другому коррелирующему с `duration_ms`);\n",
    "\n",
    "Если выбрать:\n",
    "- вариант 1, то не понятно, как это сделать. Технически, здесь может подойти только параметр `tempo`, который отвечает за ритм, но пока вариант кажется нереальным;\n",
    "- вариант 2, то есть риск, что увидев эти данные в тестовой выборке, модель поведет себя неадекватно, хотя на кросс-валидации все было бы хорошо;\n",
    "- вариант 3, то признак будет заполнен, а средние занчения не будут особо перекашивать модель."
   ]
  },
  {
   "cell_type": "markdown",
   "id": "d0aaeee0",
   "metadata": {},
   "source": [
    "Для начала заменим -1 на NaN:"
   ]
  },
  {
   "cell_type": "code",
   "execution_count": 52,
   "id": "f3efe556",
   "metadata": {},
   "outputs": [],
   "source": [
    "# train\n",
    "idx = (df_train['duration_ms'] <= 0)\n",
    "df_train.loc[idx, 'duration_ms'] = np.nan\n",
    "# test\n",
    "idx = (df_test['duration_ms'] <= 0)\n",
    "df_test.loc[idx, 'duration_ms'] = np.nan"
   ]
  },
  {
   "cell_type": "markdown",
   "id": "b5dc2c39",
   "metadata": {},
   "source": [
    "Проверка:"
   ]
  },
  {
   "cell_type": "code",
   "execution_count": 53,
   "id": "5f6a9932",
   "metadata": {},
   "outputs": [
    {
     "data": {
      "text/plain": [
       "3918"
      ]
     },
     "execution_count": 53,
     "metadata": {},
     "output_type": "execute_result"
    }
   ],
   "source": [
    "df_train['duration_ms'].isna().sum()"
   ]
  },
  {
   "cell_type": "code",
   "execution_count": 54,
   "id": "f9343cdb",
   "metadata": {},
   "outputs": [
    {
     "data": {
      "text/plain": [
       "983"
      ]
     },
     "execution_count": 54,
     "metadata": {},
     "output_type": "execute_result"
    }
   ],
   "source": [
    "df_test['duration_ms'].isna().sum()"
   ]
  },
  {
   "cell_type": "markdown",
   "id": "f44b3fa5",
   "metadata": {},
   "source": [
    "Итоговая обрабокта пропусков будет выполняться по варианту 3, т.к. она реализуема и видится наиболее качественной."
   ]
  },
  {
   "cell_type": "markdown",
   "id": "11be1937",
   "metadata": {},
   "source": [
    "### Признак `energy`:"
   ]
  },
  {
   "cell_type": "markdown",
   "id": "a5f72af3",
   "metadata": {},
   "source": [
    "Построим гистограмму распределения признака."
   ]
  },
  {
   "cell_type": "code",
   "execution_count": 55,
   "id": "a7d679e9",
   "metadata": {},
   "outputs": [
    {
     "data": {
      "image/png": "[encoded data removed]",
      "text/plain": [
       "<Figure size 720x360 with 1 Axes>"
      ]
     },
     "metadata": {
      "needs_background": "light"
     },
     "output_type": "display_data"
    }
   ],
   "source": [
    "ax =(df_train['energy']\n",
    "     .plot(kind='hist', bins=20,figsize=(10,5),\n",
    "           title='Гистограмма распределения признака \"energy\"',\n",
    "           grid=True)\n",
    ")\n",
    "ax.set_xlabel('Значение признака')\n",
    "ax.set_ylabel('Частота')\n",
    "plt.show()\n",
    "plt.show()"
   ]
  },
  {
   "cell_type": "markdown",
   "id": "49f8a563",
   "metadata": {},
   "source": [
    "В датасете преобладает энергичная музыка. Если разделить музыку на категории по значению параметра \"до 0.35 - спокойная\", \"от 0.35 до 0.65 - нормальная\" и \"от 0.65 до 1 - энергичная\", то видно, что энергичной музыки примерно в 2.5. раза больше, чем спокойной и примерно в 1.5 раза больше чем нормальной:"
   ]
  },
  {
   "cell_type": "code",
   "execution_count": 56,
   "id": "4e97f6b8",
   "metadata": {},
   "outputs": [
    {
     "data": {
      "text/plain": [
       "3    0.486218\n",
       "2    0.316215\n",
       "1    0.197568\n",
       "Name: energy, dtype: float64"
      ]
     },
     "execution_count": 56,
     "metadata": {},
     "output_type": "execute_result"
    }
   ],
   "source": [
    "# расчет долей по категориям:\n",
    "((df_train['energy'] < 0.35) * 1 + \n",
    " ((0.35 <= df_train['energy']) & (df_train['energy'] < 0.65)) * 2 + \n",
    " (df_train['energy'] >= 0.65) * 3).value_counts(normalize=True)"
   ]
  },
  {
   "cell_type": "code",
   "execution_count": 57,
   "id": "f7899a26",
   "metadata": {},
   "outputs": [
    {
     "data": {
      "text/plain": [
       "Anime          1273\n",
       "Electronic      993\n",
       "Alternative     790\n",
       "Rock            470\n",
       "Blues           369\n",
       "Country         211\n",
       "Classical       156\n",
       "Rap             152\n",
       "Hip-Hop         121\n",
       "Jazz            115\n",
       "Name: music_genre, dtype: int64"
      ]
     },
     "execution_count": 57,
     "metadata": {},
     "output_type": "execute_result"
    }
   ],
   "source": [
    "df_train[df_train['energy']>=0.9]['music_genre'].value_counts()"
   ]
  },
  {
   "cell_type": "markdown",
   "id": "df750079",
   "metadata": {},
   "source": [
    "Признак хорошо отражает особенности жанров. Например, так выглядят гистограммы для треков с классческой музыкой и альтернативой (на одном графике)."
   ]
  },
  {
   "cell_type": "code",
   "execution_count": 58,
   "id": "278a818f",
   "metadata": {},
   "outputs": [
    {
     "data": {
      "image/png": "[encoded data removed]",
      "text/plain": [
       "<Figure size 936x432 with 1 Axes>"
      ]
     },
     "metadata": {
      "needs_background": "light"
     },
     "output_type": "display_data"
    }
   ],
   "source": [
    "fig, ax = plt.subplots(figsize=(13,6))\n",
    "\n",
    "ax.hist((df_train.query('music_genre==\"Alternative\"')['energy']), bins=20, label='Alternative')\n",
    "ax.hist((df_train.query('music_genre==\"Classical\"')['energy']), bins=20, label='Classical')\n",
    "\n",
    "ax.set_title('Сравнение распределения признака energy у разных жанров')\n",
    "ax.set_xlabel('Значение')\n",
    "ax.set_ylabel('Частота')\n",
    "ax.grid()\n",
    "plt.legend(loc='upper right')\n",
    "ax.grid=True\n",
    "plt.show()\n"
   ]
  },
  {
   "cell_type": "markdown",
   "id": "6f2c201d",
   "metadata": {},
   "source": [
    "Проверка адекватности:"
   ]
  },
  {
   "cell_type": "markdown",
   "id": "2d75f4fe",
   "metadata": {},
   "source": [
    "Большая часть музыки со значением параметра <0.05 - классическая, что согласуется с описанием параметра."
   ]
  },
  {
   "cell_type": "markdown",
   "id": "560d18be",
   "metadata": {},
   "source": [
    "Признак полезен при определении жанра. Также он может быть полезен при заполнении пропусков в других признаках, т.к. по этому показателю треки достаточно хорошо представлены в каждом интервале. Идея следующая:\n",
    "1. Нарезать треки по этому признаку на интервалы. Например, [0 - 0.1),[0.1 - 0.2) ...., [0.9,1].\n",
    "2. Рассчитать среднее или медиану признака, для которого хотим заполнить пропуски в разрезе этих интервало.\n",
    "3. Заполнить пропуски.\n",
    "\n",
    "! Хорошо, если признак коррелирует с тем, который хотим заполнить."
   ]
  },
  {
   "cell_type": "markdown",
   "id": "b0b33b49",
   "metadata": {},
   "source": [
    "### Признак `instrumentalness`:"
   ]
  },
  {
   "cell_type": "markdown",
   "id": "a1f0dede",
   "metadata": {},
   "source": [
    "Построим гистограмму распределения признака."
   ]
  },
  {
   "cell_type": "code",
   "execution_count": 59,
   "id": "e23119c7",
   "metadata": {},
   "outputs": [
    {
     "data": {
      "image/png": "[encoded data removed]",
      "text/plain": [
       "<Figure size 720x360 with 1 Axes>"
      ]
     },
     "metadata": {
      "needs_background": "light"
     },
     "output_type": "display_data"
    }
   ],
   "source": [
    "ax =(df_train['instrumentalness']\n",
    "     .plot(kind='hist', bins=20,figsize=(10,5),\n",
    "           title='Гистограмма распределения признака \"instrumentalness\"',\n",
    "           grid=True)\n",
    ")\n",
    "ax.set_xlabel('Значение признака')\n",
    "ax.set_ylabel('Частота')\n",
    "plt.show()"
   ]
  },
  {
   "cell_type": "markdown",
   "id": "8cc31a61",
   "metadata": {},
   "source": [
    "Подавляющее большинство треков содержат вокал. Если считать треки со значением \"до 0.35 - вокальными\", \"от 0.35 до 0.65 - промежуточными\", \"от 0.65 до 1 - почти без вокала\", то распределение такое: "
   ]
  },
  {
   "cell_type": "code",
   "execution_count": 60,
   "id": "7aa8e338",
   "metadata": {},
   "outputs": [
    {
     "data": {
      "text/plain": [
       "1    0.774672\n",
       "3    0.178362\n",
       "2    0.046967\n",
       "Name: instrumentalness, dtype: float64"
      ]
     },
     "execution_count": 60,
     "metadata": {},
     "output_type": "execute_result"
    }
   ],
   "source": [
    "# расчет долей по категориям:\n",
    "((df_train['instrumentalness'] < 0.35) * 1 + \n",
    " ((0.35 <= df_train['instrumentalness']) & (df_train['instrumentalness'] < 0.65)) * 2 + \n",
    " (df_train['instrumentalness'] >= 0.65) * 3).value_counts(normalize=True)"
   ]
  },
  {
   "cell_type": "markdown",
   "id": "91a460a3",
   "metadata": {},
   "source": [
    "Проверка адекватности:"
   ]
  },
  {
   "cell_type": "code",
   "execution_count": 61,
   "id": "d6d8956c",
   "metadata": {},
   "outputs": [
    {
     "data": {
      "text/plain": [
       "Classical     148\n",
       "Anime         140\n",
       "Jazz           45\n",
       "Electronic     38\n",
       "Rock            5\n",
       "Blues           5\n",
       "Name: music_genre, dtype: int64"
      ]
     },
     "execution_count": 61,
     "metadata": {},
     "output_type": "execute_result"
    }
   ],
   "source": [
    "df_train.loc[df_train['instrumentalness']>0.95,'music_genre'].value_counts()"
   ]
  },
  {
   "cell_type": "code",
   "execution_count": 62,
   "id": "3438e4aa",
   "metadata": {},
   "outputs": [
    {
     "data": {
      "text/plain": [
       "Country        3688\n",
       "Hip-Hop        2949\n",
       "Rock           2936\n",
       "Blues          2933\n",
       "Rap            2908\n",
       "Alternative    2845\n",
       "Anime          2457\n",
       "Jazz           1751\n",
       "Electronic     1545\n",
       "Classical       835\n",
       "Name: music_genre, dtype: int64"
      ]
     },
     "execution_count": 62,
     "metadata": {},
     "output_type": "execute_result"
    }
   ],
   "source": [
    "df_train.loc[df_train['instrumentalness']<0.05,'music_genre'].value_counts()"
   ]
  },
  {
   "cell_type": "markdown",
   "id": "e7ff1831",
   "metadata": {},
   "source": [
    "Большая часть треков \"без слов\" - классическая музыка, а в группе со значением параметра < 0.05 много разных жанров.\n",
    "Отдельно рассматривается сегмент \"Классической музыки\" со значением параметра 0.05 и менее:"
   ]
  },
  {
   "cell_type": "code",
   "execution_count": 63,
   "id": "ae37fb63",
   "metadata": {},
   "outputs": [
    {
     "data": {
      "text/html": [
       "<div>\n",
       "<style scoped>\n",
       "    .dataframe tbody tr th:only-of-type {\n",
       "        vertical-align: middle;\n",
       "    }\n",
       "\n",
       "    .dataframe tbody tr th {\n",
       "        vertical-align: top;\n",
       "    }\n",
       "\n",
       "    .dataframe thead th {\n",
       "        text-align: right;\n",
       "    }\n",
       "</style>\n",
       "<table border=\"1\" class=\"dataframe\">\n",
       "  <thead>\n",
       "    <tr style=\"text-align: right;\">\n",
       "      <th></th>\n",
       "      <th>instance_id</th>\n",
       "      <th>track_name</th>\n",
       "      <th>popularity</th>\n",
       "      <th>acousticness</th>\n",
       "      <th>danceability</th>\n",
       "      <th>duration_ms</th>\n",
       "      <th>energy</th>\n",
       "      <th>instrumentalness</th>\n",
       "      <th>key</th>\n",
       "      <th>liveness</th>\n",
       "      <th>loudness</th>\n",
       "      <th>mode</th>\n",
       "      <th>speechiness</th>\n",
       "      <th>tempo</th>\n",
       "      <th>obtained_date</th>\n",
       "      <th>valence</th>\n",
       "      <th>music_genre</th>\n",
       "    </tr>\n",
       "  </thead>\n",
       "  <tbody>\n",
       "    <tr>\n",
       "      <th>62</th>\n",
       "      <td>44569</td>\n",
       "      <td>Perhaps Love</td>\n",
       "      <td>36.0</td>\n",
       "      <td>0.90600</td>\n",
       "      <td>0.367</td>\n",
       "      <td>179187.0</td>\n",
       "      <td>0.2150</td>\n",
       "      <td>0.000004</td>\n",
       "      <td>A</td>\n",
       "      <td>0.103</td>\n",
       "      <td>13.824</td>\n",
       "      <td>Major</td>\n",
       "      <td>0.0524</td>\n",
       "      <td>NaN</td>\n",
       "      <td>4-Apr</td>\n",
       "      <td>0.3600</td>\n",
       "      <td>Classical</td>\n",
       "    </tr>\n",
       "    <tr>\n",
       "      <th>88</th>\n",
       "      <td>44278</td>\n",
       "      <td>Les contes d'Hoffmann, Act II: Entr'acte - Ell...</td>\n",
       "      <td>0.0</td>\n",
       "      <td>0.96400</td>\n",
       "      <td>NaN</td>\n",
       "      <td>NaN</td>\n",
       "      <td>0.0179</td>\n",
       "      <td>0.000092</td>\n",
       "      <td>A#</td>\n",
       "      <td>0.354</td>\n",
       "      <td>27.506</td>\n",
       "      <td>Major</td>\n",
       "      <td>0.0533</td>\n",
       "      <td>173.780</td>\n",
       "      <td>3-Apr</td>\n",
       "      <td>0.0346</td>\n",
       "      <td>Classical</td>\n",
       "    </tr>\n",
       "    <tr>\n",
       "      <th>90</th>\n",
       "      <td>43611</td>\n",
       "      <td>Fidelio, Op. 72, Act I: Ihr könnt das leicht s...</td>\n",
       "      <td>0.0</td>\n",
       "      <td>0.75400</td>\n",
       "      <td>0.550</td>\n",
       "      <td>106013.0</td>\n",
       "      <td>0.0237</td>\n",
       "      <td>0.000000</td>\n",
       "      <td>C</td>\n",
       "      <td>0.244</td>\n",
       "      <td>38.267</td>\n",
       "      <td>Major</td>\n",
       "      <td>0.1420</td>\n",
       "      <td>NaN</td>\n",
       "      <td>3-Apr</td>\n",
       "      <td>0.2000</td>\n",
       "      <td>Classical</td>\n",
       "    </tr>\n",
       "    <tr>\n",
       "      <th>262</th>\n",
       "      <td>43609</td>\n",
       "      <td>Rinaldo, HWV 7a, Act III (Ed. G. Sechi): La su...</td>\n",
       "      <td>NaN</td>\n",
       "      <td>0.97000</td>\n",
       "      <td>0.487</td>\n",
       "      <td>40704.0</td>\n",
       "      <td>0.1160</td>\n",
       "      <td>0.000000</td>\n",
       "      <td>noinfo</td>\n",
       "      <td>0.487</td>\n",
       "      <td>90.608</td>\n",
       "      <td>Major</td>\n",
       "      <td>0.4420</td>\n",
       "      <td>70.716</td>\n",
       "      <td>4-Apr</td>\n",
       "      <td>0.3650</td>\n",
       "      <td>Classical</td>\n",
       "    </tr>\n",
       "    <tr>\n",
       "      <th>270</th>\n",
       "      <td>42208</td>\n",
       "      <td>The Curse of Feanor - Remastered 2007</td>\n",
       "      <td>38.0</td>\n",
       "      <td>0.00206</td>\n",
       "      <td>0.463</td>\n",
       "      <td>341920.0</td>\n",
       "      <td>0.9850</td>\n",
       "      <td>0.046300</td>\n",
       "      <td>B</td>\n",
       "      <td>0.311</td>\n",
       "      <td>5.542</td>\n",
       "      <td>Major</td>\n",
       "      <td>0.1160</td>\n",
       "      <td>153.619</td>\n",
       "      <td>NaN</td>\n",
       "      <td>0.1120</td>\n",
       "      <td>Classical</td>\n",
       "    </tr>\n",
       "  </tbody>\n",
       "</table>\n",
       "</div>"
      ],
      "text/plain": [
       "     instance_id                                         track_name  \\\n",
       "62         44569                                       Perhaps Love   \n",
       "88         44278  Les contes d'Hoffmann, Act II: Entr'acte - Ell...   \n",
       "90         43611  Fidelio, Op. 72, Act I: Ihr könnt das leicht s...   \n",
       "262        43609  Rinaldo, HWV 7a, Act III (Ed. G. Sechi): La su...   \n",
       "270        42208              The Curse of Feanor - Remastered 2007   \n",
       "\n",
       "     popularity  acousticness  danceability  duration_ms  energy  \\\n",
       "62         36.0       0.90600         0.367     179187.0  0.2150   \n",
       "88          0.0       0.96400           NaN          NaN  0.0179   \n",
       "90          0.0       0.75400         0.550     106013.0  0.0237   \n",
       "262         NaN       0.97000         0.487      40704.0  0.1160   \n",
       "270        38.0       0.00206         0.463     341920.0  0.9850   \n",
       "\n",
       "     instrumentalness     key  liveness  loudness   mode  speechiness  \\\n",
       "62           0.000004       A     0.103    13.824  Major       0.0524   \n",
       "88           0.000092      A#     0.354    27.506  Major       0.0533   \n",
       "90           0.000000       C     0.244    38.267  Major       0.1420   \n",
       "262          0.000000  noinfo     0.487    90.608  Major       0.4420   \n",
       "270          0.046300       B     0.311     5.542  Major       0.1160   \n",
       "\n",
       "       tempo obtained_date  valence music_genre  \n",
       "62       NaN         4-Apr   0.3600   Classical  \n",
       "88   173.780         3-Apr   0.0346   Classical  \n",
       "90       NaN         3-Apr   0.2000   Classical  \n",
       "262   70.716         4-Apr   0.3650   Classical  \n",
       "270  153.619           NaN   0.1120   Classical  "
      ]
     },
     "execution_count": 63,
     "metadata": {},
     "output_type": "execute_result"
    }
   ],
   "source": [
    "df_train.loc[(df_train['instrumentalness']<0.05)&(df_train['music_genre']=='Classical')].head()"
   ]
  },
  {
   "cell_type": "markdown",
   "id": "2115dca7",
   "metadata": {},
   "source": [
    "Проверив пару произведений, можно сделать вывод, что такое сочетание возможно, если на заднем фоне поет хор. Признак адекватен."
   ]
  },
  {
   "cell_type": "markdown",
   "id": "2600230f",
   "metadata": {},
   "source": [
    "### Признак `liveness`:"
   ]
  },
  {
   "cell_type": "markdown",
   "id": "caaea3fd",
   "metadata": {},
   "source": [
    "Построим гистограмму распределения признака."
   ]
  },
  {
   "cell_type": "code",
   "execution_count": 64,
   "id": "d7e13a34",
   "metadata": {},
   "outputs": [
    {
     "data": {
      "image/png": "[encoded data removed]",
      "text/plain": [
       "<Figure size 720x360 with 1 Axes>"
      ]
     },
     "metadata": {
      "needs_background": "light"
     },
     "output_type": "display_data"
    }
   ],
   "source": [
    "ax =(df_train['liveness']\n",
    "     .plot(kind='hist', bins=20,figsize=(10,5),\n",
    "           title='Гистограмма распределения признака \"liveness\"',\n",
    "           grid=True)\n",
    ")\n",
    "ax.set_xlabel('Значение признака')\n",
    "ax.set_ylabel('Частота')\n",
    "plt.show()\n",
    "plt.show()"
   ]
  },
  {
   "cell_type": "markdown",
   "id": "b2c209fc",
   "metadata": {},
   "source": [
    "Большинство песен записаны без присутствия аудитории (если определить таковыми треки со значением < 0.4).\n",
    "Проверка того, что при значении 0.8 трек скорее всего записывали вживую:"
   ]
  },
  {
   "cell_type": "code",
   "execution_count": 65,
   "id": "8de63755",
   "metadata": {},
   "outputs": [
    {
     "data": {
      "text/plain": [
       "503"
      ]
     },
     "execution_count": 65,
     "metadata": {},
     "output_type": "execute_result"
    }
   ],
   "source": [
    "df_train[df_train['liveness']>0.8].shape[0]"
   ]
  },
  {
   "cell_type": "code",
   "execution_count": 66,
   "id": "f3d6ceaf",
   "metadata": {},
   "outputs": [
    {
     "data": {
      "text/plain": [
       "164"
      ]
     },
     "execution_count": 66,
     "metadata": {},
     "output_type": "execute_result"
    }
   ],
   "source": [
    "df_train[(df_train['liveness']>0.8)\n",
    "         &(~df_train['track_name'].isna())\n",
    "         &(df_train['track_name'].str.lower().str.contains('live'))].shape[0]"
   ]
  },
  {
   "cell_type": "markdown",
   "id": "c41ae076",
   "metadata": {},
   "source": [
    "174 песни из 517 содержат упоминание \"live\", т.е. возможно исполнялись вживую. Могут быть пересечения с названиями песен и прочими специфическими обозначениями типа \"live video\" и т.д."
   ]
  },
  {
   "cell_type": "markdown",
   "id": "819d2118",
   "metadata": {},
   "source": [
    "Проверка при значении параметра < 0.2:"
   ]
  },
  {
   "cell_type": "code",
   "execution_count": 67,
   "id": "ace18fd4",
   "metadata": {},
   "outputs": [
    {
     "data": {
      "text/plain": [
       "24865"
      ]
     },
     "execution_count": 67,
     "metadata": {},
     "output_type": "execute_result"
    }
   ],
   "source": [
    "df_train[df_train['liveness']<0.2].shape[0]"
   ]
  },
  {
   "cell_type": "code",
   "execution_count": 68,
   "id": "b3c6adbc",
   "metadata": {},
   "outputs": [
    {
     "data": {
      "text/plain": [
       "208"
      ]
     },
     "execution_count": 68,
     "metadata": {},
     "output_type": "execute_result"
    }
   ],
   "source": [
    "df_train[(df_train['liveness']<0.2)\n",
    "         &(~df_train['track_name'].isna())\n",
    "         &(df_train['track_name'].str.lower().str.contains('live'))].shape[0]"
   ]
  },
  {
   "cell_type": "markdown",
   "id": "fed2825b",
   "metadata": {},
   "source": [
    "232 песни из 25165 содержат слово \"live\", т.е. потенциально могли бы быть исполнены вживую."
   ]
  },
  {
   "cell_type": "markdown",
   "id": "44007a37",
   "metadata": {},
   "source": [
    "<ins>Вывод</ins>: признак `liveness` вполне адекватно себя ведет."
   ]
  },
  {
   "cell_type": "markdown",
   "id": "c69d6dd2",
   "metadata": {},
   "source": [
    "### Признак `loudness`:"
   ]
  },
  {
   "cell_type": "markdown",
   "id": "8704aca6",
   "metadata": {},
   "source": [
    "Построим гистограмму распределения признака."
   ]
  },
  {
   "cell_type": "code",
   "execution_count": 69,
   "id": "2167f6d4",
   "metadata": {},
   "outputs": [
    {
     "data": {
      "image/png": "[encoded data removed]",
      "text/plain": [
       "<Figure size 720x360 with 1 Axes>"
      ]
     },
     "metadata": {
      "needs_background": "light"
     },
     "output_type": "display_data"
    }
   ],
   "source": [
    "ax =(df_train['loudness']\n",
    "     .plot(kind='hist', bins=20,figsize=(10,5),\n",
    "           title='Гистограмма распределения признака \"loudness\"',\n",
    "           grid=True)\n",
    ")\n",
    "ax.set_xlabel('Значение признака')\n",
    "ax.set_ylabel('Частота')\n",
    "plt.show()"
   ]
  },
  {
   "cell_type": "markdown",
   "id": "5affdca0",
   "metadata": {},
   "source": [
    "Большая часть песен находится в диапозоне до 20дБ. Признак не ограничен значением \"сверху\", поэтому проверим выбросы/аномалии с помощью boxplot"
   ]
  },
  {
   "cell_type": "code",
   "execution_count": 70,
   "id": "c7b05703",
   "metadata": {},
   "outputs": [
    {
     "data": {
      "image/png": "[encoded data removed]",
      "text/plain": [
       "<Figure size 720x360 with 1 Axes>"
      ]
     },
     "metadata": {
      "needs_background": "light"
     },
     "output_type": "display_data"
    }
   ],
   "source": [
    "ax =(df_train['loudness']\n",
    "     .plot(kind='box',figsize=(10,5),\n",
    "           title='Boxplot признака \"loudness\"',\n",
    "           grid=True)\n",
    ")\n",
    "ax.set_ylabel('Значение признака')\n",
    "plt.show()"
   ]
  },
  {
   "cell_type": "markdown",
   "id": "99f07457",
   "metadata": {},
   "source": [
    "По boxplot выбросами считаются все значения свыше 20дБ. Однако стоит выделить часть, которая идет после 60дБ. Рассмотрим гистограммы для треков с показателем до 60дБ и свыше 60дБ:"
   ]
  },
  {
   "cell_type": "code",
   "execution_count": 71,
   "id": "5576e7a4",
   "metadata": {},
   "outputs": [
    {
     "data": {
      "image/png": "[encoded data removed]",
      "text/plain": [
       "<Figure size 720x360 with 1 Axes>"
      ]
     },
     "metadata": {
      "needs_background": "light"
     },
     "output_type": "display_data"
    }
   ],
   "source": [
    "# распределение песен с треками до 60дБ\n",
    "ax =(df_train.query('loudness<=60')['loudness']\n",
    "     .plot(kind='hist', bins=20,figsize=(10,5),\n",
    "           title='Гистограмма распределения признака \"loudness\", значение до 60дБ',\n",
    "           grid=True)\n",
    ")\n",
    "ax.set_xlabel('Значение признака')\n",
    "ax.set_ylabel('Частота')\n",
    "plt.show()"
   ]
  },
  {
   "cell_type": "code",
   "execution_count": 72,
   "id": "d7d78a76",
   "metadata": {},
   "outputs": [
    {
     "data": {
      "image/png": "[encoded data removed]",
      "text/plain": [
       "<Figure size 720x360 with 1 Axes>"
      ]
     },
     "metadata": {
      "needs_background": "light"
     },
     "output_type": "display_data"
    }
   ],
   "source": [
    "# распределение песен с треками свыше 60дБ\n",
    "ax =(df_train.query('loudness>60')['loudness']\n",
    "     .plot(kind='hist', bins=20,figsize=(10,5),\n",
    "           title='Гистограмма распределения признака \"loudness\", значение выше 60дБ',\n",
    "           grid=True)\n",
    ")\n",
    "ax.set_xlabel('Значение признака')\n",
    "ax.set_ylabel('Частота')\n",
    "plt.show()"
   ]
  },
  {
   "cell_type": "markdown",
   "id": "5b14af87",
   "metadata": {},
   "source": [
    "Гистограммы получились похожими. Возможно, у части треков этот параметр почему-то оказался выше, чем у основной массы треков, хотя распределение по жанрам в обеих группах одинаковое (или близкое, таблица ниже). Если это так, то можно ожидать, что группа треков с параметром выше 60дБ будет \"путать\" алгоритм. Рассмотрим распределение жанров в следующих группах:\n",
    "- до 60дБ\n",
    "- выше 60дБ\n",
    "- без разделения"
   ]
  },
  {
   "cell_type": "code",
   "execution_count": 73,
   "id": "c165ee53",
   "metadata": {},
   "outputs": [
    {
     "data": {
      "text/html": [
       "<div>\n",
       "<style scoped>\n",
       "    .dataframe tbody tr th:only-of-type {\n",
       "        vertical-align: middle;\n",
       "    }\n",
       "\n",
       "    .dataframe tbody tr th {\n",
       "        vertical-align: top;\n",
       "    }\n",
       "\n",
       "    .dataframe thead th {\n",
       "        text-align: right;\n",
       "    }\n",
       "</style>\n",
       "<table border=\"1\" class=\"dataframe\">\n",
       "  <thead>\n",
       "    <tr style=\"text-align: right;\">\n",
       "      <th></th>\n",
       "      <th>до 60дБ</th>\n",
       "      <th>выше 60дБ</th>\n",
       "      <th>без разделения</th>\n",
       "    </tr>\n",
       "  </thead>\n",
       "  <tbody>\n",
       "    <tr>\n",
       "      <th>Anime</th>\n",
       "      <td>0.112094</td>\n",
       "      <td>0.084099</td>\n",
       "      <td>0.110987</td>\n",
       "    </tr>\n",
       "    <tr>\n",
       "      <th>Electronic</th>\n",
       "      <td>0.109387</td>\n",
       "      <td>0.091873</td>\n",
       "      <td>0.108694</td>\n",
       "    </tr>\n",
       "    <tr>\n",
       "      <th>Jazz</th>\n",
       "      <td>0.107117</td>\n",
       "      <td>0.099647</td>\n",
       "      <td>0.106821</td>\n",
       "    </tr>\n",
       "    <tr>\n",
       "      <th>Country</th>\n",
       "      <td>0.105574</td>\n",
       "      <td>0.100353</td>\n",
       "      <td>0.105368</td>\n",
       "    </tr>\n",
       "    <tr>\n",
       "      <th>Blues</th>\n",
       "      <td>0.105021</td>\n",
       "      <td>0.118021</td>\n",
       "      <td>0.105535</td>\n",
       "    </tr>\n",
       "    <tr>\n",
       "      <th>Classical</th>\n",
       "      <td>0.104352</td>\n",
       "      <td>0.092580</td>\n",
       "      <td>0.103886</td>\n",
       "    </tr>\n",
       "    <tr>\n",
       "      <th>Rock</th>\n",
       "      <td>0.095154</td>\n",
       "      <td>0.106007</td>\n",
       "      <td>0.095583</td>\n",
       "    </tr>\n",
       "    <tr>\n",
       "      <th>Alternative</th>\n",
       "      <td>0.093553</td>\n",
       "      <td>0.098233</td>\n",
       "      <td>0.093738</td>\n",
       "    </tr>\n",
       "    <tr>\n",
       "      <th>Hip-Hop</th>\n",
       "      <td>0.084413</td>\n",
       "      <td>0.108834</td>\n",
       "      <td>0.085379</td>\n",
       "    </tr>\n",
       "    <tr>\n",
       "      <th>Rap</th>\n",
       "      <td>0.083336</td>\n",
       "      <td>0.100353</td>\n",
       "      <td>0.084009</td>\n",
       "    </tr>\n",
       "  </tbody>\n",
       "</table>\n",
       "</div>"
      ],
      "text/plain": [
       "              до 60дБ  выше 60дБ  без разделения\n",
       "Anime        0.112094   0.084099        0.110987\n",
       "Electronic   0.109387   0.091873        0.108694\n",
       "Jazz         0.107117   0.099647        0.106821\n",
       "Country      0.105574   0.100353        0.105368\n",
       "Blues        0.105021   0.118021        0.105535\n",
       "Classical    0.104352   0.092580        0.103886\n",
       "Rock         0.095154   0.106007        0.095583\n",
       "Alternative  0.093553   0.098233        0.093738\n",
       "Hip-Hop      0.084413   0.108834        0.085379\n",
       "Rap          0.083336   0.100353        0.084009"
      ]
     },
     "execution_count": 73,
     "metadata": {},
     "output_type": "execute_result"
    }
   ],
   "source": [
    "pd.concat([df_train.loc[df_train['loudness']<=60,'music_genre'].value_counts(normalize=True).rename('до 60дБ'),\n",
    "           df_train.loc[df_train['loudness']>60,'music_genre'].value_counts(normalize=True).rename('выше 60дБ'),\n",
    "           df_train['music_genre'].value_counts(normalize=True).rename('без разделения')]\n",
    "          ,axis=1)\n",
    "           "
   ]
  },
  {
   "cell_type": "markdown",
   "id": "43ded648",
   "metadata": {},
   "source": [
    "Выше видно, что в группе выше 60дБ распределение жанров немного отличается от распределения жанров в группе до 60дБ, но в целом они все равно похожи.\n",
    "\n",
    "Ниже пример того, как эти данные могут путать алгоритм:"
   ]
  },
  {
   "cell_type": "code",
   "execution_count": 74,
   "id": "b6cbca6f",
   "metadata": {},
   "outputs": [
    {
     "data": {
      "image/png": "[encoded data removed]",
      "text/plain": [
       "<Figure size 720x360 with 1 Axes>"
      ]
     },
     "metadata": {
      "needs_background": "light"
     },
     "output_type": "display_data"
    }
   ],
   "source": [
    "# распределение песен с треками до 60дБ, жанр Rock\n",
    "ax =(df_train.query('loudness<=60 and music_genre==\"Rock\"')['loudness']\n",
    "     .plot(kind='hist', bins=20,figsize=(10,5),\n",
    "           title='Гистограмма распределения признака \"loudness\", значение до 60дБ, жанр Rock',\n",
    "           grid=True)\n",
    ")\n",
    "ax.set_xlabel('Значение признака')\n",
    "ax.set_ylabel('Частота')\n",
    "plt.show()"
   ]
  },
  {
   "cell_type": "code",
   "execution_count": 75,
   "id": "c48e8b69",
   "metadata": {},
   "outputs": [
    {
     "data": {
      "image/png": "[encoded data removed]",
      "text/plain": [
       "<Figure size 720x360 with 1 Axes>"
      ]
     },
     "metadata": {
      "needs_background": "light"
     },
     "output_type": "display_data"
    }
   ],
   "source": [
    "# распределение песен с треками до 60дБ, жанр Classical\n",
    "ax =(df_train.query('loudness<=60 and music_genre==\"Classical\"')['loudness']\n",
    "     .plot(kind='hist', bins=20,figsize=(10,5),\n",
    "           title='Гистограмма распределения признака \"loudness\", значение до 60дБ, жанр Classical',\n",
    "           grid=True)\n",
    ")\n",
    "ax.set_xlabel('Значение признака')\n",
    "ax.set_ylabel('Частота')\n",
    "plt.show()"
   ]
  },
  {
   "cell_type": "markdown",
   "id": "118c0ee7",
   "metadata": {},
   "source": [
    "Выше видно, что при значении параметра 30дБ скорее речь будет идти о классической музыке, но не о роке. \n",
    "\n",
    "Теперь рассмотрим гистограммы для параметра >=60:"
   ]
  },
  {
   "cell_type": "code",
   "execution_count": 76,
   "id": "e03afb5f",
   "metadata": {},
   "outputs": [
    {
     "data": {
      "image/png": "[encoded data removed]",
      "text/plain": [
       "<Figure size 720x360 with 1 Axes>"
      ]
     },
     "metadata": {
      "needs_background": "light"
     },
     "output_type": "display_data"
    }
   ],
   "source": [
    "# распределение песен с треками выше 60дБ, жанр Rock\n",
    "ax =(df_train.query('loudness>60 and music_genre==\"Rock\"')['loudness']\n",
    "     .plot(kind='hist', bins=20,figsize=(10,5),\n",
    "           title='Гистограмма распределения признака \"loudness\", значение выше 60дБ, жанр Rock',\n",
    "           grid=True)\n",
    ")\n",
    "ax.set_xlabel('Значение признака')\n",
    "ax.set_ylabel('Частота')\n",
    "plt.show()"
   ]
  },
  {
   "cell_type": "code",
   "execution_count": 77,
   "id": "4962dfc4",
   "metadata": {},
   "outputs": [
    {
     "data": {
      "image/png": "[encoded data removed]",
      "text/plain": [
       "<Figure size 720x360 with 1 Axes>"
      ]
     },
     "metadata": {
      "needs_background": "light"
     },
     "output_type": "display_data"
    }
   ],
   "source": [
    "# распределение песен с треками выше 60дБ, жанр Classical\n",
    "ax =(df_train.query('loudness>60 and music_genre==\"Classical\"')['loudness']\n",
    "     .plot(kind='hist', bins=20,figsize=(10,5),\n",
    "           title='Гистограмма распределения признака \"loudness\", значение выше 60дБ, жанр Classical',\n",
    "           grid=True)\n",
    ")\n",
    "ax.set_xlabel('Значение признака')\n",
    "ax.set_ylabel('Частота')\n",
    "plt.show()"
   ]
  },
  {
   "cell_type": "markdown",
   "id": "ef34b216",
   "metadata": {},
   "source": [
    "Как видно выше, жанр Rock также характерен для треков с `loudness` в районе 77, его можно отличить по этому параметру от классической музыки."
   ]
  },
  {
   "cell_type": "markdown",
   "id": "4aa3502b",
   "metadata": {},
   "source": [
    "Скорее всего, это либо ошибка, либо какие-то особенности музыкальных записей. Скорректируем треки со значением признака свыше 60дБ, вычтя минимальное для этой группы значение."
   ]
  },
  {
   "cell_type": "code",
   "execution_count": 78,
   "id": "7450da43",
   "metadata": {},
   "outputs": [],
   "source": [
    "df_train['loudness_upd'] = df_train['loudness']\n",
    "idx = (df_train['loudness'] >= 60)\n",
    "min_value_over_60 = df_train.loc[idx, 'loudness'].min()\n",
    "df_train.loc[idx, 'loudness_upd'] = df_train.loc[idx, 'loudness'] - min_value_over_60"
   ]
  },
  {
   "cell_type": "markdown",
   "id": "476a4de4",
   "metadata": {},
   "source": [
    "Гистограмма после всех корректировок."
   ]
  },
  {
   "cell_type": "code",
   "execution_count": 79,
   "id": "b94fdbf2",
   "metadata": {},
   "outputs": [
    {
     "data": {
      "image/png": "[encoded data removed]",
      "text/plain": [
       "<Figure size 720x360 with 1 Axes>"
      ]
     },
     "metadata": {
      "needs_background": "light"
     },
     "output_type": "display_data"
    }
   ],
   "source": [
    "ax =(df_train['loudness_upd']\n",
    "     .plot(kind='hist', bins=20,figsize=(10,5),\n",
    "           title='Гистограмма распределения признака \"loudness_upd\"',\n",
    "           grid=True)\n",
    ")\n",
    "ax.set_xlabel('Значение признака')\n",
    "ax.set_ylabel('Частота')\n",
    "plt.show()"
   ]
  },
  {
   "cell_type": "markdown",
   "id": "6d0f4a5f",
   "metadata": {},
   "source": [
    "Аналогичные преобразования проделываются с тестовой выборкой"
   ]
  },
  {
   "cell_type": "code",
   "execution_count": 80,
   "id": "5ddae6ee",
   "metadata": {},
   "outputs": [],
   "source": [
    "df_test['loudness_upd'] = df_test['loudness']\n",
    "idx = (df_test['loudness'] >= 60)\n",
    "# min_value_over_60 = df_train.loc[idx, 'loudness'].min() берем с train\n",
    "df_test.loc[idx, 'loudness_upd'] = df_test.loc[idx, 'loudness'] - min_value_over_60"
   ]
  },
  {
   "cell_type": "markdown",
   "id": "de8ddd22",
   "metadata": {},
   "source": [
    "### Признак `key`:"
   ]
  },
  {
   "cell_type": "markdown",
   "id": "0ef9fb20",
   "metadata": {},
   "source": [
    "Построим barplot распределения признака."
   ]
  },
  {
   "cell_type": "code",
   "execution_count": 81,
   "id": "2d305793",
   "metadata": {},
   "outputs": [
    {
     "data": {
      "image/png": "[encoded data removed]",
      "text/plain": [
       "<Figure size 720x360 with 1 Axes>"
      ]
     },
     "metadata": {
      "needs_background": "light"
     },
     "output_type": "display_data"
    }
   ],
   "source": [
    "(\n",
    "df_train['key']\n",
    "    .value_counts(normalize=True)\n",
    "    .plot(kind='bar', figsize=(10,5),\n",
    "          title='Распределение признака key (нота произведения)',\n",
    "          xlabel='Нота', ylabel='Частота')\n",
    ")\n",
    "plt.show()"
   ]
  },
  {
   "cell_type": "markdown",
   "id": "8c85ad0b",
   "metadata": {},
   "source": [
    "Здесь стоит отметить следующее:\n",
    "- преобладание треков с базовым ключом без #;\n",
    "- наличие категории \"noinfo\", которая превосходит категорию \"D#\";"
   ]
  },
  {
   "cell_type": "markdown",
   "id": "951e90d8",
   "metadata": {},
   "source": [
    "Сделаем модификацию этого признака: аккорды идут слева направо от А до D. Введем порядок, занумировав значения от -1 до 11, где -1 - это пропуски."
   ]
  },
  {
   "cell_type": "code",
   "execution_count": 82,
   "id": "b048385a",
   "metadata": {},
   "outputs": [
    {
     "data": {
      "text/plain": [
       "{'index': {'A': 0,\n",
       "  'A#': 1,\n",
       "  'B': 2,\n",
       "  'C': 3,\n",
       "  'C#': 4,\n",
       "  'D': 5,\n",
       "  'D#': 6,\n",
       "  'E': 7,\n",
       "  'F': 8,\n",
       "  'F#': 9,\n",
       "  'G': 10,\n",
       "  'G#': 11}}"
      ]
     },
     "execution_count": 82,
     "metadata": {},
     "output_type": "execute_result"
    }
   ],
   "source": [
    "for_rep = (df_train.query('key != \"noinfo\"')['key']\n",
    "         .drop_duplicates()\n",
    "         .sort_values()\n",
    "         .reset_index(drop=True)\n",
    "         .reset_index()\n",
    "         .set_index('key')\n",
    "        ).to_dict()\n",
    "    \n",
    "for_rep"
   ]
  },
  {
   "cell_type": "code",
   "execution_count": 83,
   "id": "f13dbc60",
   "metadata": {},
   "outputs": [],
   "source": [
    "# train\n",
    "df_train['key_upd'] = df_train['key'].map(for_rep['index']).fillna(-1)\n",
    "# test\n",
    "df_test['key_upd'] = df_test['key'].map(for_rep['index']).fillna(-1)"
   ]
  },
  {
   "cell_type": "markdown",
   "id": "177d9ac8",
   "metadata": {},
   "source": [
    "### Признак `mode`:"
   ]
  },
  {
   "cell_type": "markdown",
   "id": "2e4e2766",
   "metadata": {},
   "source": [
    "Построим barplot распределения признака."
   ]
  },
  {
   "cell_type": "code",
   "execution_count": 84,
   "id": "58cb1c62",
   "metadata": {},
   "outputs": [
    {
     "data": {
      "image/png": "[encoded data removed]",
      "text/plain": [
       "<Figure size 720x360 with 1 Axes>"
      ]
     },
     "metadata": {
      "needs_background": "light"
     },
     "output_type": "display_data"
    }
   ],
   "source": [
    "(\n",
    "df_train['mode']\n",
    "    .value_counts(normalize=True)\n",
    "    .plot(kind='bar', figsize=(10,5),\n",
    "          title='Распределение признака mode',\n",
    "          xlabel='Нота', ylabel='Частота')\n",
    ")\n",
    "plt.show()"
   ]
  },
  {
   "cell_type": "markdown",
   "id": "fd801dce",
   "metadata": {},
   "source": [
    "Стоит выделить следюущее:\n",
    "- преобладает мажорная тональность (примерно в 2 раза);\n",
    "- есть категория \"noinfo\", в которую попали пропуски в столбце;"
   ]
  },
  {
   "cell_type": "markdown",
   "id": "2d4c250c",
   "metadata": {},
   "source": [
    "### Признак `speechiness`:"
   ]
  },
  {
   "cell_type": "markdown",
   "id": "931123fa",
   "metadata": {},
   "source": [
    "Построим гистограмму распределения признака."
   ]
  },
  {
   "cell_type": "code",
   "execution_count": 85,
   "id": "2e36109a",
   "metadata": {},
   "outputs": [
    {
     "data": {
      "image/png": "[encoded data removed]",
      "text/plain": [
       "<Figure size 720x360 with 1 Axes>"
      ]
     },
     "metadata": {
      "needs_background": "light"
     },
     "output_type": "display_data"
    }
   ],
   "source": [
    "ax =(df_train['speechiness']\n",
    "     .plot(kind='hist', bins=20,figsize=(10,5),\n",
    "           title='Гистограмма распределения признака \"speechiness\"',\n",
    "           grid=True)\n",
    ")\n",
    "ax.set_xlabel('Значение признака')\n",
    "ax.set_ylabel('Частота')\n",
    "plt.show()"
   ]
  },
  {
   "cell_type": "markdown",
   "id": "b3e5b166",
   "metadata": {},
   "source": [
    "На гистограмме видны значения > 1, чего, судя по описанию, быть не должно. Картина распределения признака чем-то похожа на гистограмму признака `loudness`. Рассмотрим распределение признака для значения <=1:"
   ]
  },
  {
   "cell_type": "code",
   "execution_count": 86,
   "id": "c6247ecd",
   "metadata": {},
   "outputs": [
    {
     "data": {
      "image/png": "[encoded data removed]",
      "text/plain": [
       "<Figure size 720x360 with 1 Axes>"
      ]
     },
     "metadata": {
      "needs_background": "light"
     },
     "output_type": "display_data"
    }
   ],
   "source": [
    "ax =(df_train.query('speechiness <= 1')['speechiness']\n",
    "     .plot(kind='hist', bins=20,figsize=(10,5),\n",
    "           title='Гистограмма распределения признака \"speechiness\", значения <=1',\n",
    "           grid=True)\n",
    ")\n",
    "ax.set_xlabel('Значение признака')\n",
    "ax.set_ylabel('Частота')\n",
    "plt.show()"
   ]
  },
  {
   "cell_type": "markdown",
   "id": "08d2430b",
   "metadata": {},
   "source": [
    "Рассмотрим распределение признака для значения >1:"
   ]
  },
  {
   "cell_type": "code",
   "execution_count": 87,
   "id": "a3731322",
   "metadata": {},
   "outputs": [
    {
     "data": {
      "image/png": "[encoded data removed]",
      "text/plain": [
       "<Figure size 720x360 with 1 Axes>"
      ]
     },
     "metadata": {
      "needs_background": "light"
     },
     "output_type": "display_data"
    }
   ],
   "source": [
    "ax =(df_train.query('speechiness > 1')['speechiness']\n",
    "     .plot(kind='hist', bins=20,figsize=(10,5),\n",
    "           title='Гистограмма распределения признака \"speechiness\", значения > 1',\n",
    "           grid=True)\n",
    ")\n",
    "ax.set_xlabel('Значение признака')\n",
    "ax.set_ylabel('Частота')\n",
    "plt.show()"
   ]
  },
  {
   "cell_type": "markdown",
   "id": "7938c943",
   "metadata": {},
   "source": [
    "Ситуация схожа с тем, что было с `loudness`, только параметр отличается.\n",
    "Проделаем аналогичные процедуры по корректировке:"
   ]
  },
  {
   "cell_type": "code",
   "execution_count": 88,
   "id": "c5f59a15",
   "metadata": {},
   "outputs": [],
   "source": [
    "df_train['speechiness_upd'] = df_train['speechiness']\n",
    "idx = (df_train['speechiness'] > 1)\n",
    "df_train.loc[idx,'speechiness_upd'] = (df_train.loc[idx, 'speechiness'] - 1.)"
   ]
  },
  {
   "cell_type": "markdown",
   "id": "e7a43460",
   "metadata": {},
   "source": [
    "Гистограмма после корректировки признака:"
   ]
  },
  {
   "cell_type": "code",
   "execution_count": 89,
   "id": "b4fadb42",
   "metadata": {},
   "outputs": [
    {
     "data": {
      "image/png": "[encoded data removed]",
      "text/plain": [
       "<Figure size 720x360 with 1 Axes>"
      ]
     },
     "metadata": {
      "needs_background": "light"
     },
     "output_type": "display_data"
    }
   ],
   "source": [
    "ax =(df_train['speechiness_upd']\n",
    "     .plot(kind='hist', bins=20,figsize=(10,5),\n",
    "           title='Гистограмма распределения признака \"speechiness\" (после корректировки)',\n",
    "           grid=True)\n",
    ")\n",
    "ax.set_xlabel('Значение признака')\n",
    "ax.set_ylabel('Частота')\n",
    "plt.show()"
   ]
  },
  {
   "cell_type": "markdown",
   "id": "6a00fc97",
   "metadata": {},
   "source": [
    "Аналогичные преобразования выполняются для теста"
   ]
  },
  {
   "cell_type": "code",
   "execution_count": 90,
   "id": "ff4fd0be",
   "metadata": {},
   "outputs": [],
   "source": [
    "df_test['speechiness_upd'] = df_test['speechiness']\n",
    "idx = (df_test['speechiness'] > 1)\n",
    "df_test.loc[idx,'speechiness_upd'] = (df_test.loc[idx, 'speechiness'] - 1.)"
   ]
  },
  {
   "cell_type": "markdown",
   "id": "1aa3c3b7",
   "metadata": {},
   "source": [
    "### Признак `tempo`:"
   ]
  },
  {
   "cell_type": "markdown",
   "id": "509f32c4",
   "metadata": {},
   "source": [
    "Построим гистограмму распределения признака."
   ]
  },
  {
   "cell_type": "code",
   "execution_count": 91,
   "id": "f90e6e39",
   "metadata": {},
   "outputs": [
    {
     "data": {
      "image/png": "[encoded data removed]",
      "text/plain": [
       "<Figure size 720x360 with 1 Axes>"
      ]
     },
     "metadata": {
      "needs_background": "light"
     },
     "output_type": "display_data"
    }
   ],
   "source": [
    "ax =(df_train['tempo']\n",
    "     .plot(kind='hist', bins=20,figsize=(10,5),\n",
    "           title='Гистограмма распределения признака \"tempo\"',\n",
    "           grid=True)\n",
    ")\n",
    "ax.set_xlabel('Значение признака')\n",
    "ax.set_ylabel('Частота')\n",
    "plt.show()"
   ]
  },
  {
   "cell_type": "markdown",
   "id": "fccf302e",
   "metadata": {},
   "source": [
    "На графике видны два пика - один в районе 95, другой - в районе 125. Возможно, какие-то жанры выделятся. Раздели выборку на две части по среднему зачению, равному 120."
   ]
  },
  {
   "cell_type": "code",
   "execution_count": 92,
   "id": "e700602c",
   "metadata": {},
   "outputs": [],
   "source": [
    "share = pd.concat([df_train.query('tempo<=120')['music_genre'].value_counts(normalize=True).rename('tempo_lower_120_share'),\n",
    "                   df_train.query('tempo>120')['music_genre'].value_counts(normalize=True).rename('tempo_over_120_share')],\n",
    "                   axis=1)"
   ]
  },
  {
   "cell_type": "code",
   "execution_count": 93,
   "id": "6c3b4633",
   "metadata": {},
   "outputs": [],
   "source": [
    "mean_tempo = pd.concat([df_train.query('tempo<=120')[['music_genre','tempo']].groupby('music_genre').mean(),\n",
    "                        df_train.query('tempo>120')[['music_genre','tempo']].groupby('music_genre').mean()],\n",
    "                        axis=1)\n",
    "mean_tempo.columns = ['mean_tempo_lower_120','mean_tempo_over_120']"
   ]
  },
  {
   "cell_type": "code",
   "execution_count": 94,
   "id": "b2b68682",
   "metadata": {},
   "outputs": [
    {
     "data": {
      "text/html": [
       "<div>\n",
       "<style scoped>\n",
       "    .dataframe tbody tr th:only-of-type {\n",
       "        vertical-align: middle;\n",
       "    }\n",
       "\n",
       "    .dataframe tbody tr th {\n",
       "        vertical-align: top;\n",
       "    }\n",
       "\n",
       "    .dataframe thead th {\n",
       "        text-align: right;\n",
       "    }\n",
       "</style>\n",
       "<table border=\"1\" class=\"dataframe\">\n",
       "  <thead>\n",
       "    <tr style=\"text-align: right;\">\n",
       "      <th></th>\n",
       "      <th>tempo_lower_120_share</th>\n",
       "      <th>tempo_over_120_share</th>\n",
       "      <th>mean_tempo_lower_120</th>\n",
       "      <th>mean_tempo_over_120</th>\n",
       "    </tr>\n",
       "  </thead>\n",
       "  <tbody>\n",
       "    <tr>\n",
       "      <th>Classical</th>\n",
       "      <td>0.144547</td>\n",
       "      <td>0.062205</td>\n",
       "      <td>87.037911</td>\n",
       "      <td>143.566251</td>\n",
       "    </tr>\n",
       "    <tr>\n",
       "      <th>Jazz</th>\n",
       "      <td>0.142279</td>\n",
       "      <td>0.070650</td>\n",
       "      <td>94.384807</td>\n",
       "      <td>146.336639</td>\n",
       "    </tr>\n",
       "    <tr>\n",
       "      <th>Blues</th>\n",
       "      <td>0.106740</td>\n",
       "      <td>0.103674</td>\n",
       "      <td>97.438108</td>\n",
       "      <td>146.941100</td>\n",
       "    </tr>\n",
       "    <tr>\n",
       "      <th>Country</th>\n",
       "      <td>0.093873</td>\n",
       "      <td>0.116720</td>\n",
       "      <td>97.062827</td>\n",
       "      <td>147.023093</td>\n",
       "    </tr>\n",
       "    <tr>\n",
       "      <th>Anime</th>\n",
       "      <td>0.092218</td>\n",
       "      <td>0.129325</td>\n",
       "      <td>94.522054</td>\n",
       "      <td>149.932519</td>\n",
       "    </tr>\n",
       "    <tr>\n",
       "      <th>Rock</th>\n",
       "      <td>0.090870</td>\n",
       "      <td>0.103170</td>\n",
       "      <td>98.007774</td>\n",
       "      <td>145.142180</td>\n",
       "    </tr>\n",
       "    <tr>\n",
       "      <th>Alternative</th>\n",
       "      <td>0.087990</td>\n",
       "      <td>0.099137</td>\n",
       "      <td>97.366070</td>\n",
       "      <td>147.093917</td>\n",
       "    </tr>\n",
       "    <tr>\n",
       "      <th>Electronic</th>\n",
       "      <td>0.081066</td>\n",
       "      <td>0.135627</td>\n",
       "      <td>99.790734</td>\n",
       "      <td>142.700660</td>\n",
       "    </tr>\n",
       "    <tr>\n",
       "      <th>Hip-Hop</th>\n",
       "      <td>0.080515</td>\n",
       "      <td>0.090880</td>\n",
       "      <td>94.330574</td>\n",
       "      <td>144.899829</td>\n",
       "    </tr>\n",
       "    <tr>\n",
       "      <th>Rap</th>\n",
       "      <td>0.079902</td>\n",
       "      <td>0.088612</td>\n",
       "      <td>95.176239</td>\n",
       "      <td>144.137250</td>\n",
       "    </tr>\n",
       "  </tbody>\n",
       "</table>\n",
       "</div>"
      ],
      "text/plain": [
       "             tempo_lower_120_share  tempo_over_120_share  \\\n",
       "Classical                 0.144547              0.062205   \n",
       "Jazz                      0.142279              0.070650   \n",
       "Blues                     0.106740              0.103674   \n",
       "Country                   0.093873              0.116720   \n",
       "Anime                     0.092218              0.129325   \n",
       "Rock                      0.090870              0.103170   \n",
       "Alternative               0.087990              0.099137   \n",
       "Electronic                0.081066              0.135627   \n",
       "Hip-Hop                   0.080515              0.090880   \n",
       "Rap                       0.079902              0.088612   \n",
       "\n",
       "             mean_tempo_lower_120  mean_tempo_over_120  \n",
       "Classical               87.037911           143.566251  \n",
       "Jazz                    94.384807           146.336639  \n",
       "Blues                   97.438108           146.941100  \n",
       "Country                 97.062827           147.023093  \n",
       "Anime                   94.522054           149.932519  \n",
       "Rock                    98.007774           145.142180  \n",
       "Alternative             97.366070           147.093917  \n",
       "Electronic              99.790734           142.700660  \n",
       "Hip-Hop                 94.330574           144.899829  \n",
       "Rap                     95.176239           144.137250  "
      ]
     },
     "execution_count": 94,
     "metadata": {},
     "output_type": "execute_result"
    }
   ],
   "source": [
    "pd.concat([share,mean_tempo],axis=1)"
   ]
  },
  {
   "cell_type": "markdown",
   "id": "d5031fdf",
   "metadata": {},
   "source": [
    "Как видно из выкладок выше, есть жанры, которые преобладают в группе `tempo_lower_120`. Например, классическая музыка, джаз. Средний темп у первого жанра самый низкий в группе - 89 bpm, а самый редкий жанр в группе - электронная музыка - имеет самый высокий средний тем в группе. \n",
    "\n",
    "И наоборот, в группе `tempo_over_120` у классической музыки самая низкая доля, а у электронной - самая высокая. Что интересно, средний темп у классической музыки находится близко к среднему всей группы.\n",
    "\n",
    "Этот признак точно будет полезен при определении жанра. Что-то корректировать не требуется."
   ]
  },
  {
   "cell_type": "markdown",
   "id": "6ba07436",
   "metadata": {},
   "source": [
    "### Признак `valence`:"
   ]
  },
  {
   "cell_type": "markdown",
   "id": "e171c28d",
   "metadata": {},
   "source": [
    "Построим гистограмму распределения признака."
   ]
  },
  {
   "cell_type": "code",
   "execution_count": 95,
   "id": "4638bbbb",
   "metadata": {},
   "outputs": [
    {
     "data": {
      "image/png": "[encoded data removed]",
      "text/plain": [
       "<Figure size 720x360 with 1 Axes>"
      ]
     },
     "metadata": {
      "needs_background": "light"
     },
     "output_type": "display_data"
    }
   ],
   "source": [
    "ax =(df_train['valence']\n",
    "     .plot(kind='hist', bins=20,figsize=(10,5),\n",
    "           title='Гистограмма распределения признака \"valence\"',\n",
    "           grid=True)\n",
    ")\n",
    "ax.set_xlabel('Значение признака')\n",
    "ax.set_ylabel('Частота')\n",
    "plt.show()"
   ]
  },
  {
   "cell_type": "markdown",
   "id": "4feb32fd",
   "metadata": {},
   "source": [
    "Стоит отметить дисбаланс треков в сторону более грустных. Потенциально признак можно использовать при заполнении признаков `mode` и `tempo`."
   ]
  },
  {
   "cell_type": "markdown",
   "id": "035e93d5",
   "metadata": {},
   "source": [
    "### Корреляции:"
   ]
  },
  {
   "cell_type": "markdown",
   "id": "2b1c01dd",
   "metadata": {},
   "source": [
    "Коэффициент корреляции Пирсона:"
   ]
  },
  {
   "cell_type": "code",
   "execution_count": 96,
   "id": "32bc7dfe",
   "metadata": {},
   "outputs": [
    {
     "data": {
      "text/html": [
       "<div>\n",
       "<style scoped>\n",
       "    .dataframe tbody tr th:only-of-type {\n",
       "        vertical-align: middle;\n",
       "    }\n",
       "\n",
       "    .dataframe tbody tr th {\n",
       "        vertical-align: top;\n",
       "    }\n",
       "\n",
       "    .dataframe thead th {\n",
       "        text-align: right;\n",
       "    }\n",
       "</style>\n",
       "<table border=\"1\" class=\"dataframe\">\n",
       "  <thead>\n",
       "    <tr style=\"text-align: right;\">\n",
       "      <th></th>\n",
       "      <th>popularity</th>\n",
       "      <th>acousticness</th>\n",
       "      <th>danceability</th>\n",
       "      <th>duration_ms</th>\n",
       "      <th>energy</th>\n",
       "      <th>instrumentalness</th>\n",
       "      <th>liveness</th>\n",
       "      <th>tempo</th>\n",
       "      <th>valence</th>\n",
       "      <th>loudness_upd</th>\n",
       "      <th>key_upd</th>\n",
       "      <th>speechiness_upd</th>\n",
       "    </tr>\n",
       "  </thead>\n",
       "  <tbody>\n",
       "    <tr>\n",
       "      <th>popularity</th>\n",
       "      <td>1.000000</td>\n",
       "      <td>-0.269530</td>\n",
       "      <td>0.344767</td>\n",
       "      <td>-0.069012</td>\n",
       "      <td>0.196640</td>\n",
       "      <td>-0.346620</td>\n",
       "      <td>-0.045720</td>\n",
       "      <td>0.036181</td>\n",
       "      <td>0.122092</td>\n",
       "      <td>-0.295076</td>\n",
       "      <td>-0.001925</td>\n",
       "      <td>0.203364</td>\n",
       "    </tr>\n",
       "    <tr>\n",
       "      <th>acousticness</th>\n",
       "      <td>-0.269530</td>\n",
       "      <td>1.000000</td>\n",
       "      <td>-0.343802</td>\n",
       "      <td>0.011434</td>\n",
       "      <td>-0.796240</td>\n",
       "      <td>0.380627</td>\n",
       "      <td>-0.110861</td>\n",
       "      <td>-0.243147</td>\n",
       "      <td>-0.271534</td>\n",
       "      <td>0.732308</td>\n",
       "      <td>0.004560</td>\n",
       "      <td>-0.161642</td>\n",
       "    </tr>\n",
       "    <tr>\n",
       "      <th>danceability</th>\n",
       "      <td>0.344767</td>\n",
       "      <td>-0.343802</td>\n",
       "      <td>1.000000</td>\n",
       "      <td>-0.149722</td>\n",
       "      <td>0.269921</td>\n",
       "      <td>-0.287482</td>\n",
       "      <td>-0.050516</td>\n",
       "      <td>-0.014659</td>\n",
       "      <td>0.439062</td>\n",
       "      <td>-0.390967</td>\n",
       "      <td>-0.017652</td>\n",
       "      <td>0.267883</td>\n",
       "    </tr>\n",
       "    <tr>\n",
       "      <th>duration_ms</th>\n",
       "      <td>-0.069012</td>\n",
       "      <td>0.011434</td>\n",
       "      <td>-0.149722</td>\n",
       "      <td>1.000000</td>\n",
       "      <td>-0.025567</td>\n",
       "      <td>0.122090</td>\n",
       "      <td>0.030405</td>\n",
       "      <td>-0.026252</td>\n",
       "      <td>-0.155917</td>\n",
       "      <td>0.068635</td>\n",
       "      <td>-0.004262</td>\n",
       "      <td>-0.116197</td>\n",
       "    </tr>\n",
       "    <tr>\n",
       "      <th>energy</th>\n",
       "      <td>0.196640</td>\n",
       "      <td>-0.796240</td>\n",
       "      <td>0.269921</td>\n",
       "      <td>-0.025567</td>\n",
       "      <td>1.000000</td>\n",
       "      <td>-0.387406</td>\n",
       "      <td>0.192885</td>\n",
       "      <td>0.276669</td>\n",
       "      <td>0.393593</td>\n",
       "      <td>-0.840292</td>\n",
       "      <td>-0.002971</td>\n",
       "      <td>0.166729</td>\n",
       "    </tr>\n",
       "    <tr>\n",
       "      <th>instrumentalness</th>\n",
       "      <td>-0.346620</td>\n",
       "      <td>0.380627</td>\n",
       "      <td>-0.287482</td>\n",
       "      <td>0.122090</td>\n",
       "      <td>-0.387406</td>\n",
       "      <td>1.000000</td>\n",
       "      <td>-0.096495</td>\n",
       "      <td>-0.132042</td>\n",
       "      <td>-0.272082</td>\n",
       "      <td>0.524473</td>\n",
       "      <td>-0.005111</td>\n",
       "      <td>-0.183808</td>\n",
       "    </tr>\n",
       "    <tr>\n",
       "      <th>liveness</th>\n",
       "      <td>-0.045720</td>\n",
       "      <td>-0.110861</td>\n",
       "      <td>-0.050516</td>\n",
       "      <td>0.030405</td>\n",
       "      <td>0.192885</td>\n",
       "      <td>-0.096495</td>\n",
       "      <td>1.000000</td>\n",
       "      <td>0.047608</td>\n",
       "      <td>0.053358</td>\n",
       "      <td>-0.130979</td>\n",
       "      <td>0.001023</td>\n",
       "      <td>0.118404</td>\n",
       "    </tr>\n",
       "    <tr>\n",
       "      <th>tempo</th>\n",
       "      <td>0.036181</td>\n",
       "      <td>-0.243147</td>\n",
       "      <td>-0.014659</td>\n",
       "      <td>-0.026252</td>\n",
       "      <td>0.276669</td>\n",
       "      <td>-0.132042</td>\n",
       "      <td>0.047608</td>\n",
       "      <td>1.000000</td>\n",
       "      <td>0.112629</td>\n",
       "      <td>-0.253063</td>\n",
       "      <td>0.000357</td>\n",
       "      <td>0.078512</td>\n",
       "    </tr>\n",
       "    <tr>\n",
       "      <th>valence</th>\n",
       "      <td>0.122092</td>\n",
       "      <td>-0.271534</td>\n",
       "      <td>0.439062</td>\n",
       "      <td>-0.155917</td>\n",
       "      <td>0.393593</td>\n",
       "      <td>-0.272082</td>\n",
       "      <td>0.053358</td>\n",
       "      <td>0.112629</td>\n",
       "      <td>1.000000</td>\n",
       "      <td>-0.339614</td>\n",
       "      <td>-0.001262</td>\n",
       "      <td>0.054191</td>\n",
       "    </tr>\n",
       "    <tr>\n",
       "      <th>loudness_upd</th>\n",
       "      <td>-0.295076</td>\n",
       "      <td>0.732308</td>\n",
       "      <td>-0.390967</td>\n",
       "      <td>0.068635</td>\n",
       "      <td>-0.840292</td>\n",
       "      <td>0.524473</td>\n",
       "      <td>-0.130979</td>\n",
       "      <td>-0.253063</td>\n",
       "      <td>-0.339614</td>\n",
       "      <td>1.000000</td>\n",
       "      <td>0.002634</td>\n",
       "      <td>-0.165627</td>\n",
       "    </tr>\n",
       "    <tr>\n",
       "      <th>key_upd</th>\n",
       "      <td>-0.001925</td>\n",
       "      <td>0.004560</td>\n",
       "      <td>-0.017652</td>\n",
       "      <td>-0.004262</td>\n",
       "      <td>-0.002971</td>\n",
       "      <td>-0.005111</td>\n",
       "      <td>0.001023</td>\n",
       "      <td>0.000357</td>\n",
       "      <td>-0.001262</td>\n",
       "      <td>0.002634</td>\n",
       "      <td>1.000000</td>\n",
       "      <td>-0.012303</td>\n",
       "    </tr>\n",
       "    <tr>\n",
       "      <th>speechiness_upd</th>\n",
       "      <td>0.203364</td>\n",
       "      <td>-0.161642</td>\n",
       "      <td>0.267883</td>\n",
       "      <td>-0.116197</td>\n",
       "      <td>0.166729</td>\n",
       "      <td>-0.183808</td>\n",
       "      <td>0.118404</td>\n",
       "      <td>0.078512</td>\n",
       "      <td>0.054191</td>\n",
       "      <td>-0.165627</td>\n",
       "      <td>-0.012303</td>\n",
       "      <td>1.000000</td>\n",
       "    </tr>\n",
       "  </tbody>\n",
       "</table>\n",
       "</div>"
      ],
      "text/plain": [
       "                  popularity  acousticness  danceability  duration_ms  \\\n",
       "popularity          1.000000     -0.269530      0.344767    -0.069012   \n",
       "acousticness       -0.269530      1.000000     -0.343802     0.011434   \n",
       "danceability        0.344767     -0.343802      1.000000    -0.149722   \n",
       "duration_ms        -0.069012      0.011434     -0.149722     1.000000   \n",
       "energy              0.196640     -0.796240      0.269921    -0.025567   \n",
       "instrumentalness   -0.346620      0.380627     -0.287482     0.122090   \n",
       "liveness           -0.045720     -0.110861     -0.050516     0.030405   \n",
       "tempo               0.036181     -0.243147     -0.014659    -0.026252   \n",
       "valence             0.122092     -0.271534      0.439062    -0.155917   \n",
       "loudness_upd       -0.295076      0.732308     -0.390967     0.068635   \n",
       "key_upd            -0.001925      0.004560     -0.017652    -0.004262   \n",
       "speechiness_upd     0.203364     -0.161642      0.267883    -0.116197   \n",
       "\n",
       "                    energy  instrumentalness  liveness     tempo   valence  \\\n",
       "popularity        0.196640         -0.346620 -0.045720  0.036181  0.122092   \n",
       "acousticness     -0.796240          0.380627 -0.110861 -0.243147 -0.271534   \n",
       "danceability      0.269921         -0.287482 -0.050516 -0.014659  0.439062   \n",
       "duration_ms      -0.025567          0.122090  0.030405 -0.026252 -0.155917   \n",
       "energy            1.000000         -0.387406  0.192885  0.276669  0.393593   \n",
       "instrumentalness -0.387406          1.000000 -0.096495 -0.132042 -0.272082   \n",
       "liveness          0.192885         -0.096495  1.000000  0.047608  0.053358   \n",
       "tempo             0.276669         -0.132042  0.047608  1.000000  0.112629   \n",
       "valence           0.393593         -0.272082  0.053358  0.112629  1.000000   \n",
       "loudness_upd     -0.840292          0.524473 -0.130979 -0.253063 -0.339614   \n",
       "key_upd          -0.002971         -0.005111  0.001023  0.000357 -0.001262   \n",
       "speechiness_upd   0.166729         -0.183808  0.118404  0.078512  0.054191   \n",
       "\n",
       "                  loudness_upd   key_upd  speechiness_upd  \n",
       "popularity           -0.295076 -0.001925         0.203364  \n",
       "acousticness          0.732308  0.004560        -0.161642  \n",
       "danceability         -0.390967 -0.017652         0.267883  \n",
       "duration_ms           0.068635 -0.004262        -0.116197  \n",
       "energy               -0.840292 -0.002971         0.166729  \n",
       "instrumentalness      0.524473 -0.005111        -0.183808  \n",
       "liveness             -0.130979  0.001023         0.118404  \n",
       "tempo                -0.253063  0.000357         0.078512  \n",
       "valence              -0.339614 -0.001262         0.054191  \n",
       "loudness_upd          1.000000  0.002634        -0.165627  \n",
       "key_upd               0.002634  1.000000        -0.012303  \n",
       "speechiness_upd      -0.165627 -0.012303         1.000000  "
      ]
     },
     "execution_count": 96,
     "metadata": {},
     "output_type": "execute_result"
    }
   ],
   "source": [
    "df_train.drop(['instance_id','speechiness','loudness'],axis=1).corr()"
   ]
  },
  {
   "cell_type": "markdown",
   "id": "124ffef1",
   "metadata": {},
   "source": [
    "Значения коэффициента корреляции между:\n",
    "-`energy` и `acousticness` = 0.796240, \n",
    "-`loudness_upd` и `energy` = 0.840292\n",
    "-`loudness_upd` и `acousticness` = 0.732308\n",
    "\n",
    "Для линейных моделей это может быть проблемой, если использовать эти признаки вместе."
   ]
  },
  {
   "cell_type": "markdown",
   "id": "34bda185",
   "metadata": {},
   "source": [
    "Расчет корреляции с помощью библиотеки `phik`:"
   ]
  },
  {
   "cell_type": "code",
   "execution_count": 97,
   "id": "22ef122a",
   "metadata": {
    "scrolled": false
   },
   "outputs": [
    {
     "name": "stdout",
     "output_type": "stream",
     "text": [
      "interval columns not set, guessing: ['popularity', 'acousticness', 'danceability', 'duration_ms', 'energy', 'instrumentalness', 'liveness', 'tempo', 'valence', 'loudness_upd', 'key_upd', 'speechiness_upd']\n"
     ]
    },
    {
     "data": {
      "text/html": [
       "<div>\n",
       "<style scoped>\n",
       "    .dataframe tbody tr th:only-of-type {\n",
       "        vertical-align: middle;\n",
       "    }\n",
       "\n",
       "    .dataframe tbody tr th {\n",
       "        vertical-align: top;\n",
       "    }\n",
       "\n",
       "    .dataframe thead th {\n",
       "        text-align: right;\n",
       "    }\n",
       "</style>\n",
       "<table border=\"1\" class=\"dataframe\">\n",
       "  <thead>\n",
       "    <tr style=\"text-align: right;\">\n",
       "      <th></th>\n",
       "      <th>popularity</th>\n",
       "      <th>acousticness</th>\n",
       "      <th>danceability</th>\n",
       "      <th>duration_ms</th>\n",
       "      <th>energy</th>\n",
       "      <th>instrumentalness</th>\n",
       "      <th>key</th>\n",
       "      <th>liveness</th>\n",
       "      <th>mode</th>\n",
       "      <th>tempo</th>\n",
       "      <th>valence</th>\n",
       "      <th>music_genre</th>\n",
       "      <th>loudness_upd</th>\n",
       "      <th>key_upd</th>\n",
       "      <th>speechiness_upd</th>\n",
       "    </tr>\n",
       "  </thead>\n",
       "  <tbody>\n",
       "    <tr>\n",
       "      <th>popularity</th>\n",
       "      <td>1.000000</td>\n",
       "      <td>0.367598</td>\n",
       "      <td>0.368448</td>\n",
       "      <td>0.310381</td>\n",
       "      <td>0.384668</td>\n",
       "      <td>0.368097</td>\n",
       "      <td>0.071851</td>\n",
       "      <td>0.101443</td>\n",
       "      <td>0.020679</td>\n",
       "      <td>0.132318</td>\n",
       "      <td>0.208817</td>\n",
       "      <td>0.798558</td>\n",
       "      <td>0.393551</td>\n",
       "      <td>0.078346</td>\n",
       "      <td>0.258504</td>\n",
       "    </tr>\n",
       "    <tr>\n",
       "      <th>acousticness</th>\n",
       "      <td>0.367598</td>\n",
       "      <td>1.000000</td>\n",
       "      <td>0.488654</td>\n",
       "      <td>0.289092</td>\n",
       "      <td>0.771212</td>\n",
       "      <td>0.474561</td>\n",
       "      <td>0.104843</td>\n",
       "      <td>0.199192</td>\n",
       "      <td>0.029255</td>\n",
       "      <td>0.349387</td>\n",
       "      <td>0.427610</td>\n",
       "      <td>0.667701</td>\n",
       "      <td>0.718045</td>\n",
       "      <td>0.125040</td>\n",
       "      <td>0.227521</td>\n",
       "    </tr>\n",
       "    <tr>\n",
       "      <th>danceability</th>\n",
       "      <td>0.368448</td>\n",
       "      <td>0.488654</td>\n",
       "      <td>1.000000</td>\n",
       "      <td>0.269846</td>\n",
       "      <td>0.540815</td>\n",
       "      <td>0.356735</td>\n",
       "      <td>0.101827</td>\n",
       "      <td>0.128240</td>\n",
       "      <td>0.091530</td>\n",
       "      <td>0.401159</td>\n",
       "      <td>0.563043</td>\n",
       "      <td>0.640276</td>\n",
       "      <td>0.510070</td>\n",
       "      <td>0.127679</td>\n",
       "      <td>0.338505</td>\n",
       "    </tr>\n",
       "    <tr>\n",
       "      <th>duration_ms</th>\n",
       "      <td>0.310381</td>\n",
       "      <td>0.289092</td>\n",
       "      <td>0.269846</td>\n",
       "      <td>1.000000</td>\n",
       "      <td>0.310370</td>\n",
       "      <td>0.357164</td>\n",
       "      <td>0.047269</td>\n",
       "      <td>0.134688</td>\n",
       "      <td>0.048689</td>\n",
       "      <td>0.135191</td>\n",
       "      <td>0.244542</td>\n",
       "      <td>0.410077</td>\n",
       "      <td>0.357961</td>\n",
       "      <td>0.060672</td>\n",
       "      <td>0.171100</td>\n",
       "    </tr>\n",
       "    <tr>\n",
       "      <th>energy</th>\n",
       "      <td>0.384668</td>\n",
       "      <td>0.771212</td>\n",
       "      <td>0.540815</td>\n",
       "      <td>0.310370</td>\n",
       "      <td>1.000000</td>\n",
       "      <td>0.469106</td>\n",
       "      <td>0.096038</td>\n",
       "      <td>0.279899</td>\n",
       "      <td>0.035724</td>\n",
       "      <td>0.400737</td>\n",
       "      <td>0.507685</td>\n",
       "      <td>0.682676</td>\n",
       "      <td>0.846275</td>\n",
       "      <td>0.112720</td>\n",
       "      <td>0.251110</td>\n",
       "    </tr>\n",
       "    <tr>\n",
       "      <th>instrumentalness</th>\n",
       "      <td>0.368097</td>\n",
       "      <td>0.474561</td>\n",
       "      <td>0.356735</td>\n",
       "      <td>0.357164</td>\n",
       "      <td>0.469106</td>\n",
       "      <td>1.000000</td>\n",
       "      <td>0.041161</td>\n",
       "      <td>0.155812</td>\n",
       "      <td>0.089056</td>\n",
       "      <td>0.232144</td>\n",
       "      <td>0.373251</td>\n",
       "      <td>0.572958</td>\n",
       "      <td>0.523428</td>\n",
       "      <td>0.040141</td>\n",
       "      <td>0.201602</td>\n",
       "    </tr>\n",
       "    <tr>\n",
       "      <th>key</th>\n",
       "      <td>0.071851</td>\n",
       "      <td>0.104843</td>\n",
       "      <td>0.101827</td>\n",
       "      <td>0.047269</td>\n",
       "      <td>0.096038</td>\n",
       "      <td>0.041161</td>\n",
       "      <td>1.000000</td>\n",
       "      <td>0.046027</td>\n",
       "      <td>0.298588</td>\n",
       "      <td>0.038527</td>\n",
       "      <td>0.047420</td>\n",
       "      <td>0.164288</td>\n",
       "      <td>0.090981</td>\n",
       "      <td>1.000000</td>\n",
       "      <td>0.110725</td>\n",
       "    </tr>\n",
       "    <tr>\n",
       "      <th>liveness</th>\n",
       "      <td>0.101443</td>\n",
       "      <td>0.199192</td>\n",
       "      <td>0.128240</td>\n",
       "      <td>0.134688</td>\n",
       "      <td>0.279899</td>\n",
       "      <td>0.155812</td>\n",
       "      <td>0.046027</td>\n",
       "      <td>1.000000</td>\n",
       "      <td>0.019539</td>\n",
       "      <td>0.095116</td>\n",
       "      <td>0.148030</td>\n",
       "      <td>0.216075</td>\n",
       "      <td>0.229246</td>\n",
       "      <td>0.046801</td>\n",
       "      <td>0.145318</td>\n",
       "    </tr>\n",
       "    <tr>\n",
       "      <th>mode</th>\n",
       "      <td>0.020679</td>\n",
       "      <td>0.029255</td>\n",
       "      <td>0.091530</td>\n",
       "      <td>0.048689</td>\n",
       "      <td>0.035724</td>\n",
       "      <td>0.089056</td>\n",
       "      <td>0.298588</td>\n",
       "      <td>0.019539</td>\n",
       "      <td>1.000000</td>\n",
       "      <td>0.020740</td>\n",
       "      <td>0.037277</td>\n",
       "      <td>0.251265</td>\n",
       "      <td>0.008672</td>\n",
       "      <td>0.279516</td>\n",
       "      <td>0.087059</td>\n",
       "    </tr>\n",
       "    <tr>\n",
       "      <th>tempo</th>\n",
       "      <td>0.132318</td>\n",
       "      <td>0.349387</td>\n",
       "      <td>0.401159</td>\n",
       "      <td>0.135191</td>\n",
       "      <td>0.400737</td>\n",
       "      <td>0.232144</td>\n",
       "      <td>0.038527</td>\n",
       "      <td>0.095116</td>\n",
       "      <td>0.020740</td>\n",
       "      <td>1.000000</td>\n",
       "      <td>0.280233</td>\n",
       "      <td>0.346493</td>\n",
       "      <td>0.370014</td>\n",
       "      <td>0.042454</td>\n",
       "      <td>0.170462</td>\n",
       "    </tr>\n",
       "    <tr>\n",
       "      <th>valence</th>\n",
       "      <td>0.208817</td>\n",
       "      <td>0.427610</td>\n",
       "      <td>0.563043</td>\n",
       "      <td>0.244542</td>\n",
       "      <td>0.507685</td>\n",
       "      <td>0.373251</td>\n",
       "      <td>0.047420</td>\n",
       "      <td>0.148030</td>\n",
       "      <td>0.037277</td>\n",
       "      <td>0.280233</td>\n",
       "      <td>1.000000</td>\n",
       "      <td>0.476674</td>\n",
       "      <td>0.468820</td>\n",
       "      <td>0.058354</td>\n",
       "      <td>0.140742</td>\n",
       "    </tr>\n",
       "    <tr>\n",
       "      <th>music_genre</th>\n",
       "      <td>0.798558</td>\n",
       "      <td>0.667701</td>\n",
       "      <td>0.640276</td>\n",
       "      <td>0.410077</td>\n",
       "      <td>0.682676</td>\n",
       "      <td>0.572958</td>\n",
       "      <td>0.164288</td>\n",
       "      <td>0.216075</td>\n",
       "      <td>0.251265</td>\n",
       "      <td>0.346493</td>\n",
       "      <td>0.476674</td>\n",
       "      <td>1.000000</td>\n",
       "      <td>0.691952</td>\n",
       "      <td>0.197862</td>\n",
       "      <td>0.501325</td>\n",
       "    </tr>\n",
       "    <tr>\n",
       "      <th>loudness_upd</th>\n",
       "      <td>0.393551</td>\n",
       "      <td>0.718045</td>\n",
       "      <td>0.510070</td>\n",
       "      <td>0.357961</td>\n",
       "      <td>0.846275</td>\n",
       "      <td>0.523428</td>\n",
       "      <td>0.090981</td>\n",
       "      <td>0.229246</td>\n",
       "      <td>0.008672</td>\n",
       "      <td>0.370014</td>\n",
       "      <td>0.468820</td>\n",
       "      <td>0.691952</td>\n",
       "      <td>1.000000</td>\n",
       "      <td>0.107186</td>\n",
       "      <td>0.226613</td>\n",
       "    </tr>\n",
       "    <tr>\n",
       "      <th>key_upd</th>\n",
       "      <td>0.078346</td>\n",
       "      <td>0.125040</td>\n",
       "      <td>0.127679</td>\n",
       "      <td>0.060672</td>\n",
       "      <td>0.112720</td>\n",
       "      <td>0.040141</td>\n",
       "      <td>1.000000</td>\n",
       "      <td>0.046801</td>\n",
       "      <td>0.279516</td>\n",
       "      <td>0.042454</td>\n",
       "      <td>0.058354</td>\n",
       "      <td>0.197862</td>\n",
       "      <td>0.107186</td>\n",
       "      <td>1.000000</td>\n",
       "      <td>0.140373</td>\n",
       "    </tr>\n",
       "    <tr>\n",
       "      <th>speechiness_upd</th>\n",
       "      <td>0.258504</td>\n",
       "      <td>0.227521</td>\n",
       "      <td>0.338505</td>\n",
       "      <td>0.171100</td>\n",
       "      <td>0.251110</td>\n",
       "      <td>0.201602</td>\n",
       "      <td>0.110725</td>\n",
       "      <td>0.145318</td>\n",
       "      <td>0.087059</td>\n",
       "      <td>0.170462</td>\n",
       "      <td>0.140742</td>\n",
       "      <td>0.501325</td>\n",
       "      <td>0.226613</td>\n",
       "      <td>0.140373</td>\n",
       "      <td>1.000000</td>\n",
       "    </tr>\n",
       "  </tbody>\n",
       "</table>\n",
       "</div>"
      ],
      "text/plain": [
       "                  popularity  acousticness  danceability  duration_ms  \\\n",
       "popularity          1.000000      0.367598      0.368448     0.310381   \n",
       "acousticness        0.367598      1.000000      0.488654     0.289092   \n",
       "danceability        0.368448      0.488654      1.000000     0.269846   \n",
       "duration_ms         0.310381      0.289092      0.269846     1.000000   \n",
       "energy              0.384668      0.771212      0.540815     0.310370   \n",
       "instrumentalness    0.368097      0.474561      0.356735     0.357164   \n",
       "key                 0.071851      0.104843      0.101827     0.047269   \n",
       "liveness            0.101443      0.199192      0.128240     0.134688   \n",
       "mode                0.020679      0.029255      0.091530     0.048689   \n",
       "tempo               0.132318      0.349387      0.401159     0.135191   \n",
       "valence             0.208817      0.427610      0.563043     0.244542   \n",
       "music_genre         0.798558      0.667701      0.640276     0.410077   \n",
       "loudness_upd        0.393551      0.718045      0.510070     0.357961   \n",
       "key_upd             0.078346      0.125040      0.127679     0.060672   \n",
       "speechiness_upd     0.258504      0.227521      0.338505     0.171100   \n",
       "\n",
       "                    energy  instrumentalness       key  liveness      mode  \\\n",
       "popularity        0.384668          0.368097  0.071851  0.101443  0.020679   \n",
       "acousticness      0.771212          0.474561  0.104843  0.199192  0.029255   \n",
       "danceability      0.540815          0.356735  0.101827  0.128240  0.091530   \n",
       "duration_ms       0.310370          0.357164  0.047269  0.134688  0.048689   \n",
       "energy            1.000000          0.469106  0.096038  0.279899  0.035724   \n",
       "instrumentalness  0.469106          1.000000  0.041161  0.155812  0.089056   \n",
       "key               0.096038          0.041161  1.000000  0.046027  0.298588   \n",
       "liveness          0.279899          0.155812  0.046027  1.000000  0.019539   \n",
       "mode              0.035724          0.089056  0.298588  0.019539  1.000000   \n",
       "tempo             0.400737          0.232144  0.038527  0.095116  0.020740   \n",
       "valence           0.507685          0.373251  0.047420  0.148030  0.037277   \n",
       "music_genre       0.682676          0.572958  0.164288  0.216075  0.251265   \n",
       "loudness_upd      0.846275          0.523428  0.090981  0.229246  0.008672   \n",
       "key_upd           0.112720          0.040141  1.000000  0.046801  0.279516   \n",
       "speechiness_upd   0.251110          0.201602  0.110725  0.145318  0.087059   \n",
       "\n",
       "                     tempo   valence  music_genre  loudness_upd   key_upd  \\\n",
       "popularity        0.132318  0.208817     0.798558      0.393551  0.078346   \n",
       "acousticness      0.349387  0.427610     0.667701      0.718045  0.125040   \n",
       "danceability      0.401159  0.563043     0.640276      0.510070  0.127679   \n",
       "duration_ms       0.135191  0.244542     0.410077      0.357961  0.060672   \n",
       "energy            0.400737  0.507685     0.682676      0.846275  0.112720   \n",
       "instrumentalness  0.232144  0.373251     0.572958      0.523428  0.040141   \n",
       "key               0.038527  0.047420     0.164288      0.090981  1.000000   \n",
       "liveness          0.095116  0.148030     0.216075      0.229246  0.046801   \n",
       "mode              0.020740  0.037277     0.251265      0.008672  0.279516   \n",
       "tempo             1.000000  0.280233     0.346493      0.370014  0.042454   \n",
       "valence           0.280233  1.000000     0.476674      0.468820  0.058354   \n",
       "music_genre       0.346493  0.476674     1.000000      0.691952  0.197862   \n",
       "loudness_upd      0.370014  0.468820     0.691952      1.000000  0.107186   \n",
       "key_upd           0.042454  0.058354     0.197862      0.107186  1.000000   \n",
       "speechiness_upd   0.170462  0.140742     0.501325      0.226613  0.140373   \n",
       "\n",
       "                  speechiness_upd  \n",
       "popularity               0.258504  \n",
       "acousticness             0.227521  \n",
       "danceability             0.338505  \n",
       "duration_ms              0.171100  \n",
       "energy                   0.251110  \n",
       "instrumentalness         0.201602  \n",
       "key                      0.110725  \n",
       "liveness                 0.145318  \n",
       "mode                     0.087059  \n",
       "tempo                    0.170462  \n",
       "valence                  0.140742  \n",
       "music_genre              0.501325  \n",
       "loudness_upd             0.226613  \n",
       "key_upd                  0.140373  \n",
       "speechiness_upd          1.000000  "
      ]
     },
     "execution_count": 97,
     "metadata": {},
     "output_type": "execute_result"
    }
   ],
   "source": [
    "df_train.drop(['instance_id','track_name','obtained_date','speechiness','loudness'],axis=1).phik_matrix()"
   ]
  },
  {
   "cell_type": "markdown",
   "id": "be4bbd1e",
   "metadata": {},
   "source": [
    "Библиотеки phik подтверждает результаты выше.\n"
   ]
  },
  {
   "cell_type": "markdown",
   "id": "3667eeae",
   "metadata": {},
   "source": [
    "### Заполнение пропусков:"
   ]
  },
  {
   "cell_type": "markdown",
   "id": "6b961930",
   "metadata": {},
   "source": [
    "Попробуем заполнить пропуски в этом признаке исходя из признака `valence`, т.к. признак имеет распределение, которое более-менее покрывает все треки."
   ]
  },
  {
   "cell_type": "code",
   "execution_count": 98,
   "id": "dabbdf95",
   "metadata": {},
   "outputs": [
    {
     "data": {
      "text/html": [
       "<div>\n",
       "<style scoped>\n",
       "    .dataframe tbody tr th:only-of-type {\n",
       "        vertical-align: middle;\n",
       "    }\n",
       "\n",
       "    .dataframe tbody tr th {\n",
       "        vertical-align: top;\n",
       "    }\n",
       "\n",
       "    .dataframe thead th {\n",
       "        text-align: right;\n",
       "    }\n",
       "</style>\n",
       "<table border=\"1\" class=\"dataframe\">\n",
       "  <thead>\n",
       "    <tr style=\"text-align: right;\">\n",
       "      <th></th>\n",
       "      <th>mean</th>\n",
       "      <th>median</th>\n",
       "      <th>count</th>\n",
       "    </tr>\n",
       "    <tr>\n",
       "      <th>group_dance</th>\n",
       "      <th></th>\n",
       "      <th></th>\n",
       "      <th></th>\n",
       "    </tr>\n",
       "  </thead>\n",
       "  <tbody>\n",
       "    <tr>\n",
       "      <th>0</th>\n",
       "      <td>0.333559</td>\n",
       "      <td>0.289</td>\n",
       "      <td>2782</td>\n",
       "    </tr>\n",
       "    <tr>\n",
       "      <th>10</th>\n",
       "      <td>0.470621</td>\n",
       "      <td>0.458</td>\n",
       "      <td>3555</td>\n",
       "    </tr>\n",
       "    <tr>\n",
       "      <th>20</th>\n",
       "      <td>0.519772</td>\n",
       "      <td>0.509</td>\n",
       "      <td>3916</td>\n",
       "    </tr>\n",
       "    <tr>\n",
       "      <th>30</th>\n",
       "      <td>0.552314</td>\n",
       "      <td>0.545</td>\n",
       "      <td>4628</td>\n",
       "    </tr>\n",
       "    <tr>\n",
       "      <th>40</th>\n",
       "      <td>0.570856</td>\n",
       "      <td>0.568</td>\n",
       "      <td>4360</td>\n",
       "    </tr>\n",
       "    <tr>\n",
       "      <th>50</th>\n",
       "      <td>0.592647</td>\n",
       "      <td>0.592</td>\n",
       "      <td>4313</td>\n",
       "    </tr>\n",
       "    <tr>\n",
       "      <th>60</th>\n",
       "      <td>0.614239</td>\n",
       "      <td>0.615</td>\n",
       "      <td>3788</td>\n",
       "    </tr>\n",
       "    <tr>\n",
       "      <th>70</th>\n",
       "      <td>0.627231</td>\n",
       "      <td>0.629</td>\n",
       "      <td>3050</td>\n",
       "    </tr>\n",
       "    <tr>\n",
       "      <th>80</th>\n",
       "      <td>0.654959</td>\n",
       "      <td>0.660</td>\n",
       "      <td>2292</td>\n",
       "    </tr>\n",
       "    <tr>\n",
       "      <th>90</th>\n",
       "      <td>0.670246</td>\n",
       "      <td>0.675</td>\n",
       "      <td>1261</td>\n",
       "    </tr>\n",
       "  </tbody>\n",
       "</table>\n",
       "</div>"
      ],
      "text/plain": [
       "                 mean  median  count\n",
       "group_dance                         \n",
       "0            0.333559   0.289   2782\n",
       "10           0.470621   0.458   3555\n",
       "20           0.519772   0.509   3916\n",
       "30           0.552314   0.545   4628\n",
       "40           0.570856   0.568   4360\n",
       "50           0.592647   0.592   4313\n",
       "60           0.614239   0.615   3788\n",
       "70           0.627231   0.629   3050\n",
       "80           0.654959   0.660   2292\n",
       "90           0.670246   0.675   1261"
      ]
     },
     "metadata": {},
     "output_type": "display_data"
    }
   ],
   "source": [
    "# train\n",
    "# создание категории\n",
    "df_train['group_dance']=((df_train['valence']*100//10)*10).astype(int).astype(str)\n",
    "# таблица для заполнения данных\n",
    "for_fill_dance = df_train[['danceability','group_dance']].groupby('group_dance').agg(func=['mean','median','count'])\n",
    "for_fill_dance.columns = ['mean','median','count']\n",
    "# смотрим результат + количество объектов и выбираем нужный столбец (среднее или медиану)\n",
    "display(for_fill_dance)\n",
    "# заполняем данные в train\n",
    "idx = df_train[df_train['danceability'].isna()].index\n",
    "df_train.loc[idx,['danceability']] = df_train.loc[idx,'group_dance'].map(for_fill_dance.to_dict()['median'])\n",
    "\n",
    "# то же для теста\n",
    "# создание категории\n",
    "df_test['group_dance']=((df_test['valence']*100//10)*10).astype(int).astype(str)\n",
    "# заполняем данные в test\n",
    "idx = df_test[df_test['danceability'].isna()].index\n",
    "df_test.loc[idx,['danceability']] = df_test.loc[idx,'group_dance'].map(for_fill_dance.to_dict()['median'])"
   ]
  },
  {
   "cell_type": "markdown",
   "id": "f5ac9da3",
   "metadata": {},
   "source": [
    "Аналогичным способом заполняем `tempo` по признаку `energy`."
   ]
  },
  {
   "cell_type": "code",
   "execution_count": 99,
   "id": "d0dba3c3",
   "metadata": {},
   "outputs": [
    {
     "data": {
      "text/html": [
       "<div>\n",
       "<style scoped>\n",
       "    .dataframe tbody tr th:only-of-type {\n",
       "        vertical-align: middle;\n",
       "    }\n",
       "\n",
       "    .dataframe tbody tr th {\n",
       "        vertical-align: top;\n",
       "    }\n",
       "\n",
       "    .dataframe thead th {\n",
       "        text-align: right;\n",
       "    }\n",
       "</style>\n",
       "<table border=\"1\" class=\"dataframe\">\n",
       "  <thead>\n",
       "    <tr style=\"text-align: right;\">\n",
       "      <th></th>\n",
       "      <th>mean</th>\n",
       "      <th>median</th>\n",
       "      <th>count</th>\n",
       "    </tr>\n",
       "    <tr>\n",
       "      <th>group_tempo</th>\n",
       "      <th></th>\n",
       "      <th></th>\n",
       "      <th></th>\n",
       "    </tr>\n",
       "  </thead>\n",
       "  <tbody>\n",
       "    <tr>\n",
       "      <th>0</th>\n",
       "      <td>98.747858</td>\n",
       "      <td>91.1000</td>\n",
       "      <td>2189</td>\n",
       "    </tr>\n",
       "    <tr>\n",
       "      <th>10</th>\n",
       "      <td>106.346764</td>\n",
       "      <td>99.9095</td>\n",
       "      <td>1534</td>\n",
       "    </tr>\n",
       "    <tr>\n",
       "      <th>20</th>\n",
       "      <td>111.831261</td>\n",
       "      <td>108.9750</td>\n",
       "      <td>1675</td>\n",
       "    </tr>\n",
       "    <tr>\n",
       "      <th>30</th>\n",
       "      <td>116.256080</td>\n",
       "      <td>114.6330</td>\n",
       "      <td>2116</td>\n",
       "    </tr>\n",
       "    <tr>\n",
       "      <th>40</th>\n",
       "      <td>117.669069</td>\n",
       "      <td>117.2960</td>\n",
       "      <td>3073</td>\n",
       "    </tr>\n",
       "    <tr>\n",
       "      <th>50</th>\n",
       "      <td>118.653088</td>\n",
       "      <td>118.1215</td>\n",
       "      <td>3888</td>\n",
       "    </tr>\n",
       "    <tr>\n",
       "      <th>60</th>\n",
       "      <td>121.554527</td>\n",
       "      <td>120.0465</td>\n",
       "      <td>4402</td>\n",
       "    </tr>\n",
       "    <tr>\n",
       "      <th>70</th>\n",
       "      <td>122.830864</td>\n",
       "      <td>121.4180</td>\n",
       "      <td>4467</td>\n",
       "    </tr>\n",
       "    <tr>\n",
       "      <th>80</th>\n",
       "      <td>126.124651</td>\n",
       "      <td>125.0100</td>\n",
       "      <td>4678</td>\n",
       "    </tr>\n",
       "    <tr>\n",
       "      <th>90</th>\n",
       "      <td>133.539981</td>\n",
       "      <td>132.8640</td>\n",
       "      <td>4165</td>\n",
       "    </tr>\n",
       "  </tbody>\n",
       "</table>\n",
       "</div>"
      ],
      "text/plain": [
       "                   mean    median  count\n",
       "group_tempo                             \n",
       "0             98.747858   91.1000   2189\n",
       "10           106.346764   99.9095   1534\n",
       "20           111.831261  108.9750   1675\n",
       "30           116.256080  114.6330   2116\n",
       "40           117.669069  117.2960   3073\n",
       "50           118.653088  118.1215   3888\n",
       "60           121.554527  120.0465   4402\n",
       "70           122.830864  121.4180   4467\n",
       "80           126.124651  125.0100   4678\n",
       "90           133.539981  132.8640   4165"
      ]
     },
     "metadata": {},
     "output_type": "display_data"
    }
   ],
   "source": [
    "# train\n",
    "df_train['group_tempo']=((df_train['energy']*100//10)*10).astype(int).astype(str)\n",
    "for_fill_tempo = df_train[['tempo','group_tempo']].groupby('group_tempo').agg(func=['mean','median','count'])\n",
    "for_fill_tempo.columns = ['mean','median','count']\n",
    "display(for_fill_tempo)\n",
    "\n",
    "idx = df_train[df_train['tempo'].isna()].index\n",
    "df_train.loc[idx,['tempo']] = df_train.loc[idx,'group_tempo'].map(for_fill_tempo.to_dict()['median'])\n",
    "\n",
    "# то же для теста\n",
    "df_test['group_tempo']=((df_test['energy']*100//10)*10).astype(int).astype(str)\n",
    "idx = df_test[df_test['tempo'].isna()].index\n",
    "df_test.loc[idx,['tempo']] = df_test.loc[idx,'group_tempo'].map(for_fill_tempo.to_dict()['median'])\n",
    "\n"
   ]
  },
  {
   "cell_type": "markdown",
   "id": "4348af88",
   "metadata": {},
   "source": [
    "Аналогичным способом заполняем `popularity` по признаку `danceability`."
   ]
  },
  {
   "cell_type": "code",
   "execution_count": 100,
   "id": "c1226299",
   "metadata": {},
   "outputs": [
    {
     "data": {
      "text/html": [
       "<div>\n",
       "<style scoped>\n",
       "    .dataframe tbody tr th:only-of-type {\n",
       "        vertical-align: middle;\n",
       "    }\n",
       "\n",
       "    .dataframe tbody tr th {\n",
       "        vertical-align: top;\n",
       "    }\n",
       "\n",
       "    .dataframe thead th {\n",
       "        text-align: right;\n",
       "    }\n",
       "</style>\n",
       "<table border=\"1\" class=\"dataframe\">\n",
       "  <thead>\n",
       "    <tr style=\"text-align: right;\">\n",
       "      <th></th>\n",
       "      <th>mean</th>\n",
       "      <th>median</th>\n",
       "      <th>count</th>\n",
       "    </tr>\n",
       "    <tr>\n",
       "      <th>group_pop</th>\n",
       "      <th></th>\n",
       "      <th></th>\n",
       "      <th></th>\n",
       "    </tr>\n",
       "  </thead>\n",
       "  <tbody>\n",
       "    <tr>\n",
       "      <th>0</th>\n",
       "      <td>31.090395</td>\n",
       "      <td>33.0</td>\n",
       "      <td>177</td>\n",
       "    </tr>\n",
       "    <tr>\n",
       "      <th>10</th>\n",
       "      <td>30.971831</td>\n",
       "      <td>32.0</td>\n",
       "      <td>923</td>\n",
       "    </tr>\n",
       "    <tr>\n",
       "      <th>20</th>\n",
       "      <td>33.613422</td>\n",
       "      <td>34.0</td>\n",
       "      <td>1803</td>\n",
       "    </tr>\n",
       "    <tr>\n",
       "      <th>30</th>\n",
       "      <td>37.051613</td>\n",
       "      <td>37.0</td>\n",
       "      <td>3100</td>\n",
       "    </tr>\n",
       "    <tr>\n",
       "      <th>40</th>\n",
       "      <td>40.462664</td>\n",
       "      <td>40.0</td>\n",
       "      <td>5263</td>\n",
       "    </tr>\n",
       "    <tr>\n",
       "      <th>50</th>\n",
       "      <td>42.854839</td>\n",
       "      <td>43.0</td>\n",
       "      <td>7564</td>\n",
       "    </tr>\n",
       "    <tr>\n",
       "      <th>60</th>\n",
       "      <td>44.975577</td>\n",
       "      <td>45.0</td>\n",
       "      <td>6674</td>\n",
       "    </tr>\n",
       "    <tr>\n",
       "      <th>70</th>\n",
       "      <td>48.587610</td>\n",
       "      <td>50.0</td>\n",
       "      <td>4326</td>\n",
       "    </tr>\n",
       "    <tr>\n",
       "      <th>80</th>\n",
       "      <td>52.655022</td>\n",
       "      <td>53.0</td>\n",
       "      <td>2061</td>\n",
       "    </tr>\n",
       "    <tr>\n",
       "      <th>90</th>\n",
       "      <td>55.920904</td>\n",
       "      <td>56.0</td>\n",
       "      <td>354</td>\n",
       "    </tr>\n",
       "  </tbody>\n",
       "</table>\n",
       "</div>"
      ],
      "text/plain": [
       "                mean  median  count\n",
       "group_pop                          \n",
       "0          31.090395    33.0    177\n",
       "10         30.971831    32.0    923\n",
       "20         33.613422    34.0   1803\n",
       "30         37.051613    37.0   3100\n",
       "40         40.462664    40.0   5263\n",
       "50         42.854839    43.0   7564\n",
       "60         44.975577    45.0   6674\n",
       "70         48.587610    50.0   4326\n",
       "80         52.655022    53.0   2061\n",
       "90         55.920904    56.0    354"
      ]
     },
     "metadata": {},
     "output_type": "display_data"
    }
   ],
   "source": [
    "# train\n",
    "df_train['group_pop']=((df_train['danceability']*100//10)*10).astype(int).astype(str)\n",
    "for_fill_pop = df_train[['popularity','group_pop']].groupby('group_pop').agg(func=['mean','median','count'])\n",
    "for_fill_pop.columns = ['mean','median','count']\n",
    "display(for_fill_pop)\n",
    "\n",
    "idx = df_train[df_train['popularity'].isna()].index\n",
    "df_train.loc[idx,['popularity']] = df_train.loc[idx,'group_pop'].map(for_fill_pop.to_dict()['median'])\n",
    "\n",
    "# # то же для теста\n",
    "df_test['group_pop']=((df_test['danceability']*100//10)*10).astype(int).astype(str)\n",
    "idx = df_test[df_test['popularity'].isna()].index\n",
    "df_test.loc[idx,['popularity']] = df_test.loc[idx,'group_pop'].map(for_fill_pop.to_dict()['median'])"
   ]
  },
  {
   "cell_type": "markdown",
   "id": "6a0c792d",
   "metadata": {},
   "source": [
    "Аналогичным способом заполняем `duration_ms` по признаку `danceability`."
   ]
  },
  {
   "cell_type": "code",
   "execution_count": 101,
   "id": "98eac663",
   "metadata": {},
   "outputs": [
    {
     "data": {
      "text/html": [
       "<div>\n",
       "<style scoped>\n",
       "    .dataframe tbody tr th:only-of-type {\n",
       "        vertical-align: middle;\n",
       "    }\n",
       "\n",
       "    .dataframe tbody tr th {\n",
       "        vertical-align: top;\n",
       "    }\n",
       "\n",
       "    .dataframe thead th {\n",
       "        text-align: right;\n",
       "    }\n",
       "</style>\n",
       "<table border=\"1\" class=\"dataframe\">\n",
       "  <thead>\n",
       "    <tr style=\"text-align: right;\">\n",
       "      <th></th>\n",
       "      <th>mean</th>\n",
       "      <th>median</th>\n",
       "      <th>count</th>\n",
       "    </tr>\n",
       "    <tr>\n",
       "      <th>group_dance</th>\n",
       "      <th></th>\n",
       "      <th></th>\n",
       "      <th></th>\n",
       "    </tr>\n",
       "  </thead>\n",
       "  <tbody>\n",
       "    <tr>\n",
       "      <th>0</th>\n",
       "      <td>268893.984164</td>\n",
       "      <td>251107.0</td>\n",
       "      <td>2589</td>\n",
       "    </tr>\n",
       "    <tr>\n",
       "      <th>10</th>\n",
       "      <td>254954.333029</td>\n",
       "      <td>241506.0</td>\n",
       "      <td>3291</td>\n",
       "    </tr>\n",
       "    <tr>\n",
       "      <th>20</th>\n",
       "      <td>248368.184232</td>\n",
       "      <td>235893.0</td>\n",
       "      <td>3691</td>\n",
       "    </tr>\n",
       "    <tr>\n",
       "      <th>30</th>\n",
       "      <td>240733.214827</td>\n",
       "      <td>229667.0</td>\n",
       "      <td>4357</td>\n",
       "    </tr>\n",
       "    <tr>\n",
       "      <th>40</th>\n",
       "      <td>235435.507125</td>\n",
       "      <td>224820.0</td>\n",
       "      <td>4070</td>\n",
       "    </tr>\n",
       "    <tr>\n",
       "      <th>50</th>\n",
       "      <td>233869.062683</td>\n",
       "      <td>222640.0</td>\n",
       "      <td>4100</td>\n",
       "    </tr>\n",
       "    <tr>\n",
       "      <th>60</th>\n",
       "      <td>231666.114438</td>\n",
       "      <td>222506.5</td>\n",
       "      <td>3574</td>\n",
       "    </tr>\n",
       "    <tr>\n",
       "      <th>70</th>\n",
       "      <td>228260.336498</td>\n",
       "      <td>218380.0</td>\n",
       "      <td>2844</td>\n",
       "    </tr>\n",
       "    <tr>\n",
       "      <th>80</th>\n",
       "      <td>223113.527765</td>\n",
       "      <td>215092.0</td>\n",
       "      <td>2143</td>\n",
       "    </tr>\n",
       "    <tr>\n",
       "      <th>90</th>\n",
       "      <td>212048.176865</td>\n",
       "      <td>207413.0</td>\n",
       "      <td>1193</td>\n",
       "    </tr>\n",
       "  </tbody>\n",
       "</table>\n",
       "</div>"
      ],
      "text/plain": [
       "                      mean    median  count\n",
       "group_dance                                \n",
       "0            268893.984164  251107.0   2589\n",
       "10           254954.333029  241506.0   3291\n",
       "20           248368.184232  235893.0   3691\n",
       "30           240733.214827  229667.0   4357\n",
       "40           235435.507125  224820.0   4070\n",
       "50           233869.062683  222640.0   4100\n",
       "60           231666.114438  222506.5   3574\n",
       "70           228260.336498  218380.0   2844\n",
       "80           223113.527765  215092.0   2143\n",
       "90           212048.176865  207413.0   1193"
      ]
     },
     "metadata": {},
     "output_type": "display_data"
    }
   ],
   "source": [
    "# train\n",
    "for_fill_duration = df_train[['duration_ms','group_dance']].groupby('group_dance').agg(func=['mean','median','count'])\n",
    "for_fill_duration.columns = ['mean','median','count']\n",
    "display(for_fill_duration)\n",
    "\n",
    "idx = df_train[df_train['duration_ms'].isna()].index\n",
    "df_train.loc[idx,['duration_ms']] = df_train.loc[idx,'group_dance'].map(for_fill_duration.to_dict()['median'])\n",
    "\n",
    "# то же для теста\n",
    "idx = df_test[df_test['duration_ms'].isna()].index\n",
    "df_test.loc[idx,['duration_ms']] = df_test.loc[idx,'group_dance'].map(for_fill_duration.to_dict()['median'])"
   ]
  },
  {
   "cell_type": "markdown",
   "id": "d69726f3",
   "metadata": {},
   "source": [
    "<b>Выводы по этапу:</b>\n",
    "- На данном этапе были заполнены пропуски у части признаков;\n",
    "- Признаки были проверены на адекватность.\n",
    "- Составлено представление о распределении признаков, дополнительно изучено их описание.\n",
    "- Созданы новые признаки `loudness_upd` и `speechiness_upd`, в которых данные были скорректированы.\n",
    "- Были удалены выбросы, которые определялись по признаку `duration_ms`: удалены объекты со значением > 600 000 м.с.\n",
    "- Изучены корреляции между признаками. Здесь стоит выделить достаточно высокое значение корреляции между признаками `energy` и `acousticness`.\n",
    "- Вместо категориального признака `key` создан `key_upd`."
   ]
  },
  {
   "cell_type": "markdown",
   "id": "74956df4",
   "metadata": {},
   "source": [
    "Список удаленных строк после корректировок:"
   ]
  },
  {
   "cell_type": "code",
   "execution_count": 102,
   "id": "29c65ac2",
   "metadata": {},
   "outputs": [
    {
     "name": "stdout",
     "output_type": "stream",
     "text": [
      "Итого удалено строк исходного массива после предобработки и EDA: 10.57%\n"
     ]
    }
   ],
   "source": [
    "print(f'Итого удалено строк исходного массива после предобработки и EDA: {sum(delete_rows_reasons.values())/df_train_before_count[0]:.2%}')"
   ]
  },
  {
   "cell_type": "markdown",
   "id": "b6d17906",
   "metadata": {},
   "source": [
    "# Этап 4. Подготовка данных. Разбиение, кодирование и масштабирование, создание пайплайна"
   ]
  },
  {
   "cell_type": "markdown",
   "id": "e471faa4",
   "metadata": {},
   "source": [
    "### Разбиение признаков на обучающие и целевой."
   ]
  },
  {
   "cell_type": "code",
   "execution_count": 103,
   "id": "17fd48f9",
   "metadata": {},
   "outputs": [
    {
     "data": {
      "text/plain": [
       "Index(['instance_id', 'track_name', 'popularity', 'acousticness',\n",
       "       'danceability', 'duration_ms', 'energy', 'instrumentalness', 'key',\n",
       "       'liveness', 'loudness', 'mode', 'speechiness', 'tempo', 'obtained_date',\n",
       "       'valence', 'music_genre', 'loudness_upd', 'key_upd', 'speechiness_upd',\n",
       "       'group_dance', 'group_tempo', 'group_pop'],\n",
       "      dtype='object')"
      ]
     },
     "execution_count": 103,
     "metadata": {},
     "output_type": "execute_result"
    }
   ],
   "source": [
    "df_train.columns"
   ]
  },
  {
   "cell_type": "markdown",
   "id": "061709e3",
   "metadata": {},
   "source": [
    "Разбиение:"
   ]
  },
  {
   "cell_type": "code",
   "execution_count": 104,
   "id": "b5c320a4",
   "metadata": {},
   "outputs": [],
   "source": [
    "X = df_train.drop(['instance_id','obtained_date','speechiness','loudness', 'key', \n",
    "                   'track_name','music_genre','group_pop','group_tempo','group_dance'\n",
    "                  ], axis=1)\n",
    "y = df_train['music_genre']\n"
   ]
  },
  {
   "cell_type": "markdown",
   "id": "ae3d4384",
   "metadata": {},
   "source": [
    "Проврерка разбиения:"
   ]
  },
  {
   "cell_type": "code",
   "execution_count": 105,
   "id": "4b897bc5",
   "metadata": {},
   "outputs": [
    {
     "data": {
      "text/html": [
       "<div>\n",
       "<style scoped>\n",
       "    .dataframe tbody tr th:only-of-type {\n",
       "        vertical-align: middle;\n",
       "    }\n",
       "\n",
       "    .dataframe tbody tr th {\n",
       "        vertical-align: top;\n",
       "    }\n",
       "\n",
       "    .dataframe thead th {\n",
       "        text-align: right;\n",
       "    }\n",
       "</style>\n",
       "<table border=\"1\" class=\"dataframe\">\n",
       "  <thead>\n",
       "    <tr style=\"text-align: right;\">\n",
       "      <th></th>\n",
       "      <th>popularity</th>\n",
       "      <th>acousticness</th>\n",
       "      <th>danceability</th>\n",
       "      <th>duration_ms</th>\n",
       "      <th>energy</th>\n",
       "      <th>instrumentalness</th>\n",
       "      <th>liveness</th>\n",
       "      <th>mode</th>\n",
       "      <th>tempo</th>\n",
       "      <th>valence</th>\n",
       "      <th>loudness_upd</th>\n",
       "      <th>key_upd</th>\n",
       "      <th>speechiness_upd</th>\n",
       "    </tr>\n",
       "  </thead>\n",
       "  <tbody>\n",
       "    <tr>\n",
       "      <th>0</th>\n",
       "      <td>33.0</td>\n",
       "      <td>0.000718</td>\n",
       "      <td>0.501</td>\n",
       "      <td>241506.0</td>\n",
       "      <td>0.935</td>\n",
       "      <td>0.020100</td>\n",
       "      <td>0.0831</td>\n",
       "      <td>Minor</td>\n",
       "      <td>144.922</td>\n",
       "      <td>0.1880</td>\n",
       "      <td>5.566</td>\n",
       "      <td>11.0</td>\n",
       "      <td>0.1570</td>\n",
       "    </tr>\n",
       "    <tr>\n",
       "      <th>1</th>\n",
       "      <td>55.0</td>\n",
       "      <td>0.064700</td>\n",
       "      <td>0.282</td>\n",
       "      <td>288333.0</td>\n",
       "      <td>0.738</td>\n",
       "      <td>0.014200</td>\n",
       "      <td>0.2900</td>\n",
       "      <td>Major</td>\n",
       "      <td>126.914</td>\n",
       "      <td>0.2110</td>\n",
       "      <td>5.566</td>\n",
       "      <td>3.0</td>\n",
       "      <td>0.0324</td>\n",
       "    </tr>\n",
       "    <tr>\n",
       "      <th>2</th>\n",
       "      <td>39.0</td>\n",
       "      <td>0.931000</td>\n",
       "      <td>0.364</td>\n",
       "      <td>115240.0</td>\n",
       "      <td>0.349</td>\n",
       "      <td>0.940000</td>\n",
       "      <td>0.1100</td>\n",
       "      <td>noinfo</td>\n",
       "      <td>65.427</td>\n",
       "      <td>0.0891</td>\n",
       "      <td>13.279</td>\n",
       "      <td>-1.0</td>\n",
       "      <td>0.0321</td>\n",
       "    </tr>\n",
       "    <tr>\n",
       "      <th>3</th>\n",
       "      <td>56.0</td>\n",
       "      <td>0.012300</td>\n",
       "      <td>0.332</td>\n",
       "      <td>234638.0</td>\n",
       "      <td>0.847</td>\n",
       "      <td>0.000027</td>\n",
       "      <td>0.2970</td>\n",
       "      <td>Minor</td>\n",
       "      <td>67.230</td>\n",
       "      <td>0.3920</td>\n",
       "      <td>4.513</td>\n",
       "      <td>2.0</td>\n",
       "      <td>0.0910</td>\n",
       "    </tr>\n",
       "    <tr>\n",
       "      <th>4</th>\n",
       "      <td>52.0</td>\n",
       "      <td>0.580000</td>\n",
       "      <td>0.716</td>\n",
       "      <td>221640.0</td>\n",
       "      <td>0.614</td>\n",
       "      <td>0.000014</td>\n",
       "      <td>0.1600</td>\n",
       "      <td>Major</td>\n",
       "      <td>88.006</td>\n",
       "      <td>0.6800</td>\n",
       "      <td>7.099</td>\n",
       "      <td>10.0</td>\n",
       "      <td>0.0360</td>\n",
       "    </tr>\n",
       "  </tbody>\n",
       "</table>\n",
       "</div>"
      ],
      "text/plain": [
       "   popularity  acousticness  danceability  duration_ms  energy  \\\n",
       "0        33.0      0.000718         0.501     241506.0   0.935   \n",
       "1        55.0      0.064700         0.282     288333.0   0.738   \n",
       "2        39.0      0.931000         0.364     115240.0   0.349   \n",
       "3        56.0      0.012300         0.332     234638.0   0.847   \n",
       "4        52.0      0.580000         0.716     221640.0   0.614   \n",
       "\n",
       "   instrumentalness  liveness    mode    tempo  valence  loudness_upd  \\\n",
       "0          0.020100    0.0831   Minor  144.922   0.1880         5.566   \n",
       "1          0.014200    0.2900   Major  126.914   0.2110         5.566   \n",
       "2          0.940000    0.1100  noinfo   65.427   0.0891        13.279   \n",
       "3          0.000027    0.2970   Minor   67.230   0.3920         4.513   \n",
       "4          0.000014    0.1600   Major   88.006   0.6800         7.099   \n",
       "\n",
       "   key_upd  speechiness_upd  \n",
       "0     11.0           0.1570  \n",
       "1      3.0           0.0324  \n",
       "2     -1.0           0.0321  \n",
       "3      2.0           0.0910  \n",
       "4     10.0           0.0360  "
      ]
     },
     "metadata": {},
     "output_type": "display_data"
    },
    {
     "data": {
      "text/plain": [
       "0     Electronic\n",
       "1    Alternative\n",
       "2      Classical\n",
       "3     Electronic\n",
       "4        Country\n",
       "Name: music_genre, dtype: object"
      ]
     },
     "execution_count": 105,
     "metadata": {},
     "output_type": "execute_result"
    }
   ],
   "source": [
    "display(X.head())\n",
    "y.head()"
   ]
  },
  {
   "cell_type": "markdown",
   "id": "287673ad",
   "metadata": {},
   "source": [
    "Выделяются числовые и категориальные признаки:"
   ]
  },
  {
   "cell_type": "code",
   "execution_count": 106,
   "id": "579eb433",
   "metadata": {},
   "outputs": [],
   "source": [
    "num_cols = X.select_dtypes(include='number').columns\n",
    "obj_cols = X.select_dtypes(include='object').columns"
   ]
  },
  {
   "cell_type": "markdown",
   "id": "b56fc707",
   "metadata": {},
   "source": [
    "### Создание Pipeline."
   ]
  },
  {
   "cell_type": "markdown",
   "id": "00d57578",
   "metadata": {},
   "source": [
    "Трансформеры для обработки признаков:"
   ]
  },
  {
   "cell_type": "code",
   "execution_count": 107,
   "id": "17e690e0",
   "metadata": {},
   "outputs": [],
   "source": [
    "# трансформер для масштабирования числовых признаков\n",
    "numeric_transformer = StandardScaler()\n",
    "# трансформер для преобразования категориальных признаков\n",
    "cat_transformer = OneHotEncoder(drop='first')\n",
    "# сборка трансформера для преобразования признаков\n",
    "preproc = ColumnTransformer(transformers=[('num', numeric_transformer, num_cols), \n",
    "                                          ('cat', cat_transformer, obj_cols)],\n",
    "                            remainder='passthrough')"
   ]
  },
  {
   "cell_type": "markdown",
   "id": "10a13fa7",
   "metadata": {},
   "source": [
    "Пайплайны с различными моделями, которые будут подаваться в GridSearchCV."
   ]
  },
  {
   "cell_type": "code",
   "execution_count": 108,
   "id": "854adab0",
   "metadata": {},
   "outputs": [],
   "source": [
    "LogReg = Pipeline(steps=[('prepocessor', preproc), \n",
    "                         ('estimator', LogisticRegression())])\n",
    "DesTree = Pipeline(steps=[('prepocessor', preproc), \n",
    "                          ('estimator', DecisionTreeClassifier(random_state=12345))])\n",
    "RanForest = Pipeline(steps=[('prepocessor', preproc), \n",
    "                            ('estimator', RandomForestClassifier(random_state=12345, n_jobs=-1))])\n",
    "CBC = Pipeline(steps=[('prepocessor', preproc), \n",
    "                      ('estimator', CatBoostClassifier(\n",
    "                                                       early_stopping_rounds=200,\n",
    "                                                       task_type='GPU',\n",
    "                                                       random_state=12345,\n",
    "                                                       # cat_features=obj_cols.to_list(),\n",
    "                                                       verbose=False))])"
   ]
  },
  {
   "cell_type": "code",
   "execution_count": 109,
   "id": "5fda37d3",
   "metadata": {},
   "outputs": [
    {
     "data": {
      "text/plain": [
       "dict_keys(['memory', 'steps', 'verbose', 'prepocessor', 'estimator', 'prepocessor__n_jobs', 'prepocessor__remainder', 'prepocessor__sparse_threshold', 'prepocessor__transformer_weights', 'prepocessor__transformers', 'prepocessor__verbose', 'prepocessor__num', 'prepocessor__cat', 'prepocessor__num__copy', 'prepocessor__num__with_mean', 'prepocessor__num__with_std', 'prepocessor__cat__categories', 'prepocessor__cat__drop', 'prepocessor__cat__dtype', 'prepocessor__cat__handle_unknown', 'prepocessor__cat__sparse', 'estimator__verbose', 'estimator__task_type', 'estimator__random_state', 'estimator__early_stopping_rounds'])"
      ]
     },
     "execution_count": 109,
     "metadata": {},
     "output_type": "execute_result"
    }
   ],
   "source": [
    "CBC.get_params().keys()"
   ]
  },
  {
   "cell_type": "markdown",
   "id": "2a8101de",
   "metadata": {},
   "source": [
    "# Этап 5. Кросс-валидация, выбор модели и предсказание теста."
   ]
  },
  {
   "cell_type": "markdown",
   "id": "137bdf63",
   "metadata": {},
   "source": [
    "Для каждой модели делается свой пайплайн, итоговый результат записывается в result"
   ]
  },
  {
   "cell_type": "code",
   "execution_count": 110,
   "id": "847d6357",
   "metadata": {
    "scrolled": true
   },
   "outputs": [
    {
     "name": "stdout",
     "output_type": "stream",
     "text": [
      "Лучший результат модели Логистическая регрессия = 0.5225608708284134\n",
      "Лучший результат модели Дерево решений = 0.5077438827654309\n",
      "Лучший результат модели Случайный лес = 0.5831142315601482\n",
      "Лучший результат модели CatBoost = 0.6024042049833932\n"
     ]
    }
   ],
   "source": [
    "# словарь, куда будем сохранять результаты\n",
    "results = {}\n",
    "# классы моделей и сетка гиперпараметров для подбора для каждого класса:\n",
    "estimators = {\n",
    "              'Логистическая регрессия': {'estimator': LogReg, \n",
    "                                      'param_grid': {'estimator__penalty': ['l2'],\n",
    "                                                     'estimator__solver':['newton-cg', 'sag' ,'saga','lbfgs'],\n",
    "                                                     'estimator__multi_class': ['ovr', 'multinomial'],\n",
    "                                                    }\n",
    "                                    },\n",
    "              'Дерево решений': {'estimator': DesTree,\n",
    "                                 'param_grid': {'estimator__max_depth': range(10, 30, 2),\n",
    "                                                'estimator__splitter':['best', 'random']\n",
    "                                               }\n",
    "                            }, \n",
    "              'Случайный лес': {'estimator': RanForest,\n",
    "                                 'param_grid': {'estimator__max_depth': range(10, 28, 3),\n",
    "                                                'estimator__n_estimators': range(70, 310, 50)\n",
    "                                               }\n",
    "                                },\n",
    "              'CatBoost': {'estimator': CBC,\n",
    "                                      'param_grid': {'estimator__learning_rate':[0.03, 0.04, 0.05, 0.06],#, 0.2, 0.4],\n",
    "                                                     'estimator__n_estimators': [1000,1100,1200,1300,1400],\n",
    "                                                     'estimator__max_depth': [3,5,6,7],\n",
    "                                                     'estimator__loss_function':['MultiClass']   \n",
    "                                                       }\n",
    "                           } \n",
    "          }\n",
    "# Обучение и запись результата:\n",
    "for name, estimator in estimators.items():\n",
    "    \n",
    "    search = GridSearchCV(estimator=estimator['estimator'], \n",
    "                          param_grid=estimator['param_grid'],\n",
    "                          cv=3,\n",
    "                          scoring='f1_micro')\n",
    "    \n",
    "    results[name]=search.fit(X, y)\n",
    "    print(f'Лучший результат модели {name} = {search.best_score_}')"
   ]
  },
  {
   "cell_type": "markdown",
   "id": "caa417a6",
   "metadata": {},
   "source": [
    "Оценка"
   ]
  },
  {
   "cell_type": "code",
   "execution_count": 111,
   "id": "ea2acf30",
   "metadata": {},
   "outputs": [
    {
     "name": "stdout",
     "output_type": "stream",
     "text": [
      "\n",
      "Топ 3 лучших результата результаты модели Логистическая регрессия :\n"
     ]
    },
    {
     "data": {
      "text/html": [
       "<div>\n",
       "<style scoped>\n",
       "    .dataframe tbody tr th:only-of-type {\n",
       "        vertical-align: middle;\n",
       "    }\n",
       "\n",
       "    .dataframe tbody tr th {\n",
       "        vertical-align: top;\n",
       "    }\n",
       "\n",
       "    .dataframe thead th {\n",
       "        text-align: right;\n",
       "    }\n",
       "</style>\n",
       "<table border=\"1\" class=\"dataframe\">\n",
       "  <thead>\n",
       "    <tr style=\"text-align: right;\">\n",
       "      <th></th>\n",
       "      <th>rank_test_score</th>\n",
       "      <th>mean_test_score</th>\n",
       "      <th>std_test_score</th>\n",
       "    </tr>\n",
       "  </thead>\n",
       "  <tbody>\n",
       "    <tr>\n",
       "      <th>5</th>\n",
       "      <td>1</td>\n",
       "      <td>0.522561</td>\n",
       "      <td>0.001760</td>\n",
       "    </tr>\n",
       "    <tr>\n",
       "      <th>7</th>\n",
       "      <td>1</td>\n",
       "      <td>0.522561</td>\n",
       "      <td>0.001760</td>\n",
       "    </tr>\n",
       "    <tr>\n",
       "      <th>4</th>\n",
       "      <td>3</td>\n",
       "      <td>0.522533</td>\n",
       "      <td>0.001731</td>\n",
       "    </tr>\n",
       "  </tbody>\n",
       "</table>\n",
       "</div>"
      ],
      "text/plain": [
       "   rank_test_score  mean_test_score  std_test_score\n",
       "5                1         0.522561        0.001760\n",
       "7                1         0.522561        0.001760\n",
       "4                3         0.522533        0.001731"
      ]
     },
     "metadata": {},
     "output_type": "display_data"
    },
    {
     "name": "stdout",
     "output_type": "stream",
     "text": [
      "\n",
      "Топ 3 лучших результата результаты модели Дерево решений :\n"
     ]
    },
    {
     "data": {
      "text/html": [
       "<div>\n",
       "<style scoped>\n",
       "    .dataframe tbody tr th:only-of-type {\n",
       "        vertical-align: middle;\n",
       "    }\n",
       "\n",
       "    .dataframe tbody tr th {\n",
       "        vertical-align: top;\n",
       "    }\n",
       "\n",
       "    .dataframe thead th {\n",
       "        text-align: right;\n",
       "    }\n",
       "</style>\n",
       "<table border=\"1\" class=\"dataframe\">\n",
       "  <thead>\n",
       "    <tr style=\"text-align: right;\">\n",
       "      <th></th>\n",
       "      <th>rank_test_score</th>\n",
       "      <th>mean_test_score</th>\n",
       "      <th>std_test_score</th>\n",
       "    </tr>\n",
       "  </thead>\n",
       "  <tbody>\n",
       "    <tr>\n",
       "      <th>0</th>\n",
       "      <td>1</td>\n",
       "      <td>0.507744</td>\n",
       "      <td>0.001436</td>\n",
       "    </tr>\n",
       "    <tr>\n",
       "      <th>2</th>\n",
       "      <td>2</td>\n",
       "      <td>0.503830</td>\n",
       "      <td>0.006365</td>\n",
       "    </tr>\n",
       "    <tr>\n",
       "      <th>3</th>\n",
       "      <td>3</td>\n",
       "      <td>0.487783</td>\n",
       "      <td>0.000632</td>\n",
       "    </tr>\n",
       "  </tbody>\n",
       "</table>\n",
       "</div>"
      ],
      "text/plain": [
       "   rank_test_score  mean_test_score  std_test_score\n",
       "0                1         0.507744        0.001436\n",
       "2                2         0.503830        0.006365\n",
       "3                3         0.487783        0.000632"
      ]
     },
     "metadata": {},
     "output_type": "display_data"
    },
    {
     "name": "stdout",
     "output_type": "stream",
     "text": [
      "\n",
      "Топ 3 лучших результата результаты модели Случайный лес :\n"
     ]
    },
    {
     "data": {
      "text/html": [
       "<div>\n",
       "<style scoped>\n",
       "    .dataframe tbody tr th:only-of-type {\n",
       "        vertical-align: middle;\n",
       "    }\n",
       "\n",
       "    .dataframe tbody tr th {\n",
       "        vertical-align: top;\n",
       "    }\n",
       "\n",
       "    .dataframe thead th {\n",
       "        text-align: right;\n",
       "    }\n",
       "</style>\n",
       "<table border=\"1\" class=\"dataframe\">\n",
       "  <thead>\n",
       "    <tr style=\"text-align: right;\">\n",
       "      <th></th>\n",
       "      <th>rank_test_score</th>\n",
       "      <th>mean_test_score</th>\n",
       "      <th>std_test_score</th>\n",
       "    </tr>\n",
       "  </thead>\n",
       "  <tbody>\n",
       "    <tr>\n",
       "      <th>13</th>\n",
       "      <td>1</td>\n",
       "      <td>0.583114</td>\n",
       "      <td>0.004204</td>\n",
       "    </tr>\n",
       "    <tr>\n",
       "      <th>14</th>\n",
       "      <td>2</td>\n",
       "      <td>0.582723</td>\n",
       "      <td>0.003959</td>\n",
       "    </tr>\n",
       "    <tr>\n",
       "      <th>12</th>\n",
       "      <td>3</td>\n",
       "      <td>0.582527</td>\n",
       "      <td>0.003831</td>\n",
       "    </tr>\n",
       "  </tbody>\n",
       "</table>\n",
       "</div>"
      ],
      "text/plain": [
       "    rank_test_score  mean_test_score  std_test_score\n",
       "13                1         0.583114        0.004204\n",
       "14                2         0.582723        0.003959\n",
       "12                3         0.582527        0.003831"
      ]
     },
     "metadata": {},
     "output_type": "display_data"
    },
    {
     "name": "stdout",
     "output_type": "stream",
     "text": [
      "\n",
      "Топ 3 лучших результата результаты модели CatBoost :\n"
     ]
    },
    {
     "data": {
      "text/html": [
       "<div>\n",
       "<style scoped>\n",
       "    .dataframe tbody tr th:only-of-type {\n",
       "        vertical-align: middle;\n",
       "    }\n",
       "\n",
       "    .dataframe tbody tr th {\n",
       "        vertical-align: top;\n",
       "    }\n",
       "\n",
       "    .dataframe thead th {\n",
       "        text-align: right;\n",
       "    }\n",
       "</style>\n",
       "<table border=\"1\" class=\"dataframe\">\n",
       "  <thead>\n",
       "    <tr style=\"text-align: right;\">\n",
       "      <th></th>\n",
       "      <th>rank_test_score</th>\n",
       "      <th>mean_test_score</th>\n",
       "      <th>std_test_score</th>\n",
       "    </tr>\n",
       "  </thead>\n",
       "  <tbody>\n",
       "    <tr>\n",
       "      <th>33</th>\n",
       "      <td>1</td>\n",
       "      <td>0.602404</td>\n",
       "      <td>0.001281</td>\n",
       "    </tr>\n",
       "    <tr>\n",
       "      <th>32</th>\n",
       "      <td>2</td>\n",
       "      <td>0.602208</td>\n",
       "      <td>0.001743</td>\n",
       "    </tr>\n",
       "    <tr>\n",
       "      <th>29</th>\n",
       "      <td>3</td>\n",
       "      <td>0.602208</td>\n",
       "      <td>0.002940</td>\n",
       "    </tr>\n",
       "  </tbody>\n",
       "</table>\n",
       "</div>"
      ],
      "text/plain": [
       "    rank_test_score  mean_test_score  std_test_score\n",
       "33                1         0.602404        0.001281\n",
       "32                2         0.602208        0.001743\n",
       "29                3         0.602208        0.002940"
      ]
     },
     "metadata": {},
     "output_type": "display_data"
    }
   ],
   "source": [
    "for model_name, model_res in results.items():\n",
    "    print(f\"\\nТоп 3 лучших результата результаты модели {model_name} :\")\n",
    "    display(pd.DataFrame(model_res.cv_results_)[['rank_test_score', \n",
    "                                                'mean_test_score',\n",
    "                                                'std_test_score']]\n",
    "            .sort_values(by='rank_test_score')[:3]\n",
    "           )\n",
    "        "
   ]
  },
  {
   "cell_type": "code",
   "execution_count": 112,
   "id": "46694485",
   "metadata": {},
   "outputs": [],
   "source": [
    "# # запись в файл\n",
    "# for name in results.keys():\n",
    "#     res = pd.DataFrame(results[name].cv_results_).to_csv(f'Лучшие параметры для {name}.csv')"
   ]
  },
  {
   "cell_type": "markdown",
   "id": "a3869900",
   "metadata": {},
   "source": [
    "Выбор модели. Выполянется исходя из метрик `mean_test_score` и `std_test_score`. Значение метрики `std_test_score` должно быть до 0.0025. Выбирается модель с лучшим `mean_test_score`."
   ]
  },
  {
   "cell_type": "code",
   "execution_count": 117,
   "id": "6762cdef",
   "metadata": {},
   "outputs": [
    {
     "data": {
      "text/plain": [
       "{'verbose': False,\n",
       " 'task_type': 'GPU',\n",
       " 'random_state': 12345,\n",
       " 'early_stopping_rounds': 200,\n",
       " 'learning_rate': 0.04,\n",
       " 'loss_function': 'MultiClass',\n",
       " 'max_depth': 6,\n",
       " 'n_estimators': 1300}"
      ]
     },
     "metadata": {},
     "output_type": "display_data"
    }
   ],
   "source": [
    "# Логистическая регрессия\n",
    "# Дерево решений\n",
    "# Случайный лес\n",
    "# CatBoost\n",
    "\n",
    "best_model_name = 'CatBoost'\n",
    "\n",
    "# CatBoost (для обучения)\n",
    "CBC = Pipeline(steps=[('prepocessor', preproc), \n",
    "                      ('estimator', CatBoostClassifier(\n",
    "                                                       early_stopping_rounds=200,\n",
    "                                                       task_type='GPU',\n",
    "                                                       random_state=12345,\n",
    "                                                       # cat_features=obj_cols.to_list(),\n",
    "                                                       verbose=False))])\n",
    "\n",
    "\n",
    "# 1, 2, 3\n",
    "chosen_model = 1\n",
    "model_position = np.where(results[best_model_name].cv_results_['rank_test_score']==chosen_model)[0][0]\n",
    "\n",
    "# Инициализация выбранной модели\n",
    "estimator = CBC.set_params(**results[best_model_name].cv_results_['params'][model_position])\n",
    "# проверка \n",
    "display(estimator['estimator'].get_params())\n",
    "# обучение выбранной модели\n",
    "estimator.fit(X,y)\n",
    "# название признаков в модели\n",
    "features = (list(estimator.named_steps['prepocessor'].transformers_[0][2]) \n",
    "            + list(estimator.named_steps['prepocessor'].transformers_[1][1].get_feature_names(obj_cols)))\n",
    "estimator['estimator'].set_feature_names(features)"
   ]
  },
  {
   "cell_type": "markdown",
   "id": "3a27389e",
   "metadata": {},
   "source": [
    "Предсказание для `Kaggle`"
   ]
  },
  {
   "cell_type": "code",
   "execution_count": 118,
   "id": "f20f5bfd",
   "metadata": {},
   "outputs": [],
   "source": [
    "# обработка тестовых признаков\n",
    "X_test = df_test.drop(['instance_id','obtained_date','speechiness','loudness',\n",
    "                   'track_name','group_pop','group_tempo','group_dance','key'\n",
    "                  ], axis=1)\n",
    "# предсказание \n",
    "predict = estimator.predict(X_test)"
   ]
  },
  {
   "cell_type": "markdown",
   "id": "f669f4a4",
   "metadata": {},
   "source": [
    "Запись в файл:"
   ]
  },
  {
   "cell_type": "code",
   "execution_count": 119,
   "id": "88d4962d",
   "metadata": {},
   "outputs": [],
   "source": [
    "(pd.concat([df_test['instance_id'], pd.Series(predict[:,0], name='music_genre')],axis=1)\n",
    " .to_csv('submission.csv', index=False))"
   ]
  },
  {
   "cell_type": "markdown",
   "id": "9fdabedd",
   "metadata": {},
   "source": [
    "# Этап 6. Влияние признаков на предсказание."
   ]
  },
  {
   "cell_type": "markdown",
   "id": "a1bd69a5",
   "metadata": {},
   "source": [
    "Воспользуемся атрибутом feature_importance_ `Catboost`"
   ]
  },
  {
   "cell_type": "code",
   "execution_count": 120,
   "id": "dc8874dc",
   "metadata": {},
   "outputs": [
    {
     "data": {
      "text/html": [
       "<div>\n",
       "<style scoped>\n",
       "    .dataframe tbody tr th:only-of-type {\n",
       "        vertical-align: middle;\n",
       "    }\n",
       "\n",
       "    .dataframe tbody tr th {\n",
       "        vertical-align: top;\n",
       "    }\n",
       "\n",
       "    .dataframe thead th {\n",
       "        text-align: right;\n",
       "    }\n",
       "</style>\n",
       "<table border=\"1\" class=\"dataframe\">\n",
       "  <thead>\n",
       "    <tr style=\"text-align: right;\">\n",
       "      <th></th>\n",
       "      <th>Feature Id</th>\n",
       "      <th>Importances</th>\n",
       "    </tr>\n",
       "  </thead>\n",
       "  <tbody>\n",
       "    <tr>\n",
       "      <th>0</th>\n",
       "      <td>popularity</td>\n",
       "      <td>30.792015</td>\n",
       "    </tr>\n",
       "    <tr>\n",
       "      <th>1</th>\n",
       "      <td>speechiness_upd</td>\n",
       "      <td>11.283892</td>\n",
       "    </tr>\n",
       "    <tr>\n",
       "      <th>2</th>\n",
       "      <td>danceability</td>\n",
       "      <td>11.086504</td>\n",
       "    </tr>\n",
       "    <tr>\n",
       "      <th>3</th>\n",
       "      <td>instrumentalness</td>\n",
       "      <td>8.700401</td>\n",
       "    </tr>\n",
       "    <tr>\n",
       "      <th>4</th>\n",
       "      <td>acousticness</td>\n",
       "      <td>7.058931</td>\n",
       "    </tr>\n",
       "    <tr>\n",
       "      <th>5</th>\n",
       "      <td>loudness_upd</td>\n",
       "      <td>6.419705</td>\n",
       "    </tr>\n",
       "    <tr>\n",
       "      <th>6</th>\n",
       "      <td>valence</td>\n",
       "      <td>5.567007</td>\n",
       "    </tr>\n",
       "    <tr>\n",
       "      <th>7</th>\n",
       "      <td>duration_ms</td>\n",
       "      <td>4.968689</td>\n",
       "    </tr>\n",
       "    <tr>\n",
       "      <th>8</th>\n",
       "      <td>energy</td>\n",
       "      <td>4.854479</td>\n",
       "    </tr>\n",
       "    <tr>\n",
       "      <th>9</th>\n",
       "      <td>tempo</td>\n",
       "      <td>3.439355</td>\n",
       "    </tr>\n",
       "    <tr>\n",
       "      <th>10</th>\n",
       "      <td>liveness</td>\n",
       "      <td>2.450325</td>\n",
       "    </tr>\n",
       "    <tr>\n",
       "      <th>11</th>\n",
       "      <td>key_upd</td>\n",
       "      <td>1.909953</td>\n",
       "    </tr>\n",
       "    <tr>\n",
       "      <th>12</th>\n",
       "      <td>mode_Minor</td>\n",
       "      <td>1.349727</td>\n",
       "    </tr>\n",
       "    <tr>\n",
       "      <th>13</th>\n",
       "      <td>mode_noinfo</td>\n",
       "      <td>0.119019</td>\n",
       "    </tr>\n",
       "  </tbody>\n",
       "</table>\n",
       "</div>"
      ],
      "text/plain": [
       "          Feature Id  Importances\n",
       "0         popularity    30.792015\n",
       "1    speechiness_upd    11.283892\n",
       "2       danceability    11.086504\n",
       "3   instrumentalness     8.700401\n",
       "4       acousticness     7.058931\n",
       "5       loudness_upd     6.419705\n",
       "6            valence     5.567007\n",
       "7        duration_ms     4.968689\n",
       "8             energy     4.854479\n",
       "9              tempo     3.439355\n",
       "10          liveness     2.450325\n",
       "11           key_upd     1.909953\n",
       "12        mode_Minor     1.349727\n",
       "13       mode_noinfo     0.119019"
      ]
     },
     "execution_count": 120,
     "metadata": {},
     "output_type": "execute_result"
    }
   ],
   "source": [
    "estimator['estimator'].get_feature_importance(prettified=True)"
   ]
  },
  {
   "cell_type": "code",
   "execution_count": 121,
   "id": "b206dfce",
   "metadata": {},
   "outputs": [
    {
     "data": {
      "image/png": "[encoded data removed]",
      "text/plain": [
       "<Figure size 1080x720 with 1 Axes>"
      ]
     },
     "metadata": {
      "needs_background": "light"
     },
     "output_type": "display_data"
    }
   ],
   "source": [
    "ax=(estimator['estimator']\n",
    "   .get_feature_importance(prettified=True)\n",
    "   .rename(columns={'Importances':'Значимость',\n",
    "                  'Feature Id': 'Название признака'}\n",
    "        )\n",
    "   .set_index('Название признака')\n",
    "   .sort_values(by='Значимость')\n",
    "   .plot(kind='barh', \n",
    "         figsize=(15,10),\n",
    "         legend=False)\n",
    "  )\n",
    "ax.set_xlabel('Значимость')\n",
    "ax.set_title('Влияние признаков на результат, который предсказывает модель')\n",
    "\n",
    "plt.show()"
   ]
  },
  {
   "cell_type": "markdown",
   "id": "2925f4ff",
   "metadata": {},
   "source": [
    "Как видно из столбчатой диаграммы:\n",
    "- самый значимый признак при определении жанра оказался `popularity` или популярность трека. Причем отрыв от следующего значимого признака в 3 раза.\n",
    "- следующими примерно одинаковыми по значимости оказались `speechiness_upd` (скорректированная версия исходного признака `speechiness`) и `dancebility`. Эти признаки отвечают за речь в музыкальном треке и танцевальность трека соответственно.\n",
    "- слабо влияющие на результата признаки: `tempo` (темп музыки bpm), `mode_Minor` (признак того, что трек минорный), `liveness` - признак исполнения в живую, `key_upd` - обработанная версия поля `key`. В этой подборке немного странно выглядит поле `tempo`, которое в теории должно было бы неплохо помочь в определении жанра, но, возможно, проблема в обработке или недостаточном понимании данных.\n",
    "- вообще не оказало влияние на результат поле`mode_noinfo`."
   ]
  },
  {
   "cell_type": "markdown",
   "id": "6ed1e9cf",
   "metadata": {},
   "source": [
    "# Этап 7. Итоги. Общий вывод."
   ]
  },
  {
   "cell_type": "markdown",
   "id": "fcf4da6e",
   "metadata": {},
   "source": [
    "<h3>Основные итоги:</h3>\n",
    "\n",
    "<ins>Цель проекта:</ins><br>\n",
    "Разработать алгоритм классификации музыки по 10 жанрам на основании 16 входных параметров. \n",
    "\n",
    "<ins>Метрика проекта:</ins><br>\n",
    "Для контроля качества обучения и результатов использовалась метрика `F1 micro`.\n",
    "\n",
    "<ins>Данные для обучения:</ins><br>\n",
    "Предоставлены музыкальным стриминговым сервисом \"МиФаСоль\". В обучающем датасете 40 000 объектов, в тестовом 10 000 объектов. К данным предоставлено описание.\n",
    "\n",
    "<ins>Рассматриваемы модели:</ins><br>\n",
    "Рассматривались модели из следующих семейств:\n",
    "- Логистическая регрессия (LogisticRegression);\n",
    "- Дерево решений (DecisionTreeClassifier);\n",
    "- Случайный лес (RandomForestClassifier);\n",
    "- Градиентный бустинг (CatBoostClassifier);\n",
    "\n",
    "Параметры подбирались методом GridSearchCV с параметрос cv=3 из набора заданных параметров.\n",
    "\n",
    "<ins>Лучшая модель:</ins><br>\n",
    "Лучшая модель оказалась CatBoostClassifier с параметрами:\n",
    "- `learning_rate` = 0.04;\n",
    "- `max_depth` = 6;\n",
    "- `n_estimators` = 1300\n",
    "- `early_stopping_rounds`=200\n",
    "- `random_state` = 12345\n",
    "- Остальные параметры брались по умолчанию.\n",
    "\n",
    "<ins>Результат модели:</ins><br>\n",
    "На кросс-валидации модель имела следующие результаты:\n",
    "- среднее значение F1 (микро) = 0.602404\t\n",
    "- стандартное отклонение метрики = 0.001281 (или 0.21% от среднего)\n",
    "\n",
    "На 50% тестовой выборки (public) в Kaggle значение F1 (микро) = 0.57780.<br>\n",
    "\n",
    "Результат на Kaggle достаточно сильно выходит за пределы стандартного отлонения от среднего на валидации. Скорее всего причина этого - дубли в тестовых данных. Порядка 9.6% обучающих данных подходили под критерий \"дубли или строки, имеющие дубли\". Эти данные были удалены из выборки. При классификации модель всем строкам с одинаковыми значениями признаков проставит один и тот же жанр, однако у \"проблемных\" треков могут быть разные жанры при одинаковых значениях основных признаков. Модель будет допускать ошибки в классификации, хотя проблема скорее в датасете. Отсюда значение метрики будет ухудшаться.\n",
    "\n",
    "<ins>Результат прочих моделей на кросс-валидации (лучшее решение):</ins><br>\n",
    "- Логистическая регрессия - среднее значение F1 (микро) = 0.522561, стандартное отклонение = 0.001760 (0.34% от среднего);\n",
    "- Дерево решений - среднее значение F1 (микро) = 0.507744, стандартное отклонение = 0.001436 (0.28% от среднего);\n",
    "- Случайный лес - среднее значение F1 (микро) = 0.583114, стандартное отклонение = 0.004204 (0.72% от среднего);\n",
    "\n",
    "\n",
    "<h3>Дополнительно о предобработке и EDA:</h3>\n",
    "\n",
    "<ins>Общий взгляд на данные:</ins><br>\n",
    "Можно выделить следующие моменты:<br>\n",
    "- Не все признаки нужны. Например, дата загрузки, id трека. Также ввиду сложности обработки точно не будет использоваться название трека.\n",
    "- Сами признаки, судя по описанию, являются сторонними оценками записи от разных источников, т.е. популярность - это оценка пользователей, танцевальность оценивается по наличию определенных сочетаний звуков в записи (которая может быть разного качества) и т.д. Это, как видится, не технические параметры записи.\n",
    "- Есть признаки, которые требуют понимания музыкальной темы (`key`, `mode`).\n",
    "- Предложенные классы имеют разную близость по отношению к друг другу. Так, мы понимаем, что классическая музыка и хип хоп сильно отличаются друг от друга, но вот отличить хип хоп и рэп или рок и альтернативу может быть не так просто. С учетом того, какие у нас даны признаки, разделение именно этих жанров может вызвать сложности. В данных это тоже проявляется, т.к. некоторые треки имеют несколько записей с разными жанрами. \n",
    "\n",
    "<ins>Предобработка:</ins><br>\n",
    "\n",
    "В данных есть следующие проблемы:\n",
    "- Пропуски. Часть признаков содержит либо значения NaN, либо заглушку в виде символа '?'.\n",
    "- Неявные дубли. Часть строк пересекается по набору из 5 признаков(включая продолжительность трека), что с большой вероятностью говорит о дублировании данных. У этих строк всегда отличается жанр и обычно признак `популярность`. Остальные расхождения связаны с пропусками в данных.\n",
    "- Неверный тип данных. Числовой столбец с типом данных `object`.\n",
    "\n",
    "Решение:\n",
    "- Пропуски были заполнены по результатам EDA на основнаии категорий, определенных с помощью других признаков.\n",
    "- Неявные дубли были удалены вместе с оригинальными строками, т.к. определить верный вариант не представляется возможным: у трека может определяться два близких жанра, например, рэп и хип хоп, и какой из них правильный без просмотра глазами понять сложно.\n",
    "- Признак с неверным типом данных (`tempo`) был преобразован в числовой тип float64.\n",
    "\n",
    "<ins>EDA:</ins><br>\n",
    "\n",
    "Признаки были исследованы на предмет распределения, выбросов и аномалий. Были выполнены следующие корректировки в данных:\n",
    "- `loudness` (громкость записи). Были скорректированны данные со значениями признака > 60дБ;\n",
    "- `speechiness` (присутствие речи). Были скорректированы даныне со значением признака > 1;\n",
    "- `duration_ms` (длительность в м.с.). Были удалены выбросы (> 600 000 м.с.) и изменены на NA значения -1.\n",
    "\n",
    "\n",
    "<ins>Заполнение пропусков:</ins><br>\n",
    "Признаки `popularity`, `danceability`, `tempo` , `duration_ms` были обработаны в части пропусков. Для заполнения пропусков использовались другие признаки. Например, для заполнения пропусков в признаке `danceability` были выделены интервалы значений признака `valence` - [0,0.1), [0.1,0.2), ...... [0.9,1]. В рамках этих категорий были рассчитаны медиана и среднее признака `danceability`. Пропуски заполнялись значениями, которые соответсвуют указанной категории.\n",
    "\n",
    "<h3>Возможные улучшения (как идеи, не проверялись):</h3>\n",
    "\n",
    "- Изучение дополнительных материалов для улучшения предсказательной сопобности признаков `key` и `mode`.\n",
    "- Группировка данных в более крупные классы с близкими жанрами. Например, слить вместе рок и альтернативу, рэп и хип-хоп. После классификации по крупным классам разделить данные на более мелкие классы.\n",
    "- Изучение диаграмм рассеяния с целью исследовать взаимосвязи между признаками и поулчить новые идеи. Например, признаки `tempo` и `energy` явно имеют связб (нелинейную). Ниже диаграмма рассеяния.\n",
    "\n",
    "\n",
    "\n"
   ]
  },
  {
   "cell_type": "code",
   "execution_count": 154,
   "id": "b997b9d7",
   "metadata": {},
   "outputs": [
    {
     "data": {
      "image/png": "[encoded data removed]",
      "text/plain": [
       "<Figure size 432x288 with 1 Axes>"
      ]
     },
     "metadata": {
      "needs_background": "light"
     },
     "output_type": "display_data"
    }
   ],
   "source": [
    "df_train.plot(x='danceability', \n",
    "              y='tempo', \n",
    "              kind='scatter',\n",
    "              title='Диаграмма рассеяния признаков \"danceability\" и \"tempo\"')\n",
    "plt.show()"
   ]
  },
  {
   "cell_type": "code",
   "execution_count": null,
   "id": "10dea9f9",
   "metadata": {},
   "outputs": [],
   "source": []
  }
 ],
 "metadata": {
  "kernelspec": {
   "display_name": "Python 3",
   "language": "python",
   "name": "python3"
  },
  "language_info": {
   "codemirror_mode": {
    "name": "ipython",
    "version": 3
   },
   "file_extension": ".py",
   "mimetype": "text/x-python",
   "name": "python",
   "nbconvert_exporter": "python",
   "pygments_lexer": "ipython3",
   "version": "3.8.8"
  }
 },
 "nbformat": 4,
 "nbformat_minor": 5
}
